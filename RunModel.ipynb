{
 "cells": [
  {
   "cell_type": "markdown",
   "metadata": {},
   "source": [
    "# SIMPLE-G with CyberGIS-Compute\n",
    "\n",
    "**Notebook Authors:** Alex Michels, Iman Haqiqi\n",
    "\n",
    "This notebook demonstrates how to use [CyberGIS-Compute](https://cybergis.github.io/cybergis-compute-python-sdk/) to run [SIMPLE-G](https://www.gtap.agecon.purdue.edu/simple-g/) models on the [I-GUIDE Platform](https://platform.i-guide.io/)"
   ]
  },
  {
   "cell_type": "code",
   "execution_count": 1,
   "metadata": {},
   "outputs": [],
   "source": [
    "from cybergis_compute_client import CyberGISCompute\n",
    "\n",
    "cybergis = CyberGISCompute(url=\"cgjobsup-test.cigi.illinois.edu\", suffix=\"v2\")"
   ]
  },
  {
   "cell_type": "markdown",
   "metadata": {},
   "source": [
    "Running the job will by default use the following files:\n",
    "\n",
    "* sgmc3_t150_r3g3c3.cmf\n",
    "* config_r3g3c3.har\n",
    "\n",
    "To upload new HAR and CMF files, you can select the file from the Upload Data section. You must select a folder with all of your CMF and HAR files. An example is in `config/example1`.\n",
    "\n",
    "**Note:** The job requires that you upload something\\*. You can upload literally anything. If the data uploaded contains CMF and HAR files, we will use them. If not, we won't.\n",
    "\n",
    "If you want to submit a custome pair of CMF and HAR files, use the provided files as templates. The path for these files will be `//job//data//` (for example, our CMF files have the line `File model_config = //job//data//config_r2g2c2.har;` to specify a HAR file)."
   ]
  },
  {
   "cell_type": "code",
   "execution_count": 2,
   "metadata": {},
   "outputs": [
    {
     "name": "stdout",
     "output_type": "stream",
     "text": [
      "📃 Found \"cybergis_compute_user.json! NOTE: if you want to login as another user, please remove this file\n",
      "🎯 Logged in as michels9@illinois.edu@jupyter.iguide.illinois.edu\n"
     ]
    },
    {
     "data": {
      "application/vnd.jupyter.widget-view+json": {
       "model_id": "2e8a0751f02e41e39852fe45109c5fa1",
       "version_major": 2,
       "version_minor": 0
      },
      "text/plain": [
       "Tab(children=(Output(), Output(), Output(), Output(), Output()), selected_index=0, titles=('Job Configuration'…"
      ]
     },
     "metadata": {},
     "output_type": "display_data"
    }
   ],
   "source": [
    "cybergis.show_ui(defaultJob=\"simple-g\")"
   ]
  },
  {
   "cell_type": "markdown",
   "metadata": {},
   "source": [
    "**After the job completes, go to the \"Download Job Result\" tab and click \"Download\". After you get a \"✅ download success!\" notification, you can view the results, including running the lines below.**"
   ]
  },
  {
   "cell_type": "code",
   "execution_count": 3,
   "metadata": {},
   "outputs": [
    {
     "name": "stdout",
     "output_type": "stream",
     "text": [
      "sgmc3_t150_r3g3c3b-cond.txt  sgmc3_t150_r3g3c3b.LOG\t  slurm_log\n",
      "sgmc3_t150_r3g3c3b_crop.upd  sgmc3_t150_r3g3c3b_nutr.upd\n",
      "sgmc3_t150_r3g3c3b_data.upd  sgmc3_t150_r3g3c3b.sl4\n"
     ]
    }
   ],
   "source": [
    "# you can run this cell to see what the outputs are:\n",
    "!ls {cybergis.recentDownloadPath}"
   ]
  },
  {
   "cell_type": "code",
   "execution_count": 4,
   "metadata": {
    "scrolled": true
   },
   "outputs": [
    {
     "name": "stdout",
     "output_type": "stream",
     "text": [
      "The following modules were not unloaded:\n",
      "  (Use \"module --force purge\" to unload all):\n",
      "\n",
      "  1) xalt/2.10.45\n",
      "No CMF file found in /job/data, copying default...\n",
      "No HAR file found in /job/data, copying default...\n",
      "Contents of the data folder:\n",
      "PlaceLookup.ipynb  README.md  cache  config_r3g3c3.har\tsgmc3_t150_r3g3c3.cmf\n",
      "Changing directories and running SIMPLE-G\n",
      "Running ./sgmc3_t150_r3g3c3.cmf...\n",
      " \n",
      " <simpleg.for 19-APR-2025 (a TABLO-generated program)>\n",
      "   This program accesses some of the routines in the GEMPACK software release\n",
      " <GEMPACK Release 12.1.007   December 2021>\n",
      "  \n",
      " Licence file: /gp12/licen.gem\n",
      " *** Working in developer mode. No licence activation check. ***\n",
      "     -------------------------------------------------------\n",
      "    !            GEMPACK Software System Licence            !\n",
      "    !  Source Code Licence for the GEMPACK Software System  !\n",
      "    !                 Licence No.  GFM-0048                 !\n",
      "    !          Licence for Release 12.1 of GEMPACK          !\n",
      "    !           Center for Global Trade Analysis            !\n",
      "    !         Department of Agricultural Economics          !\n",
      "    !                   Krannert Building                   !\n",
      "    !                   Purdue University                   !\n",
      "     -------------------------------------------------------\n",
      " \n",
      "     << COPYRIGHT 1987-2018: CoPS/Impact and KPSOFT >>\n",
      " \n",
      "  Current directory is: /simple-g\n",
      " \n",
      "  Full path name of running EXE is: /simpleg/bin/sgmc3_2504/simpleg.exe\n",
      "  Fortran compiler = GFUnix version 11.4.0 64 bit\n",
      "  OPENMP number of threads: 1\n",
      "  Gempack source corresponds to revision 1355.\n",
      "  Operating System is #1 SMP Thu Aug 8 17:47:08 UTC 2024\n",
      " \n",
      " \n",
      "  ++++++++++++++++++++++++++++++++++++++++++++++++++++++++++++\n",
      " \n",
      " \n",
      "                    TABLO-GENERATED PROGRAM OPTIONS\n",
      "               ( --> indicates those in effect )\n",
      " \n",
      "       BAT Run in batch              STI Take inputs from a Stored-input file\n",
      "       BPR Brief prompts             SIF Store inputs on a file\n",
      "       LOG Output to log file        ASI Add to incomplete Stored-input file\n",
      "                                     CMF Take inputs from a Command file\n",
      "       EAA Echo all activity           SVX Select variables on XAC file (later)\n",
      "   --> CPU Report CPU times            RQF Required figures agreement (extrap)\n",
      "       NRP Don't reuse pivots        NIR Don't do solution iterative refinement\n",
      "                                 --> IZ1 Ignore zero coefficients in step 1\n",
      "                                     KZ2 Keep zero coefficients in steps 2,3 etc\n",
      "       NEQ Do no equations           NWE Don't warn how well equations solved\n",
      "       NDS Do no displays            SSI Several subintervals; extrap after each\n",
      "       NWR Do no writes              M28 Use MA28 routines (rather than MA48)\n",
      "       NAS Do no assertions          SUI Save updated formula(initial) data\n",
      "       NUD Do no final updates              Extra Options Screen\n",
      "       NSM Don't do simulation              --------------------\n",
      "       NWT Use Newton's method      DTO Display, Terminal/Text write Options\n",
      "       CR  Check-on-read options\n",
      " \n",
      "  Select an option   :  <opt>      Deselect an option      : -<opt>\n",
      "  Help for an option : ?<opt>      Help on all options     : ??\n",
      "  Redisplay options  : /           Finish option selection : Carriage return\n",
      "  \n",
      " (Opened, as text, existing file '/job/data/./sgmc3_t150_r3g3c3.cmf'.)\n",
      "  (Taking inputs from a command file.)\n",
      " (Opened, as text, existing file '/job/data/./sgmc3_t150_r3g3c3.cmf'.)\n",
      " \n",
      "  !  (There is no CREATION information on this file.)\n",
      "  \n",
      " \n",
      "  --> Reading the Command file.\n",
      "  \n",
      "  ! This Command file\n",
      "  ! simpleg_t150\n",
      "  ! was prepared by Iman Haqiqi\n",
      "  ! 2025-04-19\n",
      " \n",
      " ! Specifying TAB file for GEMSIM\n",
      " auxiliary files = simpleg ;\n",
      " \n",
      "  ! Options\n",
      "  ! ------------\n",
      "   start with mmnz = 21867;\n",
      "   LU decompose transpose = yes ;\n",
      "   !dpn = yes ;\n",
      "   cpu = yes ;\n",
      "   udc file = no;\n",
      "   slc file = no;\n",
      "   !neq = yes;\n",
      "   !servants = 2;\n",
      " \n",
      "  ! -------------------\n",
      " \n",
      "  ! Input files\n",
      "  ! ------------\n",
      "   File GRIDSETS = in//GRIDSETS_30m.har ;     !  set file\n",
      "   File GRIDDATA = in//GRIDDATA_30m.har ;     !  base data\n",
      "   File GRIDPARM = in//GRIDPARM_30m_h.har ;   !  parameter values\n",
      "   File GRIDCROP = in//GRIDCROP_gaez_30m.har; ! multi-crop data\n",
      " \n",
      "   File GTAPDATA = gtapv6//basedata.har ; ! GTAP data\n",
      "   File GTAPSETS = gtapv6//sets.har ;     ! GTAP sets\n",
      " \n",
      "  !  Food security\n",
      "   File LANDDATA = in//LANDDATA.har;\n",
      "   File LANDSETS = in//LANDSETS.har ;\n",
      "   File LANDPARM = in//LANDPARM.har ;\n",
      "   Updated file LANDDATA = //job//result//sgmc3_t150_r3g3c3b_nutr.upd ;\n",
      " \n",
      " \n",
      "  ! Output files\n",
      "  ! ------------\n",
      "   LOG file      = //job//result//sgmc3_t150_r3g3c3b.LOG;\n",
      "   Solution file = //job//result//sgmc3_t150_r3g3c3b;\n",
      "   Updated file GRIDDATA = //job//result//sgmc3_t150_r3g3c3b_data.upd ;\n",
      "   Updated file GRIDCROP = //job//result//sgmc3_t150_r3g3c3b_crop.upd ;\n",
      " \n",
      "   condensation information file = //job//result//sgmc3_t150_r3g3c3b-cond.txt;\n",
      " \n",
      "  ! Closure\n",
      "  ! -------\n",
      "  !                   KEY EXOGENOUS VARIABLES\n",
      "  Exogenous  p_INC_PC   ;!per capita income by inc. reg.\n",
      "  Exogenous  p_POP      ;!population by inc. reg.\n",
      "  Exogenous  p_QCRPBIOFr ;!crop demand for global biofuel use\n",
      "  Exogenous  s_QCRPBIOFr ;!crop demand for biofuel use | alternative\n",
      " \n",
      "  Exogenous  p_P(NFOOD_COMM,REG) ;!price of non-food commodities by inc. reg.\n",
      "  Exogenous  p_PNCRPFEED ;!price of non-feed inputs used in livestock prod.\n",
      "  Exogenous  p_PNCRPFOOD ;!price of non-crop inputs used in proc. food prod.\n",
      " \n",
      "  Exogenous QCROPcs_stk;\n",
      " \n",
      "  !Exogenous t_PWATSGg;\n",
      " \n",
      "  !Exogenous s_QWATGRDgl;\n",
      " \n",
      "  !Exogenous s_QWEQPTg;\n",
      " \n",
      "  Exogenous s_QCROPcs;\n",
      " \n",
      "  Exogenous s_QALLr;\n",
      "  Exogenous s_QLANDr;\n",
      " \n",
      "  Exogenous QCROPcs_fix;\n",
      "  Exogenous PCROPcs_fix;\n",
      " \n",
      "  Exogenous  t_PCROPcrb_imp;\n",
      "  Exogenous  t_PCROPcrb_loc;\n",
      "  Exogenous  t_PCROPcrb_tot;\n",
      " \n",
      "  !Exogenous  p_QLAND_MAXg;    !\n",
      "  !Exogenous  p_QSRF_MAXg;     !\n",
      "  !Exogenous  p_QGRD_MAXg;     !\n",
      " \n",
      "  Exogenous  t_PCROPr_imp;\n",
      " \n",
      "  Exogenous p_AOCROPr;\n",
      " \n",
      "   Exogenous s_QTIMBr;\n",
      "   Exogenous s_QGRAZr;\n",
      "   Exogenous s_QTIMBg;\n",
      "   Exogenous s_QGRAZg;\n",
      "   Exogenous s_QDOTHERg;\n",
      " \n",
      "   Exogenous s_QWSRF_NATg;\n",
      "   Exogenous s_QWGRD_NATg;\n",
      " \n",
      "   Exogenous s_QWATGRDg;\n",
      "   Exogenous s_QWATSRFg;\n",
      " \n",
      " \n",
      " \n",
      " \n",
      " !********** MODULE SPECIFIC VARIABLES ***************************************************************************\n",
      " !            Food Security Module\n",
      " Exogenous  CAL_COMM;! caloric content of commodity i consumed in region y\n",
      " Exogenous  MIN_CAL;! minimum caloric consumption per capita in region y\n",
      " Endogenous MIN_CALW;! minimum caloric consumption per capita (global)\n",
      " \n",
      " Endogenous QCONS_GRAM;! food consumption\n",
      " Endogenous MAL_COUNT;! malnutrition count (inc reg)\n",
      " Endogenous MAL_GAP;! malnutrition gap (inc reg)\n",
      " Endogenous MAL_COUNTW;! malnutrition count (global)\n",
      " Endogenous MAL_GAPW;! malnutrition gap (global)\n",
      " \n",
      " Endogenous CALORIES;! total caloric consumption per capita in region y\n",
      " Endogenous CALORIESW;! total caloric consumption per capita (global)\n",
      " Endogenous QPC_GRAM;! grams per capita per day of commodity k consumed in region y\n",
      " \n",
      " Endogenous slack_cal;\n",
      " \n",
      " \n",
      " ! ********** BMI MODULE SPECIFIC VARIABLES ***************************************************************************\n",
      " Exogenous  Cohortf ;! Cohort specific effect on BMI for women\n",
      " Exogenous  Aderf ;! Region and age specific average daily energy requirements for women\n",
      " Exogenous  AD_FPOP;! Women adult population in millions by region and age group\n",
      " \n",
      " Exogenous  Cohortm;! Cohort specific effect on BMI for men\n",
      " Exogenous  Aderm;! Region and age specific average daily energy requirements for men\n",
      " Exogenous  AD_MPOP;! Men adult population in millions by region and age group\n",
      " \n",
      " ! **********  OVERACQUISITION OF CALORIES MODULE *************************************************************************\n",
      " \n",
      " Exogenous  MAX_CAL_f;! caloric requirements intake for an adult women (region)\n",
      " Endogenous MAX_CALW_f;! caloric requirements for an adult women (global)\n",
      " Endogenous OV_CNT_f;! overacquisition count of adult females  (inc reg)\n",
      " Endogenous OV_GP_f;! overacquisition gap in adult women (inc reg)\n",
      " Endogenous OV_CNTW_f;! overacquisition count of adult women (global)\n",
      " Endogenous OV_GPW_f;! overacquisition gap in adult women (global)\n",
      " \n",
      " Exogenous  MAX_CAL_m;! caloric requirements intake for an adult men (region)\n",
      " Endogenous MAX_CALW_m;! caloric requirements for an adult men (global)\n",
      " Endogenous OV_CNT_m;! overacquisition count of adult males  (inc reg)\n",
      " Endogenous OV_GP_m;! overacquisition gap in adult men (inc reg)\n",
      " Endogenous OV_CNTW_m;! overacquisition count of adult men (global)\n",
      " Endogenous OV_GPW_m;! overacquisition gap in adult men (global)\n",
      " \n",
      " Exogenous  MIN_CLF;! minimum caloric consumption per capita in adult women in region y\n",
      " Exogenous  MIN_CLM;! minimum caloric consumption per capita in adult men in region y\n",
      " \n",
      " \n",
      " Exogenous tmcrb;\n",
      " \n",
      " REST Endogenous;\n",
      " \n",
      " \n",
      "  ! Verbal description and solution method\n",
      "  ! ------------------\n",
      " Verbal Description = sgmc3_t150_r3g3c3;\n",
      " Method = Johansen;\n",
      " \n",
      " !Method = Gragg;\n",
      " !Steps = 2 4 6;\n",
      " !subintervals = 1;\n",
      " \n",
      " !Method = Euler;\n",
      " !Steps = 100;\n",
      " !subintervals = 1;\n",
      " \n",
      " \n",
      "  automatic accuracy = no;\n",
      "  accuracy figures = 2;\n",
      "  accuracy percent = 80;\n",
      "  minimum subinterval length =  0.001;\n",
      "  minimum subinterval fails = stop;\n",
      "  accuracy criterion = both;\n",
      " \n",
      " ! ************** !\n",
      " ! Shocks Section !\n",
      " ! ************** !\n",
      " \n",
      " XSet    MDEV # net-importing develping regions#\n",
      "  (E_Euro, N_Afr, SSA, S_Amer, S_Asia, CC_Amer, SE_Asia, CHINA, M_East, C_Asia);\n",
      " XSubset MDEV is subset of REG ;\n",
      " \n",
      " !Swap  s_QALLr(MDEV) = p_MAL_COUNT(MDEV);\n",
      " !Swap  p_AOCROPr(MDEV) = p_MAL_COUNT(MDEV);\n",
      " \n",
      " final_level TMcrb_L = uniform 1.0;\n",
      " !shock tmcrb = uniform 200;\n",
      " \n",
      " File model_config = //job//data//config_r3g3c3.har;\n",
      " \n",
      "  (Finished reading the command file.)\n",
      " \n",
      "  Auxiliary Statement File\n",
      "  ---------------------\n",
      " (Opened, as binary, existing file '/simpleg/bin/sgmc3_2504/simpleg.axs'.)\n",
      " \n",
      "  Auxiliary Table File\n",
      "  -----------------\n",
      " (Opened, as header, existing file '/simpleg/bin/sgmc3_2504/simpleg.axt'.)\n",
      " \n",
      "  !  This file was created at 10:27:09 on 19-APR-2025 by the program\n",
      "  !    <TABLO  Version 7.0   August 2018>\n",
      "  !  which accesses some of the routines in the GEMPACK software release\n",
      "  !    <GEMPACK Release 12.1.007   December 2021>\n",
      "  !  [The program which created this file was compiled with GFUnix.]\n",
      "  \n",
      " Auxiliary Table File was created by TABLO at 10:27:09 on 19-APR-2025\n",
      " [TABLO file used here is \"simpleg.tab\".]\n",
      " [TABLO STI file used here is \"simpleg.sti\".]\n",
      " \n",
      "  (Writing output to log file, and also to the terminal.)\n",
      " (Opened new text file '//job//result//sgmc3_t150_r3g3c3b.LOG'.)\n",
      "  [Reporting CPU times]\n",
      " \n",
      "  (Will LU decompose transpose of LHS Matrix.)\n",
      " \n",
      "  Using Gempack optimized version of LU decompositions\n",
      "  With this option active several old options are obsolete.\n",
      "  These options concern: Markowitz pivots, and those starting with pivots, MA48 and MA28.\n",
      " \n",
      "  Search depth for LU is set to 32\n",
      "  Column Filter threshold is set to 5.0000001E-02\n",
      "  Harwell parameter for reuse is set to -1.000000\n",
      " \n",
      " [This TG-program was created by TABLO at 10:27:09 on 19-APR-2025.]\n",
      " When TABLO was run, GPDIR=\"/gp12\"\n",
      " \n",
      "  [Starting to check \"extra\" statements on the Command file.]\n",
      "  \n",
      " \n",
      "  [Finished checking \"extra\" statements on the Command file.]\n",
      "  \n",
      " \n",
      " ++++++++++++++++++++++++++++++++++++++++++++++++++\n",
      "  This program was written by the GEMPACK program TABLO \n",
      "  as described in the Information file\n",
      "  'simpleg.inf\n",
      " \n",
      "  This run of the TABLO-generated program\n",
      "      o can create the Equations file (for the condensed system)\n",
      "      o can carry out multi-step simulations\n",
      " \n",
      " ++++++++++++++++++++++++++++++++++++++++++++++++++\n",
      " \n",
      "  (Automatic accuracy testing will not be done.)\n",
      " (Range test of updated or extrapolated values will produce warnings.)\n",
      " \n",
      "  (Using Johansen's method.)\n",
      " (Range test of initial values will produce warnings.)\n",
      "  (Model is ''.   Version number is 1.)\n",
      " (Opened new header file '//job//result//sgmc3_t150_r3g3c3b.sl4'.)\n",
      " (Solution file is '//job//result//sgmc3_t150_r3g3c3b.sl4'.)\n",
      " \n",
      "  (Will not produce SLC file.)\n",
      " \n",
      "  (Will not produce UDC file.)\n",
      " (Opened new header file '//job//result//sgmc3_t150_r3g3c3b.slc'.)\n",
      " (Opened, as text, existing file '/job/data/./sgmc3_t150_r3g3c3.cmf'.)\n",
      " \n",
      "  !  (There is no CREATION information on this file.)\n",
      "  \n",
      " \n",
      "  (Data file with logical name 'model_config')\n",
      " (Opened, as header, existing file '//job//data//config_r3g3c3.har'.)\n",
      " \n",
      "  !  This file was created at 4/19/2025 by the program\n",
      "  !    MergeHAR\n",
      "  !  which accesses some of the routines in the GEMPACK software release\n",
      "  !    HARFILE.PAS 10/Dec/2024\n",
      "  !  [The program which created this file was compiled with DELPHI.]\n",
      "  \n",
      " \n",
      "  (Data file with logical name 'GRIDSETS')\n",
      " %%Warning, found a single file using case insensitive matching\n",
      "  which matches GRIDSETS_30m.har.\n",
      "  About to use GRIDSETS_30m.HAR instead.\n",
      "  Please ensure that this was the correct file\n",
      " %%Warning, found a single file using case insensitive matching\n",
      "  which matches GRIDSETS_30m.har.\n",
      "  About to use GRIDSETS_30m.HAR instead.\n",
      "  Please ensure that this was the correct file\n",
      " (Opened, as header, existing file 'in//GRIDSETS_30m.HAR'.)\n",
      " \n",
      "  !  This file was created at 2/27/2025 by the program\n",
      "  !    MergeHAR\n",
      "  !  which accesses some of the routines in the GEMPACK software release\n",
      "  !    HARFILE.PAS 18/Feb/2020\n",
      "  !  [The program which created this file was compiled with DELPHI.]\n",
      "  \n",
      " \n",
      "  (Data file with logical name 'GRIDDATA')\n",
      " %%Warning, found a single file using case insensitive matching\n",
      "  which matches GRIDDATA_30m.har.\n",
      "  About to use GRIDDATA_30m.HAR instead.\n",
      "  Please ensure that this was the correct file\n",
      " %%Warning, found a single file using case insensitive matching\n",
      "  which matches GRIDDATA_30m.har.\n",
      "  About to use GRIDDATA_30m.HAR instead.\n",
      "  Please ensure that this was the correct file\n",
      " (Opened, as header, existing file 'in//GRIDDATA_30m.HAR'.)\n",
      " \n",
      "  !  This file was created at 4/13/2025 3:36:45 PM by the program\n",
      "  !    ViewHAR\n",
      "  !  which accesses some of the routines in the GEMPACK software release\n",
      "  !    HARFILE.PAS 10/Dec/2024\n",
      "  !  [The program which created this file was compiled with DELPHI.]\n",
      "  \n",
      " \n",
      "  (Data file with logical name 'GRIDPARM')\n",
      " %%Warning, found a single file using case insensitive matching\n",
      "  which matches GRIDPARM_30m_h.har.\n",
      "  About to use GRIDPARM_30m_h.HAR instead.\n",
      "  Please ensure that this was the correct file\n",
      " %%Warning, found a single file using case insensitive matching\n",
      "  which matches GRIDPARM_30m_h.har.\n",
      "  About to use GRIDPARM_30m_h.HAR instead.\n",
      "  Please ensure that this was the correct file\n",
      " (Opened, as header, existing file 'in//GRIDPARM_30m_h.HAR'.)\n",
      " \n",
      "  !  This file was created at 4/2/2025 2:38:23 PM by the program\n",
      "  !    ViewHAR\n",
      "  !  which accesses some of the routines in the GEMPACK software release\n",
      "  !    HARFILE.PAS 10/Dec/2024\n",
      "  !  [The program which created this file was compiled with DELPHI.]\n",
      "  \n",
      " \n",
      "  (Data file with logical name 'GTAPDATA')\n",
      " (Opened, as header, existing file 'gtapv6//basedata.har'.)\n",
      " \n",
      "  !  This file was created at 18:14:28 on 21-JAN-2025 by the program\n",
      "  !    <Conv7to6.for 07-MAY-2023> [Conv7to6.tab]\n",
      "  !  which accesses some of the routines in the GEMPACK software release\n",
      "  !    <GEMPACK Release 12.1.003   January 2020>\n",
      "  !  [The program which created this file was compiled with GF64.]\n",
      "  \n",
      " \n",
      "  (Data file with logical name 'GTAPSETS')\n",
      " (Opened, as header, existing file 'gtapv6//sets.har'.)\n",
      " \n",
      "  !  This file was created at 18:14:28 on 21-JAN-2025 by the program\n",
      "  !    <Conv7to6.for 07-MAY-2023> [Conv7to6.tab]\n",
      "  !  which accesses some of the routines in the GEMPACK software release\n",
      "  !    <GEMPACK Release 12.1.003   January 2020>\n",
      "  !  [The program which created this file was compiled with GF64.]\n",
      "  \n",
      " \n",
      "  (Data file with logical name 'GRIDCROP')\n",
      " %%Warning, found a single file using case insensitive matching\n",
      "  which matches GRIDCROP_gaez_30m.har.\n",
      "  About to use GRIDCROP_gaez_30m.HAR instead.\n",
      "  Please ensure that this was the correct file\n",
      " %%Warning, found a single file using case insensitive matching\n",
      "  which matches GRIDCROP_gaez_30m.har.\n",
      "  About to use GRIDCROP_gaez_30m.HAR instead.\n",
      "  Please ensure that this was the correct file\n",
      " (Opened, as header, existing file 'in//GRIDCROP_gaez_30m.HAR'.)\n",
      " \n",
      "  !  This file was created at 4/14/2025 10:05:01 AM by the program\n",
      "  !    AggHAR\n",
      "  !  which accesses some of the routines in the GEMPACK software release\n",
      "  !    HARFILE.PAS 10/Dec/2024\n",
      "  !  [The program which created this file was compiled with DELPHI.]\n",
      "  \n",
      " \n",
      "  (Data file with logical name 'LANDDATA')\n",
      " (Opened, as header, existing file 'in//LANDDATA.har'.)\n",
      " \n",
      "  !  This file was created at 12/3/2020 3:14:45 PM by the program\n",
      "  !    ViewHAR\n",
      "  !  which accesses some of the routines in the GEMPACK software release\n",
      "  !    HARFILE.PAS 11/Oct/2018\n",
      "  !  [The program which created this file was compiled with DELPHI.]\n",
      "  \n",
      " \n",
      "  (Data file with logical name 'LANDPARM')\n",
      " %%Warning, found a single file using case insensitive matching\n",
      "  which matches LANDPARM.har.\n",
      "  About to use LANDPARM.HAR instead.\n",
      "  Please ensure that this was the correct file\n",
      " %%Warning, found a single file using case insensitive matching\n",
      "  which matches LANDPARM.har.\n",
      "  About to use LANDPARM.HAR instead.\n",
      "  Please ensure that this was the correct file\n",
      " (Opened, as header, existing file 'in//LANDPARM.HAR'.)\n",
      " \n",
      "  !  This file was created at 12/3/2020 12:47:38 PM by the program\n",
      "  !    ViewHAR\n",
      "  !  which accesses some of the routines in the GEMPACK software release\n",
      "  !    HARFILE.PAS 11/Oct/2018\n",
      "  !  [The program which created this file was compiled with DELPHI.]\n",
      "  \n",
      " \n",
      "  (Data file with logical name 'LANDSETS')\n",
      " (Opened, as header, existing file 'in//LANDSETS.har'.)\n",
      " \n",
      "  !  This file was created at 12/3/2020 12:49:21 PM by the program\n",
      "  !    ViewHAR\n",
      "  !  which accesses some of the routines in the GEMPACK software release\n",
      "  !    HARFILE.PAS 11/Oct/2018\n",
      "  !  [The program which created this file was compiled with DELPHI.]\n",
      "  \n",
      " \n",
      "  UPDATED VERSION OF DATA FILE WITH LOGICAL NAME 'GRIDDATA\n",
      "  ---------------------------------------------------------\n",
      " (Opened new header file '//job//result//sgmc3_t150_r3g3c3b_data.upd'.)\n",
      " \n",
      "  UPDATED VERSION OF DATA FILE WITH LOGICAL NAME 'GRIDCROP\n",
      "  ---------------------------------------------------------\n",
      " (Opened new header file '//job//result//sgmc3_t150_r3g3c3b_crop.upd'.)\n",
      " \n",
      "  UPDATED VERSION OF DATA FILE WITH LOGICAL NAME 'LANDDATA\n",
      "  ---------------------------------------------------------\n",
      " (Opened new header file '//job//result//sgmc3_t150_r3g3c3b_nutr.upd'.)\n",
      " \n",
      "  (Starting with MMNZ=21867, MMNZ1=21867, MMNZ2=21867.)\n",
      " \n",
      "  --->  Beginning the preliminary pass (aimed at sets and subsets).\n",
      " Set 'REG'\n",
      " (Opened, as header, existing file 'in//GRIDSETS_30m.HAR'.)\n",
      "   [Set has size 17.]\n",
      " Set 'CONS_COMM'\n",
      "   [Set has size 4.]\n",
      " Set 'FOOD_COMM'\n",
      "   [Set has size 3.]\n",
      " 'FOOD_COMM' as a subset of 'CONS_COMM'\n",
      " Set 'NFOOD_COMM'\n",
      "   [Set has size 1.]\n",
      " 'NFOOD_COMM' as a subset of 'CONS_COMM'\n",
      " Set 'COEF'\n",
      "   [Set has size 2.]\n",
      " Set 'GRID'\n",
      "   [Set has size 42996.]\n",
      " Set 'LTYPE'\n",
      "   [Set has size 2.]\n",
      " Reading GRID2REG(GRID)\n",
      " (Read integer array, size 42996, header \"MAP1\".)\n",
      " Set 'S@Irrigated'\n",
      "   [Set has size 1.]\n",
      " 'S@Irrigated' as a subset of 'LTYPE'\n",
      " Set 'S@Rainfed'\n",
      "   [Set has size 1.]\n",
      " 'S@Rainfed' as a subset of 'LTYPE'\n",
      " Set 'SUBREG'\n",
      "   [Set has size 135.]\n",
      " Reading GRID2SREG(GRID)\n",
      " (Read integer array, size 42996, header \"MAP3\".)\n",
      " Reading SREG2REG(SUBREG)\n",
      " (Read integer array, size 135, header \"MAP4\".)\n",
      " Set 'TRAD_COMM'\n",
      " (Opened, as header, existing file 'gtapv6//sets.har'.)\n",
      "   [Set has size 11.]\n",
      " Set 'ENDW_COMM'\n",
      "   [Set has size 3.]\n",
      " Set 'CGDS'\n",
      "   [Set has size 1.]\n",
      " Set 'PROD_COMM'\n",
      "   [Set has size 12.]\n",
      " 'TRAD_COMM' as a subset of 'PROD_COMM'\n",
      " 'CGDS' as a subset of 'PROD_COMM'\n",
      " Set 'CROP'\n",
      " (Opened, as header, existing file 'in//GRIDCROP_gaez_30m.HAR'.)\n",
      "   [Set has size 8.]\n",
      " 'CROP' as a subset of 'TRAD_COMM'\n",
      " 'CROP' as a subset of 'PROD_COMM'\n",
      " Set 'S@labor'\n",
      "   [Set has size 1.]\n",
      " 'S@labor' as a subset of 'ENDW_COMM'\n",
      " Set 'MKT'\n",
      " (Opened, as header, existing file 'in//GRIDSETS_30m.HAR'.)\n",
      "   [Set has size 2.]\n",
      " Set 'BUYER'\n",
      "   [Set has size 3.]\n",
      " 'BUYER' as a subset of 'FOOD_COMM'\n",
      " 'BUYER' as a subset of 'CONS_COMM'\n",
      " Set 'S@US'\n",
      "   [Set has size 1.]\n",
      " 'S@US' as a subset of 'REG'\n",
      "  Formula for set 'US_GRID'\n",
      " Set 'US_GRID'\n",
      "   [Set has size 3306.]\n",
      " 'US_GRID' as a subset of 'GRID'\n",
      " Set 'S@BRA'\n",
      "   [Set has size 1.]\n",
      " 'S@BRA' as a subset of 'REG'\n",
      "  Formula for set 'BR_GRID'\n",
      " Set 'BR_GRID'\n",
      "   [Set has size 2803.]\n",
      " 'BR_GRID' as a subset of 'GRID'\n",
      " Set 'S@CHINA'\n",
      "   [Set has size 1.]\n",
      " 'S@CHINA' as a subset of 'REG'\n",
      "  Formula for set 'CH_GRID'\n",
      " Set 'CH_GRID'\n",
      "   [Set has size 3668.]\n",
      " 'CH_GRID' as a subset of 'GRID'\n",
      " (Opened, as header, existing file 'in//GRIDCROP_gaez_30m.HAR'.)\n",
      " Reading Longitude(GRID)\n",
      " (Read real array, size 42996, header \"LON\".)\n",
      " Reading Latitude(GRID)\n",
      " (Read real array, size 42996, header \"LAT\".)\n",
      "  Formula for set 'MIDWEST'\n",
      " Set 'MIDWEST'\n",
      "   [Set has size 2.]\n",
      " 'MIDWEST' as a subset of 'GRID'\n",
      " Set 'S@Livestock'\n",
      "   [Set has size 1.]\n",
      " 'S@Livestock' as a subset of 'PROD_COMM'\n",
      " Set 'S@Proc_Food'\n",
      "   [Set has size 1.]\n",
      " 'S@Proc_Food' as a subset of 'PROD_COMM'\n",
      " Set 'S@Crops'\n",
      "   [Set has size 1.]\n",
      " 'S@Crops' as a subset of 'CONS_COMM'\n",
      " 'S@Livestock' as a subset of 'CONS_COMM'\n",
      " 'S@Livestock' as a subset of 'TRAD_COMM'\n",
      " 'S@Proc_Food' as a subset of 'CONS_COMM'\n",
      " 'S@Proc_Food' as a subset of 'TRAD_COMM'\n",
      " Set 'S@Non_Food'\n",
      "   [Set has size 1.]\n",
      " 'S@Non_Food' as a subset of 'CONS_COMM'\n",
      " 'S@Non_Food' as a subset of 'TRAD_COMM'\n",
      " 'S@Non_Food' as a subset of 'PROD_COMM'\n",
      " Set 'S@INT'\n",
      "   [Set has size 1.]\n",
      " 'S@INT' as a subset of 'COEF'\n",
      " Set 'S@SLP'\n",
      "   [Set has size 1.]\n",
      " 'S@SLP' as a subset of 'COEF'\n",
      " Set 'OECDREG'\n",
      "   [Set has size 6.]\n",
      " 'OECDREG' as a subset of 'REG'\n",
      " Set 'LDREG'\n",
      "   [Set has size 11.]\n",
      " 'LDREG' as a subset of 'REG'\n",
      " Set 'AGE'\n",
      " (Opened, as header, existing file 'in//LANDSETS.har'.)\n",
      "   [Set has size 14.]\n",
      " Set 'MDEV'\n",
      "   [Set has size 10.]\n",
      " 'MDEV' as a subset of 'REG'\n",
      " [CPU for reads, formulas etc is 0.25 seconds.]\n",
      " Elapsed time for reads, formulas etc is: less than one second.\n",
      " \n",
      "  ------- MODEL REPORT ------\n",
      "  The un-condensed model contains:\n",
      "      288 variables comprising 13472300 components\n",
      "  and 229 equation blocks comprising 11748223 separate equations.\n",
      " \n",
      "      22 variables (comprising 945912 components) will be backsolved for.\n",
      "      34 variables (comprising 9287204 components) were substituted out.\n",
      "      30 variables (comprising 1419144 components) were omitted.\n",
      " \n",
      "  So the condensed model contains:\n",
      "      202 variables comprising 1820040 components\n",
      "  and 173 equation blocks comprising 1515107 separate equations.\n",
      "  ------- END OF MODEL REPORT ------\n",
      "  \n",
      " Licence file: /gp12/licen.gem\n",
      " *** Working in developer mode. No licence activation check. ***\n",
      "   (1 character strings, each of length 1 read. Header \"SVFM\")\n",
      " \n",
      "  Total memory currently used for all arrays is approximately 512.73 megabytes.\n",
      "  [This does NOT include memory related to MMNZ, MMNZ1 and MMNZ2. The\n",
      "   associated arrays are not allocated.]\n",
      "  [Add about 5-10 megabytes for the memory used by the code.]\n",
      "  [Total memory currently allocated for Coefficients and Updated\n",
      "   Coefficients is about      164.0 and        0.0 MB respectively.]\n",
      " \n",
      "  --->  Beginning pass number 1 of 1-pass calculation.\n",
      " (Opened new text file '//job//result//sgmc3_t150_r3g3c3b-cond.txt'.)\n",
      " \n",
      "  Number of equations in condensed system is 1515107\n",
      " \n",
      " \n",
      "  Number of variables in condensed system is 1820040\n",
      "  Number of extra variables from backsolving is 945912\n",
      "  \n",
      " (Condensation Information file is\n",
      "   '//job//result//sgmc3_t150_r3g3c3b-cond.txt'.)\n",
      " \n",
      "  CHOICE OF ECONOMIC ENVIRONMENT\n",
      "  (All components of 'p_INC_PC' chosen to be exogenous.)\n",
      "  (All components of 'p_POP' chosen to be exogenous.)\n",
      "  (All components of 'p_QCRPBIOFr' chosen to be exogenous.)\n",
      "  (All components of 's_QCRPBIOFr' chosen to be exogenous.)\n",
      "  (The following components of 'p_P' have been chosen to be exogenous :\n",
      "  4, 8, 12, 16, 20, 24, 28, 32, 36, 40, 44, 48, 52, 56, 60, 64, 68\n",
      "  (All components of 'p_PNCRPFEED' chosen to be exogenous.)\n",
      "  (All components of 'p_PNCRPFOOD' chosen to be exogenous.)\n",
      "  (All components of 'p_QCROPcs_stk' chosen to be exogenous.)\n",
      "  (All components of 's_QCROPcs' chosen to be exogenous.)\n",
      "  (All components of 's_QALLr' chosen to be exogenous.)\n",
      "  (All components of 's_QLANDr' chosen to be exogenous.)\n",
      "  (All components of 'p_QCROPcs_fix' chosen to be exogenous.)\n",
      "  (All components of 'p_PCROPcs_fix' chosen to be exogenous.)\n",
      "  (All components of 't_PCROPcrb_imp' chosen to be exogenous.)\n",
      "  (All components of 't_PCROPcrb_loc' chosen to be exogenous.)\n",
      "  (All components of 't_PCROPcrb_tot' chosen to be exogenous.)\n",
      "  (All components of 't_PCROPr_imp' chosen to be exogenous.)\n",
      "  (All components of 'p_AOCROPr' chosen to be exogenous.)\n",
      "  (All components of 's_QTIMBr' chosen to be exogenous.)\n",
      "  (All components of 's_QGRAZr' chosen to be exogenous.)\n",
      "  (All components of 's_QTIMBg' chosen to be exogenous.)\n",
      "  (All components of 's_QGRAZg' chosen to be exogenous.)\n",
      "  (All components of 's_QDOTHERg' chosen to be exogenous.)\n",
      "  (All components of 's_QWSRF_NATg' chosen to be exogenous.)\n",
      "  (All components of 's_QWGRD_NATg' chosen to be exogenous.)\n",
      "  (All components of 's_QWATGRDg' chosen to be exogenous.)\n",
      "  (All components of 's_QWATSRFg' chosen to be exogenous.)\n",
      "  (All components of 'p_CAL_COMM' chosen to be exogenous.)\n",
      "  (All components of 'p_MIN_CAL' chosen to be exogenous.)\n",
      "  (All components of 'p_MIN_CALW' chosen to be endogenous.)\n",
      "  (All components of 'p_QCONS_GRAM' chosen to be endogenous.)\n",
      "  (All components of 'p_MAL_COUNT' chosen to be endogenous.)\n",
      "  (All components of 'p_MAL_GAP' chosen to be endogenous.)\n",
      "  (All components of 'p_MAL_COUNTW' chosen to be endogenous.)\n",
      "  (All components of 'p_MAL_GAPW' chosen to be endogenous.)\n",
      "  (All components of 'p_CALORIES' chosen to be endogenous.)\n",
      "  (All components of 'p_CALORIESW' chosen to be endogenous.)\n",
      "  (All components of 'p_QPC_GRAM' chosen to be endogenous.)\n",
      "  (All components of 'p_slack_cal' chosen to be endogenous.)\n",
      "  (All components of 'p_Cohortf' chosen to be exogenous.)\n",
      "  (All components of 'p_Aderf' chosen to be exogenous.)\n",
      "  (All components of 'p_AD_FPOP' chosen to be exogenous.)\n",
      "  (All components of 'p_Cohortm' chosen to be exogenous.)\n",
      "  (All components of 'p_Aderm' chosen to be exogenous.)\n",
      "  (All components of 'p_AD_MPOP' chosen to be exogenous.)\n",
      "  (All components of 'p_MAX_CAL_f' chosen to be exogenous.)\n",
      "  (All components of 'p_MAX_CALW_f' chosen to be endogenous.)\n",
      "  (All components of 'p_OV_CNT_f' chosen to be endogenous.)\n",
      "  (All components of 'p_OV_GP_f' chosen to be endogenous.)\n",
      "  (All components of 'p_OV_CNTW_f' chosen to be endogenous.)\n",
      "  (All components of 'p_OV_GPW_f' chosen to be endogenous.)\n",
      "  (All components of 'p_MAX_CAL_m' chosen to be exogenous.)\n",
      "  (All components of 'p_MAX_CALW_m' chosen to be endogenous.)\n",
      "  (All components of 'p_OV_CNT_m' chosen to be endogenous.)\n",
      "  (All components of 'p_OV_GP_m' chosen to be endogenous.)\n",
      "  (All components of 'p_OV_CNTW_m' chosen to be endogenous.)\n",
      "  (All components of 'p_OV_GPW_m' chosen to be endogenous.)\n",
      "  (All components of 'p_MIN_CLF' chosen to be exogenous.)\n",
      "  (All components of 'p_MIN_CLM' chosen to be exogenous.)\n",
      "  (All components of 'tmcrb' chosen to be exogenous.)\n",
      " (Finished specifying closure.)\n",
      " \n",
      "  [ Current closure is valid, namely,\n",
      "    there are 304933 exogenous and 1515107 endogenous.]\n",
      " \n",
      " \n",
      " (Completed specifying a closure.)\n",
      " \n",
      "  (Value of Harwell parameter U to be used is  0.1000000.)\n",
      " (Opened, as header, existing file '//job//data//config_r3g3c3.har'.)\n",
      " Reading is_mini\n",
      " (Read real array, size 1, header \"mini\".)\n",
      " Reading if_open\n",
      " (Read real array, size 1, header \"open\".)\n",
      "  Formula for 'if_cave'\n",
      " Reading IF_LOC_MKT\n",
      " (Read real array, size 1, header \"LOC\".)\n",
      " Reading IF_QFLEXg\n",
      " (Read real array, size 1, header \"FLXG\".)\n",
      " Reading IF_QFLEXm\n",
      " (Read real array, size 1, header \"FLXM\".)\n",
      " Reading IF_QFLEXs\n",
      " (Read real array, size 1, header \"FLXS\".)\n",
      "  Formula for 'C_ECRP'\n",
      "  Formula for 'C_EWAT'\n",
      "  Formula for 'C_ELND'\n",
      "  Formula for 'C_ENLD'\n",
      " Reading C_SPSS\n",
      " (Read real array, size 1, header \"SPSS\".)\n",
      " Reading C_SPMM\n",
      " (Read real array, size 1, header \"SPMM\".)\n",
      " Reading C_SPGG\n",
      " (Read real array, size 1, header \"SPGG\".)\n",
      " Reading C_ETCC\n",
      " (Read real array, size 1, header \"ETCC\".)\n",
      " Reading C_ESCC\n",
      " (Read real array, size 1, header \"ESCC\".)\n",
      " Reading PAR_SCALEr\n",
      " (Read real array, size 1, header \"SCLr\".)\n",
      " Reading PAR_SCALEg\n",
      " (Read real array, size 1, header \"SCLg\".)\n",
      " (Opened, as header, existing file 'in//GRIDSETS_30m.HAR'.)\n",
      " Reading GRID2REG(GRID)\n",
      " (Read integer array, size 42996, header \"MAP1\".)\n",
      "  Formula for 'ISIRRI'\n",
      "  Formula for 'ISIRRI'\n",
      " Reading GRID2SREG(GRID)\n",
      " (Read integer array, size 42996, header \"MAP3\".)\n",
      " Reading SREG2REG(SUBREG)\n",
      " (Read integer array, size 135, header \"MAP4\".)\n",
      " (Opened, as header, existing file 'in//GRIDDATA_30m.HAR'.)\n",
      " Reading INC_PC(REG)\n",
      " (Read real array, size 17, header \"YPC\".)\n",
      " Reading POP(REG)\n",
      " (Read real array, size 17, header \"POP\".)\n",
      " (Opened, as header, existing file 'gtapv6//basedata.har'.)\n",
      " Reading VDPM(TRAD_COMM,REG)\n",
      " (Read real array, size 11x17, header \"VDPM\".)\n",
      " Reading VIPM(TRAD_COMM,REG)\n",
      " (Read real array, size 11x17, header \"VIPM\".)\n",
      " Reading VDGM(TRAD_COMM,REG)\n",
      " (Read real array, size 11x17, header \"VDGM\".)\n",
      " Reading VIGM(TRAD_COMM,REG)\n",
      " (Read real array, size 11x17, header \"VIGM\".)\n",
      " Reading VIFM(TRAD_COMM,PROD_COMM,REG)\n",
      " (Read real array, size 11x12x17, header \"VIFM\".)\n",
      " Reading VDFM(TRAD_COMM,PROD_COMM,REG)\n",
      " (Read real array, size 11x12x17, header \"VDFM\".)\n",
      " Reading VXWD(TRAD_COMM,REG,REG)\n",
      " (Read real array, size 11x17x17, header \"VXWD\".)\n",
      " Reading VFM(ENDW_COMM,PROD_COMM,REG)\n",
      " (Read real array, size 3x12x17, header \"VFM\".)\n",
      " (Opened, as header, existing file 'in//GRIDCROP_gaez_30m.HAR'.)\n",
      " Reading VCROPgcl(GRID,CROP,LTYPE)\n",
      " (Read real array, size 42996x8x2, header \"VC\".)\n",
      " Reading VLANDgcl(GRID,CROP,LTYPE)\n",
      " (Read real array, size 42996x8x2, header \"VL\".)\n",
      " Reading VNITROgcl(GRID,CROP,LTYPE)\n",
      " (Read real array, size 42996x8x2, header \"VN\".)\n",
      " Reading VWATERgcl(GRID,CROP,LTYPE)\n",
      " (Read real array, size 42996x8x2, header \"VW\".)\n",
      " Reading QCROPgcl(GRID,CROP,LTYPE)\n",
      " (Read real array, size 42996x8x2, header \"QC\".)\n",
      " Reading QLANDgcl(GRID,CROP,LTYPE)\n",
      " (Read real array, size 42996x8x2, header \"QL\".)\n",
      " Reading QNITROgcl(GRID,CROP,LTYPE)\n",
      " (Read real array, size 42996x8x2, header \"QN\".)\n",
      " Reading QWATERgcl(GRID,CROP,LTYPE)\n",
      " (Read real array, size 42996x8x2, header \"QW\".)\n",
      "  Formula for 'PCROPgcl'\n",
      "  Formula for 'PLANDgcl'\n",
      "  Formula for 'PWATERgcl'\n",
      "  Formula for 'QLANDWTRgcl'\n",
      "  Formula for 'VLANDWTRgcl'\n",
      "  Formula for 'PLANDWTRgcl'\n",
      "  Formula for 'SHR_LABORcr'\n",
      "  Formula for 'VLABORgcl'\n",
      "  Formula for 'VOTHERgcl'\n",
      "  Formula for 'VOTHERgcl'\n",
      "  Formula for 'VNLANDgcl'\n",
      "  Formula for 'VCROPgcl'\n",
      "  Formula for 'VLANDgl'\n",
      "  Formula for 'QLANDgl'\n",
      "  Formula for 'VLANDg'\n",
      "  Formula for 'QLANDg'\n",
      "  Formula for 'VLANDWTRgcl'\n",
      "  Formula for 'PCROPgcl'\n",
      "  Formula for 'QCROPgcl'\n",
      "  Formula for 'IS_GCL'\n",
      "  Formula for 'SHR_OinNLD'\n",
      "  Formula for 'SHR_NinNLD'\n",
      "  Formula for 'SHR_HinNLD'\n",
      "  Formula for 'SHR_LANDgcl'\n",
      "  Formula for 'SHR_NLANDgcl'\n",
      "  Formula for 'SHR_WATERgcl'\n",
      "  Formula for 'SHR_LinLW'\n",
      "  Formula for 'SHR_WinLW'\n",
      "  Formula for 'SHR_VLANDgcl'\n",
      "  Formula for 'SHR_VLANDgl'\n",
      "  Formula for 'SHR_QLANDgl'\n",
      " (Opened, as header, existing file 'in//GRIDPARM_30m_h.HAR'.)\n",
      " Reading ECROPgl(GRID,LTYPE)\n",
      " (Read real array, size 42996x2, header \"ECRP\".)\n",
      " Reading ELAND_g(GRID)\n",
      " (Read real array, size 42996, header \"ELND\".)\n",
      " Reading ENLANDg(GRID)\n",
      " (Read real array, size 42996, header \"ENLD\".)\n",
      " Reading EWATERg(GRID)\n",
      " (Read real array, size 42996, header \"EWAT\".)\n",
      " Reading ETRANLg(GRID)\n",
      " (Read real array, size 42996, header \"ETRN\".)\n",
      " Reading EIRRIGg(GRID)\n",
      " (Read real array, size 42996, header \"EIRR\".)\n",
      "  Formula for 'ECROPgl'\n",
      "  Formula for 'ELAND_g'\n",
      "  Formula for 'ENLANDg'\n",
      "  Formula for 'EWATERg'\n",
      "  Formula for 'EIRRIGg'\n",
      "  Formula for 'ETRANLg'\n",
      " Reading ET_cropmix\n",
      " (Read real array, size 1, header \"ETCC\".)\n",
      "  Formula for 'ET_cropmixs'\n",
      "  Formula for 'ET_cropmixg'\n",
      "  Formula for 'QWATERgl'\n",
      "  Formula for 'ETRA_GRDW'\n",
      "  Formula for 'ETRA_SRFW'\n",
      "  Formula for 'ELAS_SRF_NAT'\n",
      "  Formula for 'ELAS_GRD_NAT'\n",
      " (Opened, as header, existing file 'in//GRIDDATA_30m.HAR'.)\n",
      " Reading QWGRD_AGRg(GRID)\n",
      " (Read real array, size 42996, header \"WBMT\".)\n",
      " Reading QWGRD_TOTg(GRID)\n",
      " (Read real array, size 42996, header \"TMAX\".)\n",
      "  Formula for 'QWGRD_AGRg'\n",
      "  Formula for 'QWGRD_NATg'\n",
      "  Formula for 'VWGRD_AGRg'\n",
      "  Formula for 'VWGRD_NATg'\n",
      "  Formula for 'VWGRD_TOTg'\n",
      "  Formula for 'QWGRD_TOTg'\n",
      "  Formula for 'PWGRD_AGRg'\n",
      "  Formula for 'PWGRD_NATg'\n",
      "  Formula for 'PWGRD_TOTg'\n",
      "  Formula for 'QSHR_GRD_AGR'\n",
      "  Formula for 'QSHR_GRD_NAT'\n",
      "  Formula for 'VSHR_GRD_AGR'\n",
      "  Formula for 'VSHR_GRD_NAT'\n",
      " Reading QWSRF_AGRg(GRID)\n",
      " (Read real array, size 42996, header \"WBMS\".)\n",
      " Reading QWSRF_TOTg(GRID)\n",
      " (Read real array, size 42996, header \"SMAX\".)\n",
      "  Formula for 'QWSRF_NATg'\n",
      "  Formula for 'QWSRF_AGRg'\n",
      "  Formula for 'VWSRF_AGRg'\n",
      "  Formula for 'VWSRF_NATg'\n",
      "  Formula for 'VWSRF_TOTg'\n",
      "  Formula for 'QWSRF_TOTg'\n",
      "  Formula for 'PWSRF_AGRg'\n",
      "  Formula for 'PWSRF_NATg'\n",
      "  Formula for 'PWSRF_TOTg'\n",
      "  Formula for 'QSHR_SRF_AGR'\n",
      "  Formula for 'QSHR_SRF_NAT'\n",
      "  Formula for 'VSHR_SRF_AGR'\n",
      "  Formula for 'VSHR_SRF_NAT'\n",
      "  Formula for 'SHR_SinSGgl'\n",
      "  Formula for 'SHR_GinSGgl'\n",
      " Reading QLANDGRAZg(GRID)\n",
      " (Read real array, size 42996, header \"GRAZ\".)\n",
      " Reading QLANDFRSTg(GRID)\n",
      " (Read real array, size 42996, header \"TIMB\".)\n",
      "  Formula for 'QLANDCROPg'\n",
      "  Formula for 'QLAND_AGRg'\n",
      "  Formula for 'QLANDCROPg'\n",
      "  Formula for 'QLANDCROPg'\n",
      "  Formula for 'QLANDGRAZg'\n",
      "  Formula for 'QLANDFRSTg'\n",
      "  Formula for 'QLAND_AGRg'\n",
      "  Formula for 'PLANDg'\n",
      "  Formula for 'PLANDCROPg'\n",
      "  Formula for 'PLANDGRAZg'\n",
      "  Formula for 'PLANDFRSTg'\n",
      "  Formula for 'VLANDCROPg'\n",
      "  Formula for 'VLANDGRAZg'\n",
      "  Formula for 'VLANDFRSTg'\n",
      "  Formula for 'VLAND_AGRg'\n",
      "  Formula for 'ETRA_AGRr'\n",
      "  Formula for 'ELAS_DTIMBr'\n",
      "  Formula for 'ELAS_DGRAZr'\n",
      "  Formula for 'ESUBR_GRAZr'\n",
      "  Formula for 'ESUBR_FRSTr'\n",
      "  Formula for 'QSHR_CROPg'\n",
      "  Formula for 'QSHR_GRAZg'\n",
      "  Formula for 'QSHR_FRSTg'\n",
      "  Formula for 'VSHR_CROPg'\n",
      "  Formula for 'VSHR_GRAZg'\n",
      "  Formula for 'VSHR_FRSTg'\n",
      "  Formula for 'QFRSTr'\n",
      "  Formula for 'QGRAZr'\n",
      " (Opened, as header, existing file 'in//GRIDPARM_30m_h.HAR'.)\n",
      " Reading ENITROr(REG)\n",
      " (Read real array, size 17, header \"ENTR\".)\n",
      "  Formula for 'QNITROr'\n",
      "  Formula for 'VNITROr'\n",
      "  Formula for 'PNITROr'\n",
      "  Formula for 'QNITROg'\n",
      "  Formula for 'QLABORgcl'\n",
      "  Formula for 'PLABORgcl'\n",
      "  Formula for 'VLABORg'\n",
      "  Formula for 'QLABORg'\n",
      "  Formula for 'PLABORg'\n",
      "  Formula for 'VLABORr'\n",
      "  Formula for 'QLABORr'\n",
      "  Formula for 'PLABORr'\n",
      "  Formula for 'ELABORr'\n",
      "  Formula for 'ELAB_CETr'\n",
      "  Formula for 'ELABORg'\n",
      "  Formula for 'SHR_LABinREG'\n",
      "  Formula for 'SHR_LABinGID'\n",
      "  Formula for 'ENLANDr'\n",
      "  Formula for 'ENLANDs'\n",
      "  Formula for 'PNLANDr'\n",
      "  Formula for 'PNLANDgcl'\n",
      "  Formula for 'QNLANDgcl'\n",
      "  Formula for 'QNLANDg'\n",
      "  Formula for 'QNLANDr'\n",
      "  Formula for 'QNLANDg'\n",
      "  Formula for 'POTHERg'\n",
      "  Formula for 'POTHERs'\n",
      "  Formula for 'QOTHERg'\n",
      "  Formula for 'QOTHERs'\n",
      "  Formula for 'VCROPr'\n",
      "  Formula for 'QCROPr'\n",
      "  Formula for 'PCROPr'\n",
      "  Formula for 'VCROPr'\n",
      "  Formula for 'PCROP'\n",
      "  Formula for 'P'\n",
      " (Opened, as header, existing file 'in//GRIDCROP_gaez_30m.HAR'.)\n",
      " Reading Longitude(GRID)\n",
      " (Read real array, size 42996, header \"LON\".)\n",
      " Reading Latitude(GRID)\n",
      " (Read real array, size 42996, header \"LAT\".)\n",
      " (Opened, as header, existing file 'in//GRIDPARM_30m_h.HAR'.)\n",
      " Reading esub_crop(BUYER)\n",
      " (Read real array, size 3, header \"E_CC\".)\n",
      " Reading esub_impt(CROP)\n",
      " (Read real array, size 8, header \"E_MD\".)\n",
      " Reading ETRA_expt(REG)\n",
      " (Read real array, size 17, header \"ETXD\".)\n",
      " Reading ESUB_spat_ss(CROP)\n",
      " (Read real array, size 8, header \"E_SS\".)\n",
      " Reading ESUB_spat_mm(CROP)\n",
      " (Read real array, size 8, header \"E_MM\".)\n",
      " Reading ESUB_spat_gg(CROP)\n",
      " (Read real array, size 8, header \"E_GG\".)\n",
      "  Formula for 'ESUB_spat_ss'\n",
      "  Formula for 'ESUB_spat_mm'\n",
      "  Formula for 'ESUB_spat_gg'\n",
      "  Formula for 'esub_crop'\n",
      "  Formula for 'esub_impt'\n",
      "  Formula for 'ETRA_expt'\n",
      "  Formula for 'VCROPcrb_loc'\n",
      "  Formula for 'VCROPcrb_imp'\n",
      "  Formula for 'VCROPcrb_loc'\n",
      "  Formula for 'VCROPcrb_imp'\n",
      "  Formula for 'VCROPcrb_loc'\n",
      "  Formula for 'VCROPcrb_imp'\n",
      "  Formula for 'VCROPcrb_tot'\n",
      "  Formula for 'VCROPcr_loc'\n",
      "  Formula for 'VCROPcs_exp'\n",
      "  Formula for 'VCROPcs_loc'\n",
      "  Formula for 'VCROPcs_stk'\n",
      "  Formula for 'VCROPcs_xdt'\n",
      "  Formula for 'VCROPrb'\n",
      "  Formula for 'VCROPc_imp'\n",
      "  Formula for 'VCROPc_exp'\n",
      "  Formula for 'VCROPc_trd'\n",
      "  Formula for 'VCROPcm'\n",
      "  Formula for 'VCROPcs'\n",
      "  Formula for 'PCROPrb'\n",
      "  Formula for 'PCROPc_trd'\n",
      "  Formula for 'PCROPc_exp'\n",
      "  Formula for 'PCROPc_imp'\n",
      "  Formula for 'PCROPcr_loc'\n",
      "  Formula for 'PCROPcrb_loc'\n",
      "  Formula for 'PCROPcrb_imp'\n",
      "  Formula for 'PCROPcrb_tot'\n",
      "  Formula for 'PCROPcs_exp'\n",
      "  Formula for 'PCROPcs_loc'\n",
      "  Formula for 'PCROPcs'\n",
      "  Formula for 'PCROPcm'\n",
      "  Formula for 'PCROPgcl'\n",
      "  Formula for 'QCROPcrb_imp'\n",
      "  Formula for 'QCROPcrb_loc'\n",
      "  Formula for 'QCROPcrb_tot'\n",
      "  Formula for 'QCROPc_imp'\n",
      "  Formula for 'QCROPcr_loc'\n",
      "  Formula for 'QCROPcs_exp'\n",
      "  Formula for 'QCROPcs_loc'\n",
      "  Formula for 'QCROPgcl'\n",
      "  Formula for 'QCROPrb'\n",
      "  Formula for 'QCROPcm'\n",
      "  Formula for 'QCROPcs_stk'\n",
      "  Formula for 'QCROPc_exp'\n",
      "  Formula for 'QCROPc_trd'\n",
      "  Formula for 'QCROPcs'\n",
      " (Opened, as header, existing file 'in//GRIDDATA_30m.HAR'.)\n",
      " Reading QCRPBIOF(REG)\n",
      " (Read real array, size 17, header \"QBIO\".)\n",
      "  Formula for 'VCONS'\n",
      "  Formula for 'VCONS'\n",
      "  Formula for 'VCONS'\n",
      "  Formula for 'VCONS'\n",
      "  Formula for 'QCONS'\n",
      "  Formula for 'QCRPFEED'\n",
      "  Formula for 'QCRPFOOD'\n",
      "  Formula for 'QPC'\n",
      " (Opened, as header, existing file 'in//GRIDPARM_30m_h.HAR'.)\n",
      " Reading EIY(CONS_COMM,COEF)\n",
      " (Read real array, size 4x2, header \"EIY\".)\n",
      " Reading EIP(CONS_COMM,COEF)\n",
      " (Read real array, size 4x2, header \"EIP\".)\n",
      "  Formula for 'adhocEINC'\n",
      "  Formula for 'adhocEOP'\n",
      "  Formula for 'EINC'\n",
      "  Formula for 'EOP'\n",
      "  Formula for 'QCROPcr_imp'\n",
      "  Formula for 'QCROPcs_fix'\n",
      "  Formula for 'PCROPcs_fix'\n",
      "  Formula for 'QCROPcs_xdt'\n",
      "  Formula for 'VSHRcs_loc'\n",
      "  Formula for 'VSHRcs_exp'\n",
      "  Formula for 'VCROPcrb_wld'\n",
      "  Formula for 'TMcrb_L'\n",
      " (Opened, as header, existing file 'in//GRIDDATA_30m.HAR'.)\n",
      " Reading PNCRPFEED(REG)\n",
      " (Read real array, size 17, header \"PNF\".)\n",
      " Reading PNCRPFOOD(REG)\n",
      " (Read real array, size 17, header \"PNPR\".)\n",
      " Reading VNCRPFEED(REG)\n",
      " (Read real array, size 17, header \"VNF\".)\n",
      " Reading VNCRPFOOD(REG)\n",
      " (Read real array, size 17, header \"VNPR\".)\n",
      " (Opened, as header, existing file 'in//GRIDPARM_30m_h.HAR'.)\n",
      " Reading ECRPFEED\n",
      " (Read real array, size 1, header \"EFED\".)\n",
      " Reading ECRPFOOD\n",
      " (Read real array, size 1, header \"EFOD\".)\n",
      "  Formula for 'QNCRPFEED'\n",
      "  Formula for 'QNCRPFOOD'\n",
      "  Formula for 'SHRCRPFEED'\n",
      "  Formula for 'SHRNCRPFEED'\n",
      "  Formula for 'SHRCRPFOOD'\n",
      "  Formula for 'SHRNCRPFOOD'\n",
      "  Formula for 'AOCRPFEED'\n",
      "  Formula for 'AOCRPFOOD'\n",
      "  Formula for 'AFCRPFEED'\n",
      "  Formula for 'AFCRPFOOD'\n",
      "  Formula for 'AFNCRPFEED'\n",
      "  Formula for 'AFNCRPFOOD'\n",
      "  Formula for 'AFCRPFEEDW'\n",
      "  Formula for 'AFCRPFOODW'\n",
      "  Formula for 'AFNCRPFEEDW'\n",
      "  Formula for 'AFNCRPFOODW'\n",
      "  Formula for 'AFCRPFEEDr'\n",
      "  Formula for 'AFCRPFOODr'\n",
      "  Formula for 'AFNCRPFEEDr'\n",
      "  Formula for 'AFNCRPFOODr'\n",
      "  Formula for 'TFP_LVSTOCK'\n",
      "  Formula for 'TFP_LVSTOCKW'\n",
      "  Formula for 'TFP_PROC_FD'\n",
      "  Formula for 'TFP_PROC_FDW'\n",
      "  Formula for 'QWATSRF'\n",
      "  Formula for 'QWATGRD'\n",
      "  Formula for 'QWATER'\n",
      "  Formula for 'QLANDIR'\n",
      "  Formula for 'QLANDRF'\n",
      "  Formula for 'QLAND'\n",
      "  Formula for 'QLANDrl'\n",
      "  Formula for 'QLANDr'\n",
      "  Formula for 'QLANDwi'\n",
      "  Formula for 'QLANDwr'\n",
      "  Formula for 'QLANDw'\n",
      "  Formula for 'VLANDr'\n",
      "  Formula for 'PLANDr'\n",
      "  Formula for 'AGR_VAr'\n",
      "  Formula for 'AGR_VAg'\n",
      "  Formula for 'QWATSRFr'\n",
      "  Formula for 'QWATSRFw'\n",
      "  Formula for 'QWATGRDr'\n",
      "  Formula for 'QWATGRDw'\n",
      "  Formula for 'QYIELDr'\n",
      " (Opened, as header, existing file 'in//LANDPARM.HAR'.)\n",
      " Reading ECAL(FOOD_COMM,COEF)\n",
      " (Read real array, size 3x2, header \"ECAL\".)\n",
      " (Opened, as header, existing file 'in//LANDDATA.har'.)\n",
      " Reading CAL_COMM(FOOD_COMM,REG)\n",
      " (Read real array, size 3x17, header \"CAL\".)\n",
      "  Formula for 'slack_cal'\n",
      "  Formula for 'tmp_CAL_COMM'\n",
      " (Opened, as header, existing file 'in//LANDPARM.HAR'.)\n",
      " Reading SDEV_CAL(REG)\n",
      " (Read real array, size 17, header \"SDEV\".)\n",
      " (Opened, as header, existing file 'in//LANDDATA.har'.)\n",
      " Reading MIN_CAL(REG)\n",
      " (Read real array, size 17, header \"MCAL\".)\n",
      " Reading QCONS_GRAM(FOOD_COMM,REG)\n",
      " (Read real array, size 3x17, header \"CONG\".)\n",
      " Reading MAL_INDEX(REG)\n",
      " (Read real array, size 17, header \"MIDX\".)\n",
      " Reading MAL_GAP_IND(REG)\n",
      " (Read real array, size 17, header \"MGPI\".)\n",
      "  Formula for 'MAL_COUNT'\n",
      "  Formula for 'MAL_GAP'\n",
      "  Formula for 'CALORIC_GAP'\n",
      "  Formula for 'QPC_GRAM'\n",
      "  Formula for 'QPC_GRAMW'\n",
      "  Formula for 'QPC_CAL'\n",
      "  Formula for 'QPC_CALW'\n",
      "  Formula for 'CALORIES'\n",
      "  Formula for 'MIN_RATIO'\n",
      "  Formula for 'FACTOR_1'\n",
      "  Formula for 'FACTOR_2'\n",
      "  Formula for 'EM_INDEX'\n",
      "  Formula for 'EM_GAP'\n",
      "  Formula for 'CALORIESW'\n",
      "  Formula for 'MIN_CALW'\n",
      "  Formula for 'MAL_INDEXW'\n",
      "  Formula for 'CALORIC_GAPW'\n",
      "  Formula for 'MAL_COUNTW'\n",
      "  Formula for 'MAL_GAP_INDW'\n",
      "  Formula for 'MAL_GAPW'\n",
      "  Formula for 'QCRPTOT'\n",
      "  Formula for 'QCRPTOTW'\n",
      " (Opened, as header, existing file 'in//LANDPARM.HAR'.)\n",
      " Reading C_EMIS_HAg(REG)\n",
      " (Read real array, size 17, header \"CHA\".)\n",
      "  Formula for 'C_EMISg'\n",
      " (Opened, as header, existing file 'in//LANDDATA.har'.)\n",
      " Reading C_YIELDg(REG)\n",
      " (Read real array, size 17, header \"YLDC\".)\n",
      "  Formula for 'C_QCROPg'\n",
      "  Formula for 'EE_FACTORg'\n",
      "  Formula for 'C_QCROPW'\n",
      "  Formula for 'C_YIELDW'\n",
      "  Formula for 'C_EMISW'\n",
      " Reading AD_FPOP(REG,AGE)\n",
      " (Read real array, size 17x14, header \"FPOP\".)\n",
      " Reading Cohortf(REG,AGE)\n",
      " (Read real array, size 17x14, header \"CHEF\".)\n",
      " Reading Aderf(REG,AGE)\n",
      " (Read real array, size 17x14, header \"ADRF\".)\n",
      " (Opened, as header, existing file 'in//LANDPARM.HAR'.)\n",
      " Reading Agef(REG,AGE)\n",
      " (Read real array, size 17x14, header \"AGEF\".)\n",
      " Reading Cal_ef_f(REG)\n",
      " (Read real array, size 17, header \"CALF\".)\n",
      " Reading Cons_f(REG,AGE)\n",
      " (Read real array, size 17x14, header \"CONF\".)\n",
      "  Formula for 'Excalf'\n",
      "  Formula for 'Caleff'\n",
      "  Formula for 'BMIf'\n",
      "  Formula for 'AD_FPOPR'\n",
      "  Formula for 'BMIfR'\n",
      "  Formula for 'AD_FPOPW_a'\n",
      "  Formula for 'BMIfWa'\n",
      "  Formula for 'AD_FPOPW'\n",
      "  Formula for 'BMIfW'\n",
      " (Opened, as header, existing file 'in//LANDDATA.har'.)\n",
      " Reading AD_MPOP(REG,AGE)\n",
      " (Read real array, size 17x14, header \"MPOP\".)\n",
      " Reading Cohortm(REG,AGE)\n",
      " (Read real array, size 17x14, header \"CHEM\".)\n",
      " Reading Aderm(REG,AGE)\n",
      " (Read real array, size 17x14, header \"ADRM\".)\n",
      " (Opened, as header, existing file 'in//LANDPARM.HAR'.)\n",
      " Reading Agem(REG,AGE)\n",
      " (Read real array, size 17x14, header \"AGEM\".)\n",
      " Reading Cal_ef_m(REG)\n",
      " (Read real array, size 17, header \"CALM\".)\n",
      " Reading Cons_m(REG,AGE)\n",
      " (Read real array, size 17x14, header \"CONM\".)\n",
      "  Formula for 'Excalm'\n",
      "  Formula for 'Calefm'\n",
      "  Formula for 'BMIm'\n",
      "  Formula for 'AD_MPOPR'\n",
      "  Formula for 'BMImR'\n",
      "  Formula for 'AD_MPOPW_a'\n",
      "  Formula for 'BMImWa'\n",
      "  Formula for 'AD_MPOPW'\n",
      "  Formula for 'BMImW'\n",
      " (Opened, as header, existing file 'in//LANDDATA.har'.)\n",
      " Reading OV_IND_f(REG)\n",
      " (Read real array, size 17, header \"OVXF\".)\n",
      " Reading OV_GP_IND_f(REG)\n",
      " (Read real array, size 17, header \"OVGF\".)\n",
      " Reading MAX_CAL_f(REG)\n",
      " (Read real array, size 17, header \"MXCF\".)\n",
      "  Formula for 'OV_CNT_f'\n",
      "  Formula for 'OV_GP_f'\n",
      "  Formula for 'OV_CL_GP_f'\n",
      "  Formula for 'MAX_RATIO_f'\n",
      "  Formula for 'FACTOR_11_f'\n",
      "  Formula for 'FACTOR_22_f'\n",
      "  Formula for 'OV_INDEX_f'\n",
      "  Formula for 'OV_GAP_f'\n",
      "  Formula for 'MAX_CALW_f'\n",
      "  Formula for 'OV_INDW_f'\n",
      "  Formula for 'OV_CL_GPW_f'\n",
      "  Formula for 'OV_CNTW_f'\n",
      "  Formula for 'OV_GP_INDW_f'\n",
      "  Formula for 'OV_GPW_f'\n",
      " Reading OV_IND_m(REG)\n",
      " (Read real array, size 17, header \"OVXM\".)\n",
      " Reading OV_GP_IND_m(REG)\n",
      " (Read real array, size 17, header \"OVGM\".)\n",
      " Reading MAX_CAL_m(REG)\n",
      " (Read real array, size 17, header \"MXCM\".)\n",
      "  Formula for 'OV_CNT_m'\n",
      "  Formula for 'OV_GP_m'\n",
      "  Formula for 'OV_CL_GP_m'\n",
      "  Formula for 'MAX_RATIO_m'\n",
      "  Formula for 'FACTOR_11_m'\n",
      "  Formula for 'FACTOR_22_m'\n",
      "  Formula for 'OV_INDEX_m'\n",
      "  Formula for 'OV_GAP_m'\n",
      "  Formula for 'MAX_CALW_m'\n",
      "  Formula for 'OV_INDW_m'\n",
      "  Formula for 'OV_CL_GPW_m'\n",
      "  Formula for 'OV_CNTW_m'\n",
      "  Formula for 'OV_GP_INDW_m'\n",
      "  Formula for 'OV_GPW_m'\n",
      " Reading MIN_CLM(REG)\n",
      " (Read real array, size 17, header \"MCLM\".)\n",
      " Reading ML_INDM(REG)\n",
      " (Read real array, size 17, header \"MDXM\".)\n",
      " Reading ML_GP_INM(REG)\n",
      " (Read real array, size 17, header \"MGPM\".)\n",
      "  Formula for 'ML_CNTM'\n",
      "  Formula for 'ML_GPM'\n",
      "  Formula for 'CAL_GAPM'\n",
      "  Formula for 'MIN_RATM'\n",
      "  Formula for 'FCTR_1M'\n",
      "  Formula for 'FCTR_2M'\n",
      "  Formula for 'EM_INDM'\n",
      "  Formula for 'EM_GPM'\n",
      " Reading MIN_CLF(REG)\n",
      " (Read real array, size 17, header \"MCLF\".)\n",
      " Reading ML_INDF(REG)\n",
      " (Read real array, size 17, header \"MDXF\".)\n",
      " Reading ML_GP_INF(REG)\n",
      " (Read real array, size 17, header \"MGPF\".)\n",
      "  Formula for 'ML_CNTF'\n",
      "  Formula for 'ML_GPF'\n",
      "  Formula for 'CAL_GAPF'\n",
      "  Formula for 'MIN_RATF'\n",
      "  Formula for 'FCTR_1F'\n",
      "  Formula for 'FCTR_2F'\n",
      "  Formula for 'EM_INDF'\n",
      "  Formula for 'EM_GPF'\n",
      " \n",
      "  SHOCKS\n",
      "  ------\n",
      "  \n",
      " \n",
      "  FINAL_LEVEL STATEMENTS\n",
      "  ----------------------\n",
      "  \n",
      "  (All components of 'tmcrb' chosen to be shocked.)\n",
      " Final Level values:\n",
      "   All 408 are equal to 1.000000.\n",
      " Shock values (percent changes):\n",
      "   [Values not echoed - more than 200 of them]\n",
      " \n",
      "  Formula for 'C00422'\n",
      "  Formula for 'C00423'\n",
      "  Formula for 'C00424'\n",
      "  Formula for 'C00425'\n",
      "  Formula for 'C00426'\n",
      "  Formula for 'C00427'\n",
      "  Formula for 'C00428'\n",
      "  Formula for 'C00429'\n",
      "  Formula for 'C00430'\n",
      "  Formula for 'C00431'\n",
      "  Formula for 'C00432'\n",
      "  Formula for 'C00433'\n",
      "  Formula for 'C00434'\n",
      "  Formula for 'C00435'\n",
      "  Formula for 'C00436'\n",
      "  Formula for 'C00437'\n",
      "  Formula for 'C00438'\n",
      "  Formula for 'C00439'\n",
      "  Formula for 'C00440'\n",
      "  Formula for 'C00441'\n",
      "  Formula for 'C00442'\n",
      "  Formula for 'C00443'\n",
      "  Formula for 'C00444'\n",
      "  Formula for 'C00445'\n",
      "  Formula for 'C00446'\n",
      "  Formula for 'C00447'\n",
      "  Formula for 'C00448'\n",
      "  Formula for 'C00449'\n",
      "  Formula for 'C00450'\n",
      "  Formula for 'C00451'\n",
      "  Formula for 'C00452'\n",
      "  Formula for 'C00453'\n",
      "  Formula for 'C00454'\n",
      "  Formula for 'C00455'\n",
      "  Formula for 'C00456'\n",
      "  Formula for 'C00457'\n",
      "  Formula for 'C00458'\n",
      "  Formula for 'C00459'\n",
      "  Formula for 'C00460'\n",
      "  Formula for 'C00461'\n",
      "  Formula for 'C00462'\n",
      "  Formula for 'C00463'\n",
      "  Formula for 'C00464'\n",
      "  Formula for 'C00465'\n",
      "  Formula for 'C00466'\n",
      "  Formula for 'C00467'\n",
      "  Formula for 'C00468'\n",
      "  Formula for 'C00469'\n",
      "  Formula for 'C00470'\n",
      "  Formula for 'C00471'\n",
      "  Formula for 'C00472'\n",
      "  Formula for 'C00473'\n",
      "  Formula for 'C00474'\n",
      "  Formula for 'C00475'\n",
      "  Formula for 'C00476'\n",
      "  Formula for 'C00477'\n",
      "  Formula for 'C00478'\n",
      "  Formula for 'C00479'\n",
      "  Formula for 'C00480'\n",
      "  Formula for 'C00481'\n",
      "  Formula for 'C00482'\n",
      "  Formula for 'C00483'\n",
      "  Formula for 'C00484'\n",
      "  Formula for 'C00485'\n",
      "  Formula for 'C00486'\n",
      "  Formula for 'C00487'\n",
      "  Formula for 'C00488'\n",
      "  Formula for 'C00489'\n",
      "  Formula for 'C00490'\n",
      "  Formula for 'C00491'\n",
      "  Formula for 'C00492'\n",
      "  Formula for 'C00493'\n",
      "  Formula for 'C00494'\n",
      "  Formula for 'C00495'\n",
      "  Formula for 'C00496'\n",
      "  Formula for 'C00497'\n",
      "  Formula for 'C00498'\n",
      "  Formula for 'C00499'\n",
      "  Formula for 'C00500'\n",
      "  Formula for 'C00501'\n",
      "  Formula for 'C00502'\n",
      "  Formula for 'C00503'\n",
      "  Formula for 'C00504'\n",
      "  Formula for 'C00505'\n",
      "  Formula for 'C00506'\n",
      "  Formula for 'C00507'\n",
      "  Formula for 'C00508'\n",
      " [CPU for reads, formulas etc is 1.41 seconds.]\n",
      " Elapsed time for reads, formulas etc is:  2 seconds.\n",
      " \n",
      "  (Writing the Solution Coefficients (SLC) file.)\n",
      " \n",
      "  Total memory currently used for all arrays is approximately 512.98 megabytes.\n",
      "  [This includes memory relating to current values:    MMNZ=21867, MMNZ1=21867 and MMNZ2=21867.]\n",
      "  [Add about 5-10 megabytes for the memory used by the code.]\n",
      "  [Total memory currently allocated for Coefficients and Updated\n",
      "   Coefficients is about      164.0 and       50.6 MB respectively.]\n",
      " \n",
      "  [Starting TGCSM2W submatrices]\n",
      " \n",
      "  Equation 'E_SQALLg'\n",
      "     Submatrix for variable 's_QALLg'\n",
      "     (Number of nonzeros is 42996, all on the LHS.)\n",
      " \n",
      "  Equation 'E_SQALLs'\n",
      "     Submatrix for variable 's_QALLs'\n",
      "     (Number of nonzeros is 135, all on the LHS.)\n",
      " \n",
      "  Equation 'E_PWATERgl'\n",
      "     Submatrix for variable 's_QALLg'\n",
      "     (Number of nonzeros is 85992, all on the LHS.)\n",
      "     Submatrix for variable 'p_QCROPgcl'\n",
      "     (Number of nonzeros is 1374976, all on the LHS.)\n",
      "     Submatrix for variable 'p_PCROPgcl'\n",
      "     (Number of nonzeros is 1374976, all on the LHS.)\n",
      "     Submatrix for variable 'p_PWATERgl'\n",
      "     (Number of nonzeros is 128988, all on the LHS.)\n",
      "     Submatrix for variable 'p_PFRSTr'\n",
      "     (Number of nonzeros is 85880, all on the LHS.)\n",
      "     Submatrix for variable 'p_PGRAZr'\n",
      "     (Number of nonzeros is 85880, all on the LHS.)\n",
      "     Submatrix for variable 'p_QFRSTr'\n",
      "     (Number of nonzeros is 85880, all on the LHS.)\n",
      "     Submatrix for variable 'p_QGRAZr'\n",
      "     (Number of nonzeros is 85880, all on the LHS.)\n",
      " \n",
      "  Equation 'E_QFRSTr'\n",
      "     Submatrix for variable 's_QALLg'\n",
      "     (Number of nonzeros is 42996, all on the LHS.)\n",
      "     Submatrix for variable 'p_QCROPgcl'\n",
      "     (Number of nonzeros is 687936, all on the LHS.)\n",
      "     Submatrix for variable 'p_PCROPgcl'\n",
      "     (Number of nonzeros is 687936, all on the LHS.)\n",
      "     Submatrix for variable 'p_PWATERgl'\n",
      "     (Number of nonzeros is 42940, all on the LHS.)\n",
      "     Submatrix for variable 'p_PFRSTr'\n",
      "     (Number of nonzeros is 17, all on the LHS.)\n",
      "     Submatrix for variable 'p_PGRAZr'\n",
      "     (Number of nonzeros is 17, all on the LHS.)\n",
      "     Submatrix for variable 'p_QFRSTr'\n",
      "     (Number of nonzeros is 17, all on the LHS.)\n",
      "     Submatrix for variable 'p_QGRAZr'\n",
      "     (Number of nonzeros is 17, all on the LHS.)\n",
      " \n",
      "  Equation 'E_PFRSTr'\n",
      "     Submatrix for variable 'p_PFRSTr'\n",
      "     (Number of nonzeros is 17, all on the LHS.)\n",
      "     Submatrix for variable 'p_QFRSTr'\n",
      "     (Number of nonzeros is 17, all on the LHS.)\n",
      " \n",
      "  Equation 'E_QGRAZr'\n",
      "     Submatrix for variable 's_QALLg'\n",
      "     (Number of nonzeros is 42996, all on the LHS.)\n",
      "     Submatrix for variable 'p_QCROPgcl'\n",
      "     (Number of nonzeros is 687936, all on the LHS.)\n",
      "     Submatrix for variable 'p_PCROPgcl'\n",
      "     (Number of nonzeros is 687936, all on the LHS.)\n",
      "     Submatrix for variable 'p_PWATERgl'\n",
      "     (Number of nonzeros is 42940, all on the LHS.)\n",
      "     Submatrix for variable 'p_PFRSTr'\n",
      "     (Number of nonzeros is 17, all on the LHS.)\n",
      "     Submatrix for variable 'p_PGRAZr'\n",
      "     (Number of nonzeros is 17, all on the LHS.)\n",
      "     Submatrix for variable 'p_QFRSTr'\n",
      "     (Number of nonzeros is 17, all on the LHS.)\n",
      "     Submatrix for variable 'p_QGRAZr'\n",
      "     (Number of nonzeros is 17, all on the LHS.)\n",
      " \n",
      "  Equation 'E_PGRAZr'\n",
      "     Submatrix for variable 'p_PGRAZr'\n",
      "     (Number of nonzeros is 17, all on the LHS.)\n",
      "     Submatrix for variable 'p_QGRAZr'\n",
      "     (Number of nonzeros is 17, all on the LHS.)\n",
      " \n",
      "  Equation 'E_QNITROr'\n",
      "     Submatrix for variable 'p_QCROPgcl'\n",
      "     (Number of nonzeros is 687936, all on the LHS.)\n",
      "     Submatrix for variable 'p_PCROPgcl'\n",
      "     (Number of nonzeros is 687936, all on the LHS.)\n",
      "     Submatrix for variable 'p_QNITROr'\n",
      "     (Number of nonzeros is 17, all on the LHS.)\n",
      "     Submatrix for variable 'p_PNITROr'\n",
      "     (Number of nonzeros is 17, all on the LHS.)\n",
      "     Submatrix for variable 'p_QLABORr'\n",
      "     (Number of nonzeros is 17, all on the LHS.)\n",
      "     Submatrix for variable 'p_PLABORr'\n",
      "     (Number of nonzeros is 17, all on the LHS.)\n",
      "     Submatrix for variable 'p_POTHERs'\n",
      "     (Number of nonzeros is 141, all on the LHS.)\n",
      " \n",
      "  Equation 'E_PNITROr'\n",
      "     Submatrix for variable 'p_QNITROr'\n",
      "     (Number of nonzeros is 17, all on the LHS.)\n",
      "     Submatrix for variable 'p_PNITROr'\n",
      "     (Number of nonzeros is 17, all on the LHS.)\n",
      " \n",
      "  Equation 'E_VLABORr'\n",
      "     Submatrix for variable 'p_QLABORr'\n",
      "     (Number of nonzeros is 17, all on the LHS.)\n",
      "     Submatrix for variable 'p_PLABORr'\n",
      "     (Number of nonzeros is 17, all on the LHS.)\n",
      "     Submatrix for variable 'p_VLABORr'\n",
      "     (Number of nonzeros is 17, all on the LHS.)\n",
      " \n",
      "  Equation 'E_PLABORr'\n",
      "     Submatrix for variable 'p_QLABORr'\n",
      "     (Number of nonzeros is 17, all on the LHS.)\n",
      "     Submatrix for variable 'p_PLABORr'\n",
      "     (Number of nonzeros is 17, all on the LHS.)\n",
      " \n",
      "  Equation 'E_QLABORr'\n",
      "     Submatrix for variable 'p_QCROPgcl'\n",
      "     (Number of nonzeros is 687936, all on the LHS.)\n",
      "     Submatrix for variable 'p_PCROPgcl'\n",
      "     (Number of nonzeros is 687936, all on the LHS.)\n",
      "     Submatrix for variable 'p_PNITROr'\n",
      "     (Number of nonzeros is 17, all on the LHS.)\n",
      "     Submatrix for variable 'p_QLABORr'\n",
      "     (Number of nonzeros is 17, all on the LHS.)\n",
      "     Submatrix for variable 'p_PLABORr'\n",
      "     (Number of nonzeros is 17, all on the LHS.)\n",
      "     Submatrix for variable 'p_POTHERs'\n",
      "     (Number of nonzeros is 141, all on the LHS.)\n",
      " \n",
      "  Equation 'E_QNLANDr'\n",
      "     Submatrix for variable 'p_QCROPgcl'\n",
      "     (Number of nonzeros is 687936, all on the LHS.)\n",
      "     Submatrix for variable 'p_PCROPgcl'\n",
      "     (Number of nonzeros is 687936, all on the LHS.)\n",
      "     Submatrix for variable 'p_PNITROr'\n",
      "     (Number of nonzeros is 17, all on the LHS.)\n",
      "     Submatrix for variable 'p_QLABORr'\n",
      "     (Number of nonzeros is 17, all on the LHS.)\n",
      "     Submatrix for variable 'p_PLABORr'\n",
      "     (Number of nonzeros is 17, all on the LHS.)\n",
      "     Submatrix for variable 'p_QNLANDr'\n",
      "     (Number of nonzeros is 17, all on the LHS.)\n",
      "     Submatrix for variable 'p_POTHERs'\n",
      "     (Number of nonzeros is 141, all on the LHS.)\n",
      " \n",
      "  Equation 'E_PNLANDr'\n",
      "     Submatrix for variable 'p_QNLANDr'\n",
      "     (Number of nonzeros is 17, all on the LHS.)\n",
      "     Submatrix for variable 'p_PNLANDr'\n",
      "     (Number of nonzeros is 17, all on the LHS.)\n",
      " \n",
      "  Equation 'E_QOTHERs'\n",
      "     Submatrix for variable 'p_QCROPgcl'\n",
      "     (Number of nonzeros is 687936, all on the LHS.)\n",
      "     Submatrix for variable 'p_PCROPgcl'\n",
      "     (Number of nonzeros is 687936, all on the LHS.)\n",
      "     Submatrix for variable 'p_PNITROr'\n",
      "     (Number of nonzeros is 141, all on the LHS.)\n",
      "     Submatrix for variable 'p_QLABORr'\n",
      "     (Number of nonzeros is 141, all on the LHS.)\n",
      "     Submatrix for variable 'p_PLABORr'\n",
      "     (Number of nonzeros is 141, all on the LHS.)\n",
      "     Submatrix for variable 'p_QOTHERs'\n",
      "     (Number of nonzeros is 135, all on the LHS.)\n",
      "     Submatrix for variable 'p_POTHERs'\n",
      "     (Number of nonzeros is 135, all on the LHS.)\n",
      " \n",
      "  Equation 'E_POTHERs'\n",
      "     Submatrix for variable 's_QALLs'\n",
      "     (Number of nonzeros is 135, all on the LHS.)\n",
      "     Submatrix for variable 'p_QOTHERs'\n",
      "     (Number of nonzeros is 135, all on the LHS.)\n",
      "     Submatrix for variable 'p_POTHERs'\n",
      "     (Number of nonzeros is 135, all on the LHS.)\n",
      " \n",
      "  Equation 'E_PCROPgcl'\n",
      "     Submatrix for variable 's_QALLg'\n",
      "     (Number of nonzeros is 443603, all on the LHS.)\n",
      "     Submatrix for variable 'p_QCROPgcl'\n",
      "     (Number of nonzeros is 7097648, all on the LHS.)\n",
      "     Submatrix for variable 'p_PCROPgcl'\n",
      "     (Number of nonzeros is 7341981, all on the LHS.)\n",
      "     Submatrix for variable 'p_PWATERgl'\n",
      "     (Number of nonzeros is 443601, all on the LHS.)\n",
      "     Submatrix for variable 'p_PFRSTr'\n",
      "     (Number of nonzeros is 443603, all on the LHS.)\n",
      "     Submatrix for variable 'p_PGRAZr'\n",
      "     (Number of nonzeros is 443603, all on the LHS.)\n",
      "     Submatrix for variable 'p_QFRSTr'\n",
      "     (Number of nonzeros is 443603, all on the LHS.)\n",
      "     Submatrix for variable 'p_QGRAZr'\n",
      "     (Number of nonzeros is 443603, all on the LHS.)\n",
      "     Submatrix for variable 'p_PNITROr'\n",
      "     (Number of nonzeros is 443603, all on the LHS.)\n",
      "     Submatrix for variable 'p_QLABORr'\n",
      "     (Number of nonzeros is 443603, all on the LHS.)\n",
      "     Submatrix for variable 'p_PLABORr'\n",
      "     (Number of nonzeros is 443603, all on the LHS.)\n",
      "     Submatrix for variable 'p_POTHERs'\n",
      "     (Number of nonzeros is 443603, all on the LHS.)\n",
      " \n",
      "  Equation 'E_QCROPr'\n",
      "     Submatrix for variable 'p_QCROPgcl'\n",
      "     (Number of nonzeros is 687936, all on the LHS.)\n",
      "     Submatrix for variable 'p_QCROPr'\n",
      "     (Number of nonzeros is 17, all on the LHS.)\n",
      " \n",
      "  Equation 'E_PCROPr'\n",
      "     Submatrix for variable 'p_PCROPgcl'\n",
      "     (Number of nonzeros is 687936, all on the LHS.)\n",
      "     Submatrix for variable 'p_PCROPr'\n",
      "     (Number of nonzeros is 17, all on the LHS.)\n",
      " \n",
      "  Equation 'E_QCRPBIOF'\n",
      "     Submatrix for variable 'p_QCRPBIOF'\n",
      "     (Number of nonzeros is 17, all on the LHS.)\n",
      " \n",
      "  Equation 'E_QPC'\n",
      "     Submatrix for variable 'p_P'\n",
      "     (Number of nonzeros is 51, all on the LHS.)\n",
      "     Submatrix for variable 'p_QPC'\n",
      "     (Number of nonzeros is 68, all on the LHS.)\n",
      " \n",
      "  Equation 'E_QCONS'\n",
      "     Submatrix for variable 'p_QCONS'\n",
      "     (Number of nonzeros is 68, all on the LHS.)\n",
      "     Submatrix for variable 'p_QPC'\n",
      "     (Number of nonzeros is 68, all on the LHS.)\n",
      " \n",
      "  Equation 'E_VCONS'\n",
      "     Submatrix for variable 'p_P'\n",
      "     (Number of nonzeros is 51, all on the LHS.)\n",
      "     Submatrix for variable 'p_QCONS'\n",
      "     (Number of nonzeros is 68, all on the LHS.)\n",
      "     Submatrix for variable 'p_VCONS'\n",
      "     (Number of nonzeros is 68, all on the LHS.)\n",
      " \n",
      "  Equation 'E_PDCROPr'\n",
      "     Submatrix for variable 'p_PCROPrb'\n",
      "     (Number of nonzeros is 17, all on the LHS.)\n",
      "     Submatrix for variable 'p_PDCROPr'\n",
      "     (Number of nonzeros is 17, all on the LHS.)\n",
      " \n",
      "  Equation 'E_PCROPCONSr'\n",
      "     Submatrix for variable 'p_P'\n",
      "     (Number of nonzeros is 17, all on the LHS.)\n",
      "     Submatrix for variable 'p_PCROPrb'\n",
      "     (Number of nonzeros is 17, all on the LHS.)\n",
      " \n",
      "  Equation 'E_QCRPFEEDr'\n",
      "     Submatrix for variable 'p_QCROPrb'\n",
      "     (Number of nonzeros is 17, all on the LHS.)\n",
      "     Submatrix for variable 'p_QCRPFEED'\n",
      "     (Number of nonzeros is 17, all on the LHS.)\n",
      " \n",
      "  Equation 'E_QCRPFOODr'\n",
      "     Submatrix for variable 'p_QCROPrb'\n",
      "     (Number of nonzeros is 17, all on the LHS.)\n",
      "     Submatrix for variable 'p_QCRPFOOD'\n",
      "     (Number of nonzeros is 17, all on the LHS.)\n",
      " \n",
      "  Equation 'E_QCRPCONSr'\n",
      "     Submatrix for variable 'p_QCROPrb'\n",
      "     (Number of nonzeros is 17, all on the LHS.)\n",
      "     Submatrix for variable 'p_QCONS'\n",
      "     (Number of nonzeros is 17, all on the LHS.)\n",
      " \n",
      "  Equation 'E_QCROPcrb_tot'\n",
      "     Submatrix for variable 'p_QCROPcrb_tot'\n",
      "     (Number of nonzeros is 408, all on the LHS.)\n",
      "     Submatrix for variable 'p_PCROPcrb_tot'\n",
      "     (Number of nonzeros is 408, all on the LHS.)\n",
      "     Submatrix for variable 'p_QCROPrb'\n",
      "     (Number of nonzeros is 408, all on the LHS.)\n",
      "     Submatrix for variable 'p_PCROPrb'\n",
      "     (Number of nonzeros is 408, all on the LHS.)\n",
      " \n",
      "  Equation 'E_QCROPcrb_loc'\n",
      "     Submatrix for variable 'p_QCROPcrb_loc'\n",
      "     (Number of nonzeros is 408, all on the LHS.)\n",
      "     Submatrix for variable 'p_QCROPcrb_tot'\n",
      "     (Number of nonzeros is 408, all on the LHS.)\n",
      "     Submatrix for variable 'p_PCROPcrb_loc'\n",
      "     (Number of nonzeros is 408, all on the LHS.)\n",
      "     Submatrix for variable 'p_PCROPcrb_tot'\n",
      "     (Number of nonzeros is 408, all on the LHS.)\n",
      " \n",
      "  Equation 'E_QCROPcr_loc'\n",
      "     Submatrix for variable 'p_QCROPcrb_loc'\n",
      "     (Number of nonzeros is 408, all on the LHS.)\n",
      "     Submatrix for variable 'p_QCROPcr_loc'\n",
      "     (Number of nonzeros is 136, all on the LHS.)\n",
      "     Submatrix for variable 'p_QCRPBIOF'\n",
      "     (Number of nonzeros is 136, all on the LHS.)\n",
      " \n",
      "  Equation 'E_QCROPcs_loc'\n",
      "     Submatrix for variable 'p_QCROPcs_loc'\n",
      "     (Number of nonzeros is 136, all on the LHS.)\n",
      "     Submatrix for variable 'p_QCROPcr_loc'\n",
      "     (Number of nonzeros is 136, all on the LHS.)\n",
      " \n",
      "  Equation 'E_QCROPcrb_imp'\n",
      "     Submatrix for variable 'p_QCROPcrb_imp'\n",
      "     (Number of nonzeros is 408, all on the LHS.)\n",
      "     Submatrix for variable 'p_QCROPcrb_tot'\n",
      "     (Number of nonzeros is 408, all on the LHS.)\n",
      "     Submatrix for variable 'p_PCROPcrb_imp'\n",
      "     (Number of nonzeros is 408, all on the LHS.)\n",
      "     Submatrix for variable 'p_PCROPcrb_tot'\n",
      "     (Number of nonzeros is 408, all on the LHS.)\n",
      " \n",
      "  Equation 'E_QCROPcr_imp'\n",
      "     Submatrix for variable 'p_QCROPcrb_imp'\n",
      "     (Number of nonzeros is 408, all on the LHS.)\n",
      "     Submatrix for variable 'p_QCROPcr_imp'\n",
      "     (Number of nonzeros is 136, all on the LHS.)\n",
      " \n",
      "  Equation 'E_QCROPc_imp'\n",
      "     Submatrix for variable 'p_QCROPcrb_imp'\n",
      "     (Number of nonzeros is 408, all on the LHS.)\n",
      "     Submatrix for variable 'p_QCROPc_imp'\n",
      "     (Number of nonzeros is 8, all on the LHS.)\n",
      " \n",
      "  Equation 'E_QCROPc_trd'\n",
      "     Submatrix for variable 'p_QCROPc_trd'\n",
      "     (Number of nonzeros is 8, all on the LHS.)\n",
      "     Submatrix for variable 'p_QCROPc_imp'\n",
      "     (Number of nonzeros is 8, all on the LHS.)\n",
      " \n",
      "  Equation 'E_QCROPcs_exp'\n",
      "     Submatrix for variable 'p_QCROPcs_exp'\n",
      "     (Number of nonzeros is 136, all on the LHS.)\n",
      "     Submatrix for variable 'p_PCROPcs_exp'\n",
      "     (Number of nonzeros is 136, all on the LHS.)\n",
      "     Submatrix for variable 'p_QCROPc_trd'\n",
      "     (Number of nonzeros is 136, all on the LHS.)\n",
      "     Submatrix for variable 'p_PCROPc_trd'\n",
      "     (Number of nonzeros is 136, all on the LHS.)\n",
      "     Submatrix for variable 'p_QCROPcr_imp'\n",
      "     (Number of nonzeros is 0.)\n",
      " \n",
      "  Equation 'E_QCROPcs_xdt'\n",
      "     Submatrix for variable 'p_QCROPcs_loc'\n",
      "     (Number of nonzeros is 136, all on the LHS.)\n",
      "     Submatrix for variable 'p_QCROPcs_exp'\n",
      "     (Number of nonzeros is 136, all on the LHS.)\n",
      "     Submatrix for variable 'p_QCROPcs_xdt'\n",
      "     (Number of nonzeros is 136, all on the LHS.)\n",
      " \n",
      "  Equation 'E_QCROPcs'\n",
      "     Submatrix for variable 'p_QCROPcs'\n",
      "     (Number of nonzeros is 136, all on the LHS.)\n",
      "     Submatrix for variable 'p_QCROPcs_xdt'\n",
      "     (Number of nonzeros is 136, all on the LHS.)\n",
      " \n",
      "  Equation 'E_QCROPcm'\n",
      "     Submatrix for variable 'p_QCROPcm'\n",
      "     (Number of nonzeros is 1080, all on the LHS.)\n",
      "     Submatrix for variable 'p_PCROPcm'\n",
      "     (Number of nonzeros is 1080, all on the LHS.)\n",
      "     Submatrix for variable 'p_QCROPcs'\n",
      "     (Number of nonzeros is 1080, all on the LHS.)\n",
      "     Submatrix for variable 'p_PCROPcs'\n",
      "     (Number of nonzeros is 1080, all on the LHS.)\n",
      " \n",
      "  Equation 'E_QCROPgcl'\n",
      "     Submatrix for variable 'p_QCROPgcl'\n",
      "     (Number of nonzeros is 687936, all on the LHS.)\n",
      "     Submatrix for variable 'p_PCROPgcl'\n",
      "     (Number of nonzeros is 443603, all on the LHS.)\n",
      "     Submatrix for variable 'p_QCROPcm'\n",
      "     (Number of nonzeros is 443603, all on the LHS.)\n",
      "     Submatrix for variable 'p_PCROPcm'\n",
      "     (Number of nonzeros is 443603, all on the LHS.)\n",
      " \n",
      "  Equation 'E_PCROPcm'\n",
      "     Submatrix for variable 'p_PCROPgcl'\n",
      "     (Number of nonzeros is 687936, all on the LHS.)\n",
      "     Submatrix for variable 'p_PCROPcm'\n",
      "     (Number of nonzeros is 1080, all on the LHS.)\n",
      " \n",
      "  Equation 'E_PCROPcs'\n",
      "     Submatrix for variable 'p_PCROPcm'\n",
      "     (Number of nonzeros is 1080, all on the LHS.)\n",
      "     Submatrix for variable 'p_PCROPcs'\n",
      "     (Number of nonzeros is 136, all on the LHS.)\n",
      " \n",
      "  Equation 'E_PCROPcs_exp'\n",
      "     Submatrix for variable 'p_QCROPcs'\n",
      "     (Number of nonzeros is 136, all on the LHS.)\n",
      "     Submatrix for variable 'p_PCROPcs'\n",
      "     (Number of nonzeros is 136, all on the LHS.)\n",
      "     Submatrix for variable 'p_QCROPcs_exp'\n",
      "     (Number of nonzeros is 136, all on the LHS.)\n",
      "     Submatrix for variable 'p_PCROPcs_exp'\n",
      "     (Number of nonzeros is 136, all on the LHS.)\n",
      " \n",
      "  Equation 'E_PCROPcs_loc'\n",
      "     Submatrix for variable 'p_QCROPcs'\n",
      "     (Number of nonzeros is 136, all on the LHS.)\n",
      "     Submatrix for variable 'p_PCROPcs'\n",
      "     (Number of nonzeros is 136, all on the LHS.)\n",
      "     Submatrix for variable 'p_QCROPcs_loc'\n",
      "     (Number of nonzeros is 136, all on the LHS.)\n",
      "     Submatrix for variable 'p_PCROPcs_loc'\n",
      "     (Number of nonzeros is 136, all on the LHS.)\n",
      " \n",
      "  Equation 'E_PCROPc_exp'\n",
      "     Submatrix for variable 'p_PCROPcs_exp'\n",
      "     (Number of nonzeros is 136, all on the LHS.)\n",
      "     Submatrix for variable 'p_PCROPc_exp'\n",
      "     (Number of nonzeros is 8, all on the LHS.)\n",
      " \n",
      "  Equation 'E_PCROPc_trd'\n",
      "     Submatrix for variable 'p_PCROPc_trd'\n",
      "     (Number of nonzeros is 8, all on the LHS.)\n",
      "     Submatrix for variable 'p_PCROPc_exp'\n",
      "     (Number of nonzeros is 8, all on the LHS.)\n",
      " \n",
      "  Equation 'E_PCROP'\n",
      "     Submatrix for variable 'p_PCROPr'\n",
      "     (Number of nonzeros is 17, all on the LHS.)\n",
      "     Submatrix for variable 'p_PCROP'\n",
      "     (Number of nonzeros is 1, all on the LHS.)\n",
      " \n",
      "  Equation 'E_QCROPc_exp'\n",
      "     Submatrix for variable 'p_QCROPcs_exp'\n",
      "     (Number of nonzeros is 136, all on the LHS.)\n",
      "     Submatrix for variable 'p_QCROPc_exp'\n",
      "     (Number of nonzeros is 8, all on the LHS.)\n",
      " \n",
      "  Equation 'E_PCROPrb'\n",
      "     Submatrix for variable 'p_PCROPcrb_tot'\n",
      "     (Number of nonzeros is 408, all on the LHS.)\n",
      "     Submatrix for variable 'p_PCROPrb'\n",
      "     (Number of nonzeros is 51, all on the LHS.)\n",
      " \n",
      "  Equation 'E_PCROPcr_loc'\n",
      "     Submatrix for variable 'p_PCROPcrb_loc'\n",
      "     (Number of nonzeros is 408, all on the LHS.)\n",
      "     Submatrix for variable 'p_PCROPcr_loc'\n",
      "     (Number of nonzeros is 136, all on the LHS.)\n",
      " \n",
      "  Equation 'E_VCROPcrb_wld'\n",
      "     Submatrix for variable 'p_QCROPcrb_imp'\n",
      "     (Number of nonzeros is 408, all on the LHS.)\n",
      "     Submatrix for variable 'p_PCROPc_trd'\n",
      "     (Number of nonzeros is 408, all on the LHS.)\n",
      "     Submatrix for variable 'p_VCROPcrb_wld'\n",
      "     (Number of nonzeros is 408, all on the LHS.)\n",
      " \n",
      "  Equation 'E_MTAXcr'\n",
      "     Submatrix for variable 'p_QCROPcrb_imp'\n",
      "     (Number of nonzeros is 408, all on the LHS.)\n",
      "     Submatrix for variable 'p_PCROPcrb_imp'\n",
      "     (Number of nonzeros is 408, all on the LHS.)\n",
      "     Submatrix for variable 'p_VCROPcrb_wld'\n",
      "     (Number of nonzeros is 408, all on the LHS.)\n",
      "     Submatrix for variable 'c_MTAXcr'\n",
      "     (Number of nonzeros is 136, all on the LHS.)\n",
      " \n",
      "  Equation 'E_PCROPcrb'\n",
      "     Submatrix for variable 'p_PCROPcrb_loc'\n",
      "     (Number of nonzeros is 408, all on the LHS.)\n",
      "     Submatrix for variable 'p_PCROPcrb_imp'\n",
      "     (Number of nonzeros is 408, all on the LHS.)\n",
      "     Submatrix for variable 'p_PCROPcrb_tot'\n",
      "     (Number of nonzeros is 408, all on the LHS.)\n",
      " \n",
      "  Equation 'E_PCROPcrb_imp'\n",
      "     Submatrix for variable 'p_PCROPcrb_imp'\n",
      "     (Number of nonzeros is 408, all on the LHS.)\n",
      "     Submatrix for variable 'p_PCROPcs_loc'\n",
      "     (Number of nonzeros is 0.)\n",
      "     Submatrix for variable 'p_PCROPc_trd'\n",
      "     (Number of nonzeros is 408, all on the LHS.)\n",
      "     Submatrix for variable 'tmcrb'\n",
      "     (Number of nonzeros is 408, all corresponding to shocks.)\n",
      " \n",
      "  Equation 'E_PCROPcrb_loc'\n",
      "     Submatrix for variable 'p_PCROPcrb_loc'\n",
      "     (Number of nonzeros is 408, all on the LHS.)\n",
      "     Submatrix for variable 'p_PCROPcs_loc'\n",
      "     (Number of nonzeros is 408, all on the LHS.)\n",
      " \n",
      "  Equation 'E_PCROPc_imp'\n",
      "     Submatrix for variable 'p_PCROPcrb_imp'\n",
      "     (Number of nonzeros is 408, all on the LHS.)\n",
      "     Submatrix for variable 'p_PCROPc_imp'\n",
      "     (Number of nonzeros is 8, all on the LHS.)\n",
      " \n",
      "  Equation 'E_VNCRPFOODg'\n",
      "     Submatrix for variable 'p_QNCRPFOOD'\n",
      "     (Number of nonzeros is 17, all on the LHS.)\n",
      "     Submatrix for variable 'p_VNCRPFOOD'\n",
      "     (Number of nonzeros is 17, all on the LHS.)\n",
      " \n",
      "  Equation 'E_VNCRPFEEDg'\n",
      "     Submatrix for variable 'p_QNCRPFEED'\n",
      "     (Number of nonzeros is 17, all on the LHS.)\n",
      "     Submatrix for variable 'p_VNCRPFEED'\n",
      "     (Number of nonzeros is 17, all on the LHS.)\n",
      " \n",
      "  Equation 'E_TFP_LVSTOCK'\n",
      "     Submatrix for variable 'p_P'\n",
      "     (Number of nonzeros is 17, all on the LHS.)\n",
      "     Submatrix for variable 'p_QCRPFEED'\n",
      "     (Number of nonzeros is 17, all on the LHS.)\n",
      "     Submatrix for variable 'p_VCONS'\n",
      "     (Number of nonzeros is 17, all on the LHS.)\n",
      "     Submatrix for variable 'p_QNCRPFEED'\n",
      "     (Number of nonzeros is 17, all on the LHS.)\n",
      "     Submatrix for variable 'p_TFP_LVSTOCK'\n",
      "     (Number of nonzeros is 17, all on the LHS.)\n",
      " \n",
      "  Equation 'E_TFP_LVSTOCKW'\n",
      "     Submatrix for variable 'p_VCONS'\n",
      "     (Number of nonzeros is 17, all on the LHS.)\n",
      "     Submatrix for variable 'p_TFP_LVSTOCK'\n",
      "     (Number of nonzeros is 17, all on the LHS.)\n",
      "     Submatrix for variable 'p_TFP_LVSTOCKW'\n",
      "     (Number of nonzeros is 1, all on the LHS.)\n",
      " \n",
      "  Equation 'E_TFP_PROC_FD'\n",
      "     Submatrix for variable 'p_P'\n",
      "     (Number of nonzeros is 17, all on the LHS.)\n",
      "     Submatrix for variable 'p_QCRPFOOD'\n",
      "     (Number of nonzeros is 17, all on the LHS.)\n",
      "     Submatrix for variable 'p_VCONS'\n",
      "     (Number of nonzeros is 17, all on the LHS.)\n",
      "     Submatrix for variable 'p_QNCRPFOOD'\n",
      "     (Number of nonzeros is 17, all on the LHS.)\n",
      "     Submatrix for variable 'p_TFP_PROC_FD'\n",
      "     (Number of nonzeros is 17, all on the LHS.)\n",
      " \n",
      "  Equation 'E_TFP_PROC_FDW'\n",
      "     Submatrix for variable 'p_VCONS'\n",
      "     (Number of nonzeros is 17, all on the LHS.)\n",
      "     Submatrix for variable 'p_TFP_PROC_FD'\n",
      "     (Number of nonzeros is 17, all on the LHS.)\n",
      "     Submatrix for variable 'p_TFP_PROC_FDW'\n",
      "     (Number of nonzeros is 1, all on the LHS.)\n",
      " \n",
      "  Equation 'E_QCRPFEED'\n",
      "     Submatrix for variable 'p_P'\n",
      "     (Number of nonzeros is 17, all on the LHS.)\n",
      "     Submatrix for variable 'p_PCROPrb'\n",
      "     (Number of nonzeros is 17, all on the LHS.)\n",
      "     Submatrix for variable 'p_QCRPFEED'\n",
      "     (Number of nonzeros is 17, all on the LHS.)\n",
      "     Submatrix for variable 'p_QCONS'\n",
      "     (Number of nonzeros is 17, all on the LHS.)\n",
      " \n",
      "  Equation 'E_QNCRPFEED'\n",
      "     Submatrix for variable 'p_P'\n",
      "     (Number of nonzeros is 17, all on the LHS.)\n",
      "     Submatrix for variable 'p_QCONS'\n",
      "     (Number of nonzeros is 17, all on the LHS.)\n",
      "     Submatrix for variable 'p_QNCRPFEED'\n",
      "     (Number of nonzeros is 17, all on the LHS.)\n",
      " \n",
      "  Equation 'E_QCRPFOOD'\n",
      "     Submatrix for variable 'p_P'\n",
      "     (Number of nonzeros is 0.)\n",
      "     Submatrix for variable 'p_PCROPrb'\n",
      "     (Number of nonzeros is 0.)\n",
      "     Submatrix for variable 'p_QCRPFOOD'\n",
      "     (Number of nonzeros is 17, all on the LHS.)\n",
      "     Submatrix for variable 'p_QCONS'\n",
      "     (Number of nonzeros is 17, all on the LHS.)\n",
      " \n",
      "  Equation 'E_QNCRPFOOD'\n",
      "     Submatrix for variable 'p_P'\n",
      "     (Number of nonzeros is 0.)\n",
      "     Submatrix for variable 'p_QCONS'\n",
      "     (Number of nonzeros is 17, all on the LHS.)\n",
      "     Submatrix for variable 'p_QNCRPFOOD'\n",
      "     (Number of nonzeros is 17, all on the LHS.)\n",
      " \n",
      "  Equation 'E_QCONS_LIVESTOCK'\n",
      "     Submatrix for variable 'p_P'\n",
      "     (Number of nonzeros is 17, all on the LHS.)\n",
      "     Submatrix for variable 'p_PCROPrb'\n",
      "     (Number of nonzeros is 17, all on the LHS.)\n",
      " \n",
      "  Equation 'E_QCONS_PRCFOOD'\n",
      "     Submatrix for variable 'p_P'\n",
      "     (Number of nonzeros is 17, all on the LHS.)\n",
      "     Submatrix for variable 'p_PCROPrb'\n",
      "     (Number of nonzeros is 17, all on the LHS.)\n",
      " \n",
      "  Equation 'E_QWATSRF'\n",
      "     Submatrix for variable 's_QALLg'\n",
      "     (Number of nonzeros is 42940, all on the LHS.)\n",
      "     Submatrix for variable 'p_QCROPgcl'\n",
      "     (Number of nonzeros is 687488, all on the LHS.)\n",
      "     Submatrix for variable 'p_PCROPgcl'\n",
      "     (Number of nonzeros is 687488, all on the LHS.)\n",
      "     Submatrix for variable 'p_PWATERgl'\n",
      "     (Number of nonzeros is 42996, all on the LHS.)\n",
      "     Submatrix for variable 'p_PFRSTr'\n",
      "     (Number of nonzeros is 17, all on the LHS.)\n",
      "     Submatrix for variable 'p_PGRAZr'\n",
      "     (Number of nonzeros is 17, all on the LHS.)\n",
      "     Submatrix for variable 'p_QFRSTr'\n",
      "     (Number of nonzeros is 17, all on the LHS.)\n",
      "     Submatrix for variable 'p_QGRAZr'\n",
      "     (Number of nonzeros is 17, all on the LHS.)\n",
      "     Submatrix for variable 'p_QWATSRF'\n",
      "     (Number of nonzeros is 1, all on the LHS.)\n",
      " \n",
      "  Equation 'E_QWATGRD'\n",
      "     Submatrix for variable 's_QALLg'\n",
      "     (Number of nonzeros is 42940, all on the LHS.)\n",
      "     Submatrix for variable 'p_QCROPgcl'\n",
      "     (Number of nonzeros is 687488, all on the LHS.)\n",
      "     Submatrix for variable 'p_PCROPgcl'\n",
      "     (Number of nonzeros is 687488, all on the LHS.)\n",
      "     Submatrix for variable 'p_PWATERgl'\n",
      "     (Number of nonzeros is 42996, all on the LHS.)\n",
      "     Submatrix for variable 'p_PFRSTr'\n",
      "     (Number of nonzeros is 17, all on the LHS.)\n",
      "     Submatrix for variable 'p_PGRAZr'\n",
      "     (Number of nonzeros is 17, all on the LHS.)\n",
      "     Submatrix for variable 'p_QFRSTr'\n",
      "     (Number of nonzeros is 17, all on the LHS.)\n",
      "     Submatrix for variable 'p_QGRAZr'\n",
      "     (Number of nonzeros is 17, all on the LHS.)\n",
      "     Submatrix for variable 'p_QWATGRD'\n",
      "     (Number of nonzeros is 1, all on the LHS.)\n",
      " \n",
      "  Equation 'E_QWATER'\n",
      "     Submatrix for variable 'p_QWATSRF'\n",
      "     (Number of nonzeros is 1, all on the LHS.)\n",
      "     Submatrix for variable 'p_QWATGRD'\n",
      "     (Number of nonzeros is 1, all on the LHS.)\n",
      "     Submatrix for variable 'p_QWATER'\n",
      "     (Number of nonzeros is 1, all on the LHS.)\n",
      " \n",
      "  Equation 'E_QLANDIR'\n",
      "     Submatrix for variable 's_QALLg'\n",
      "     (Number of nonzeros is 42996, all on the LHS.)\n",
      "     Submatrix for variable 'p_QCROPgcl'\n",
      "     (Number of nonzeros is 687936, all on the LHS.)\n",
      "     Submatrix for variable 'p_PCROPgcl'\n",
      "     (Number of nonzeros is 687936, all on the LHS.)\n",
      "     Submatrix for variable 'p_PWATERgl'\n",
      "     (Number of nonzeros is 42940, all on the LHS.)\n",
      "     Submatrix for variable 'p_PFRSTr'\n",
      "     (Number of nonzeros is 17, all on the LHS.)\n",
      "     Submatrix for variable 'p_PGRAZr'\n",
      "     (Number of nonzeros is 17, all on the LHS.)\n",
      "     Submatrix for variable 'p_QFRSTr'\n",
      "     (Number of nonzeros is 17, all on the LHS.)\n",
      "     Submatrix for variable 'p_QGRAZr'\n",
      "     (Number of nonzeros is 17, all on the LHS.)\n",
      "     Submatrix for variable 'p_QLANDIR'\n",
      "     (Number of nonzeros is 1, all on the LHS.)\n",
      " \n",
      "  Equation 'E_QLANDRF'\n",
      "     Submatrix for variable 's_QALLg'\n",
      "     (Number of nonzeros is 42996, all on the LHS.)\n",
      "     Submatrix for variable 'p_QCROPgcl'\n",
      "     (Number of nonzeros is 687936, all on the LHS.)\n",
      "     Submatrix for variable 'p_PCROPgcl'\n",
      "     (Number of nonzeros is 687936, all on the LHS.)\n",
      "     Submatrix for variable 'p_PWATERgl'\n",
      "     (Number of nonzeros is 42940, all on the LHS.)\n",
      "     Submatrix for variable 'p_PFRSTr'\n",
      "     (Number of nonzeros is 17, all on the LHS.)\n",
      "     Submatrix for variable 'p_PGRAZr'\n",
      "     (Number of nonzeros is 17, all on the LHS.)\n",
      "     Submatrix for variable 'p_QFRSTr'\n",
      "     (Number of nonzeros is 17, all on the LHS.)\n",
      "     Submatrix for variable 'p_QGRAZr'\n",
      "     (Number of nonzeros is 17, all on the LHS.)\n",
      "     Submatrix for variable 'p_QLANDRF'\n",
      "     (Number of nonzeros is 1, all on the LHS.)\n",
      " \n",
      "  Equation 'E_QLAND'\n",
      "     Submatrix for variable 's_QALLg'\n",
      "     (Number of nonzeros is 42996, all on the LHS.)\n",
      "     Submatrix for variable 'p_QCROPgcl'\n",
      "     (Number of nonzeros is 687936, all on the LHS.)\n",
      "     Submatrix for variable 'p_PCROPgcl'\n",
      "     (Number of nonzeros is 687936, all on the LHS.)\n",
      "     Submatrix for variable 'p_PWATERgl'\n",
      "     (Number of nonzeros is 42940, all on the LHS.)\n",
      "     Submatrix for variable 'p_PFRSTr'\n",
      "     (Number of nonzeros is 17, all on the LHS.)\n",
      "     Submatrix for variable 'p_PGRAZr'\n",
      "     (Number of nonzeros is 17, all on the LHS.)\n",
      "     Submatrix for variable 'p_QFRSTr'\n",
      "     (Number of nonzeros is 17, all on the LHS.)\n",
      "     Submatrix for variable 'p_QGRAZr'\n",
      "     (Number of nonzeros is 17, all on the LHS.)\n",
      "     Submatrix for variable 'p_QLAND'\n",
      "     (Number of nonzeros is 1, all on the LHS.)\n",
      " \n",
      "  Equation 'E_QLANDrl'\n",
      "     Submatrix for variable 's_QALLg'\n",
      "     (Number of nonzeros is 85992, all on the LHS.)\n",
      "     Submatrix for variable 'p_QCROPgcl'\n",
      "     (Number of nonzeros is 1375872, all on the LHS.)\n",
      "     Submatrix for variable 'p_PCROPgcl'\n",
      "     (Number of nonzeros is 1375872, all on the LHS.)\n",
      "     Submatrix for variable 'p_PWATERgl'\n",
      "     (Number of nonzeros is 85880, all on the LHS.)\n",
      "     Submatrix for variable 'p_PFRSTr'\n",
      "     (Number of nonzeros is 34, all on the LHS.)\n",
      "     Submatrix for variable 'p_PGRAZr'\n",
      "     (Number of nonzeros is 34, all on the LHS.)\n",
      "     Submatrix for variable 'p_QFRSTr'\n",
      "     (Number of nonzeros is 34, all on the LHS.)\n",
      "     Submatrix for variable 'p_QGRAZr'\n",
      "     (Number of nonzeros is 34, all on the LHS.)\n",
      "     Submatrix for variable 'p_QLANDrl'\n",
      "     (Number of nonzeros is 34, all on the LHS.)\n",
      " \n",
      "  Equation 'E_QLANDr'\n",
      "     Submatrix for variable 'p_QLANDrl'\n",
      "     (Number of nonzeros is 34, all on the LHS.)\n",
      "     Submatrix for variable 'p_QLANDr'\n",
      "     (Number of nonzeros is 17, all on the LHS.)\n",
      " \n",
      "  Equation 'E_QLANDwi'\n",
      "     Submatrix for variable 'p_QLANDrl'\n",
      "     (Number of nonzeros is 17, all on the LHS.)\n",
      "     Submatrix for variable 'p_QLANDwi'\n",
      "     (Number of nonzeros is 1, all on the LHS.)\n",
      " \n",
      "  Equation 'E_QLANDwr'\n",
      "     Submatrix for variable 'p_QLANDrl'\n",
      "     (Number of nonzeros is 17, all on the LHS.)\n",
      "     Submatrix for variable 'p_QLANDwr'\n",
      "     (Number of nonzeros is 1, all on the LHS.)\n",
      " \n",
      "  Equation 'E_QLANDw'\n",
      "     Submatrix for variable 'p_QLANDwi'\n",
      "     (Number of nonzeros is 1, all on the LHS.)\n",
      "     Submatrix for variable 'p_QLANDwr'\n",
      "     (Number of nonzeros is 1, all on the LHS.)\n",
      "     Submatrix for variable 'p_QLANDw'\n",
      "     (Number of nonzeros is 1, all on the LHS.)\n",
      " \n",
      "  Equation 'E_VLANDr'\n",
      "     Submatrix for variable 's_QALLg'\n",
      "     (Number of nonzeros is 42996, all on the LHS.)\n",
      "     Submatrix for variable 'p_QCROPgcl'\n",
      "     (Number of nonzeros is 687936, all on the LHS.)\n",
      "     Submatrix for variable 'p_PCROPgcl'\n",
      "     (Number of nonzeros is 687936, all on the LHS.)\n",
      "     Submatrix for variable 'p_PWATERgl'\n",
      "     (Number of nonzeros is 42940, all on the LHS.)\n",
      "     Submatrix for variable 'p_PFRSTr'\n",
      "     (Number of nonzeros is 17, all on the LHS.)\n",
      "     Submatrix for variable 'p_PGRAZr'\n",
      "     (Number of nonzeros is 17, all on the LHS.)\n",
      "     Submatrix for variable 'p_QFRSTr'\n",
      "     (Number of nonzeros is 17, all on the LHS.)\n",
      "     Submatrix for variable 'p_QGRAZr'\n",
      "     (Number of nonzeros is 17, all on the LHS.)\n",
      "     Submatrix for variable 'p_VLANDr'\n",
      "     (Number of nonzeros is 17, all on the LHS.)\n",
      " \n",
      "  Equation 'E_PLANDr'\n",
      "     Submatrix for variable 'p_QLANDr'\n",
      "     (Number of nonzeros is 17, all on the LHS.)\n",
      "     Submatrix for variable 'p_VLANDr'\n",
      "     (Number of nonzeros is 17, all on the LHS.)\n",
      "     Submatrix for variable 'p_PLANDr'\n",
      "     (Number of nonzeros is 17, all on the LHS.)\n",
      " \n",
      "  Equation 'E_AGR_VAr'\n",
      "     Submatrix for variable 'p_VLABORr'\n",
      "     (Number of nonzeros is 17, all on the LHS.)\n",
      "     Submatrix for variable 'p_VLANDr'\n",
      "     (Number of nonzeros is 17, all on the LHS.)\n",
      "     Submatrix for variable 'p_AGR_VAr'\n",
      "     (Number of nonzeros is 17, all on the LHS.)\n",
      " \n",
      "  Equation 'E_QWATSRFr'\n",
      "     Submatrix for variable 's_QALLg'\n",
      "     (Number of nonzeros is 42940, all on the LHS.)\n",
      "     Submatrix for variable 'p_QCROPgcl'\n",
      "     (Number of nonzeros is 687488, all on the LHS.)\n",
      "     Submatrix for variable 'p_PCROPgcl'\n",
      "     (Number of nonzeros is 687488, all on the LHS.)\n",
      "     Submatrix for variable 'p_PWATERgl'\n",
      "     (Number of nonzeros is 42996, all on the LHS.)\n",
      "     Submatrix for variable 'p_PFRSTr'\n",
      "     (Number of nonzeros is 17, all on the LHS.)\n",
      "     Submatrix for variable 'p_PGRAZr'\n",
      "     (Number of nonzeros is 17, all on the LHS.)\n",
      "     Submatrix for variable 'p_QFRSTr'\n",
      "     (Number of nonzeros is 17, all on the LHS.)\n",
      "     Submatrix for variable 'p_QGRAZr'\n",
      "     (Number of nonzeros is 17, all on the LHS.)\n",
      "     Submatrix for variable 'p_QWATSRFr'\n",
      "     (Number of nonzeros is 17, all on the LHS.)\n",
      " \n",
      "  Equation 'E_QWATSRFw'\n",
      "     Submatrix for variable 'p_QWATSRFr'\n",
      "     (Number of nonzeros is 17, all on the LHS.)\n",
      "     Submatrix for variable 'p_QWATSRFw'\n",
      "     (Number of nonzeros is 1, all on the LHS.)\n",
      " \n",
      "  Equation 'E_QWATGRDr'\n",
      "     Submatrix for variable 's_QALLg'\n",
      "     (Number of nonzeros is 42940, all on the LHS.)\n",
      "     Submatrix for variable 'p_QCROPgcl'\n",
      "     (Number of nonzeros is 687488, all on the LHS.)\n",
      "     Submatrix for variable 'p_PCROPgcl'\n",
      "     (Number of nonzeros is 687488, all on the LHS.)\n",
      "     Submatrix for variable 'p_PWATERgl'\n",
      "     (Number of nonzeros is 42996, all on the LHS.)\n",
      "     Submatrix for variable 'p_PFRSTr'\n",
      "     (Number of nonzeros is 17, all on the LHS.)\n",
      "     Submatrix for variable 'p_PGRAZr'\n",
      "     (Number of nonzeros is 17, all on the LHS.)\n",
      "     Submatrix for variable 'p_QFRSTr'\n",
      "     (Number of nonzeros is 17, all on the LHS.)\n",
      "     Submatrix for variable 'p_QGRAZr'\n",
      "     (Number of nonzeros is 17, all on the LHS.)\n",
      "     Submatrix for variable 'p_QWATGRDr'\n",
      "     (Number of nonzeros is 17, all on the LHS.)\n",
      " \n",
      "  Equation 'E_QWATGRDw'\n",
      "     Submatrix for variable 'p_QWATGRDr'\n",
      "     (Number of nonzeros is 17, all on the LHS.)\n",
      "     Submatrix for variable 'p_QWATGRDw'\n",
      "     (Number of nonzeros is 1, all on the LHS.)\n",
      " \n",
      "  Equation 'E_QYIELDr'\n",
      "     Submatrix for variable 'p_QCROPr'\n",
      "     (Number of nonzeros is 17, all on the LHS.)\n",
      "     Submatrix for variable 'p_QLANDr'\n",
      "     (Number of nonzeros is 17, all on the LHS.)\n",
      "     Submatrix for variable 'p_QYIELDr'\n",
      "     (Number of nonzeros is 17, all on the LHS.)\n",
      " \n",
      "  Equation 'E_tmp_CAL_COMM'\n",
      "     Submatrix for variable 'p_tmp_CAL_COMM'\n",
      "     (Number of nonzeros is 51, all on the LHS.)\n",
      "     Submatrix for variable 'p_slack_cal'\n",
      "     (Number of nonzeros is 51, all on the LHS.)\n",
      " \n",
      "  Equation 'E_CAL_COMM'\n",
      "     Submatrix for variable 'p_tmp_CAL_COMM'\n",
      "     (Number of nonzeros is 51, all on the LHS.)\n",
      " \n",
      "  Equation 'E_MAL_COUNT'\n",
      "     Submatrix for variable 'p_MAL_INDEX'\n",
      "     (Number of nonzeros is 17, all on the LHS.)\n",
      "     Submatrix for variable 'p_MAL_COUNT'\n",
      "     (Number of nonzeros is 17, all on the LHS.)\n",
      " \n",
      "  Equation 'E_MAL_GAP'\n",
      "     Submatrix for variable 'p_MAL_INDEX'\n",
      "     (Number of nonzeros is 17, all on the LHS.)\n",
      "     Submatrix for variable 'p_MAL_GAP_IND'\n",
      "     (Number of nonzeros is 17, all on the LHS.)\n",
      "     Submatrix for variable 'p_MAL_GAP'\n",
      "     (Number of nonzeros is 17, all on the LHS.)\n",
      " \n",
      "  Equation 'E_CALORIC_GAP'\n",
      "     Submatrix for variable 'p_MAL_GAP'\n",
      "     (Number of nonzeros is 17, all on the LHS.)\n",
      "     Submatrix for variable 'p_MAL_COUNT'\n",
      "     (Number of nonzeros is 17, all on the LHS.)\n",
      "     Submatrix for variable 'p_CALORIC_GAP'\n",
      "     (Number of nonzeros is 17, all on the LHS.)\n",
      " \n",
      "  Equation 'E_QPC_GRAMW'\n",
      "     Submatrix for variable 'p_QCONS_GRAM'\n",
      "     (Number of nonzeros is 51, all on the LHS.)\n",
      "     Submatrix for variable 'p_QPC_GRAMW'\n",
      "     (Number of nonzeros is 3, all on the LHS.)\n",
      " \n",
      "  Equation 'E_QPC_CAL'\n",
      "     Submatrix for variable 'p_QPC_GRAM'\n",
      "     (Number of nonzeros is 51, all on the LHS.)\n",
      "     Submatrix for variable 'p_QPC_CAL'\n",
      "     (Number of nonzeros is 51, all on the LHS.)\n",
      " \n",
      "  Equation 'E_QPC_CALW'\n",
      "     Submatrix for variable 'p_QPC_CAL'\n",
      "     (Number of nonzeros is 51, all on the LHS.)\n",
      "     Submatrix for variable 'p_QPC_CALW'\n",
      "     (Number of nonzeros is 3, all on the LHS.)\n",
      " \n",
      "  Equation 'E_CALORIES'\n",
      "     Submatrix for variable 'p_QPC_GRAM'\n",
      "     (Number of nonzeros is 51, all on the LHS.)\n",
      "     Submatrix for variable 'p_CALORIES'\n",
      "     (Number of nonzeros is 17, all on the LHS.)\n",
      " \n",
      "  Equation 'E_QCONS_GRAM'\n",
      "     Submatrix for variable 'p_QCONS_GRAM'\n",
      "     (Number of nonzeros is 51, all on the LHS.)\n",
      "     Submatrix for variable 'p_QPC_GRAM'\n",
      "     (Number of nonzeros is 51, all on the LHS.)\n",
      " \n",
      "  Equation 'E_QPC_GRAMS'\n",
      "     Submatrix for variable 'p_QPC'\n",
      "     (Number of nonzeros is 51, all on the LHS.)\n",
      "     Submatrix for variable 'p_QPC_GRAM'\n",
      "     (Number of nonzeros is 51, all on the LHS.)\n",
      " \n",
      "  Equation 'E_MAL_INDEX'\n",
      "     Submatrix for variable 'p_MAL_INDEX'\n",
      "     (Number of nonzeros is 11, all on the LHS.)\n",
      "     Submatrix for variable 'p_CALORIES'\n",
      "     (Number of nonzeros is 11, all on the LHS.)\n",
      " \n",
      "  Equation 'E_MAL_GAP_IND'\n",
      "     Submatrix for variable 'p_MAL_GAP_IND'\n",
      "     (Number of nonzeros is 11, all on the LHS.)\n",
      "     Submatrix for variable 'p_CALORIES'\n",
      "     (Number of nonzeros is 11, all on the LHS.)\n",
      " \n",
      "  Equation 'E_MAL_INDEX_OECD'\n",
      "     Submatrix for variable 'p_MAL_INDEX'\n",
      "     (Number of nonzeros is 6, all on the LHS.)\n",
      " \n",
      "  Equation 'E_MAL_GAP_IND_OECD'\n",
      "     Submatrix for variable 'p_MAL_GAP_IND'\n",
      "     (Number of nonzeros is 6, all on the LHS.)\n",
      " \n",
      "  Equation 'E_CALORIESW'\n",
      "     Submatrix for variable 'p_CALORIES'\n",
      "     (Number of nonzeros is 11, all on the LHS.)\n",
      "     Submatrix for variable 'p_CALORIESW'\n",
      "     (Number of nonzeros is 1, all on the LHS.)\n",
      " \n",
      "  Equation 'E_MIN_CALW'\n",
      "     Submatrix for variable 'p_MIN_CALW'\n",
      "     (Number of nonzeros is 1, all on the LHS.)\n",
      " \n",
      "  Equation 'E_MAL_INDEXW'\n",
      "     Submatrix for variable 'p_MAL_COUNT'\n",
      "     (Number of nonzeros is 11, all on the LHS.)\n",
      "     Submatrix for variable 'p_MAL_INDEXW'\n",
      "     (Number of nonzeros is 1, all on the LHS.)\n",
      " \n",
      "  Equation 'E_CALORIC_GAPW'\n",
      "     Submatrix for variable 'p_CALORIC_GAP'\n",
      "     (Number of nonzeros is 11, all on the LHS.)\n",
      "     Submatrix for variable 'p_CALORIC_GAPW'\n",
      "     (Number of nonzeros is 1, all on the LHS.)\n",
      " \n",
      "  Equation 'E_MAL_COUNTW'\n",
      "     Submatrix for variable 'p_MAL_COUNT'\n",
      "     (Number of nonzeros is 11, all on the LHS.)\n",
      "     Submatrix for variable 'p_MAL_COUNTW'\n",
      "     (Number of nonzeros is 1, all on the LHS.)\n",
      " \n",
      "  Equation 'E_MAL_GAP_INDW'\n",
      "     Submatrix for variable 'p_MAL_GAP_IND'\n",
      "     (Number of nonzeros is 11, all on the LHS.)\n",
      "     Submatrix for variable 'p_MAL_GAP_INDW'\n",
      "     (Number of nonzeros is 1, all on the LHS.)\n",
      " \n",
      "  Equation 'E_MAL_GAPW'\n",
      "     Submatrix for variable 'p_MAL_GAP'\n",
      "     (Number of nonzeros is 11, all on the LHS.)\n",
      "     Submatrix for variable 'p_MAL_COUNT'\n",
      "     (Number of nonzeros is 11, all on the LHS.)\n",
      "     Submatrix for variable 'p_MAL_GAPW'\n",
      "     (Number of nonzeros is 1, all on the LHS.)\n",
      " \n",
      "  Equation 'E_QCRPTOT'\n",
      "     Submatrix for variable 'p_QCRPFEED'\n",
      "     (Number of nonzeros is 17, all on the LHS.)\n",
      "     Submatrix for variable 'p_QCRPFOOD'\n",
      "     (Number of nonzeros is 17, all on the LHS.)\n",
      "     Submatrix for variable 'p_QCONS'\n",
      "     (Number of nonzeros is 17, all on the LHS.)\n",
      "     Submatrix for variable 'p_QCRPTOT'\n",
      "     (Number of nonzeros is 17, all on the LHS.)\n",
      " \n",
      "  Equation 'E_QCRPTOTW'\n",
      "     Submatrix for variable 'p_QCRPFEED'\n",
      "     (Number of nonzeros is 17, all on the LHS.)\n",
      "     Submatrix for variable 'p_QCRPFOOD'\n",
      "     (Number of nonzeros is 17, all on the LHS.)\n",
      "     Submatrix for variable 'p_QCONS'\n",
      "     (Number of nonzeros is 17, all on the LHS.)\n",
      "     Submatrix for variable 'p_QCRPTOTW'\n",
      "     (Number of nonzeros is 1, all on the LHS.)\n",
      " \n",
      "  Equation 'E_C_EMISg'\n",
      "     Submatrix for variable 'p_QLANDr'\n",
      "     (Number of nonzeros is 17, all on the LHS.)\n",
      "     Submatrix for variable 'p_C_EMISg'\n",
      "     (Number of nonzeros is 17, all on the LHS.)\n",
      " \n",
      "  Equation 'E_C_YIELDg'\n",
      "     Submatrix for variable 'p_QYIELDr'\n",
      "     (Number of nonzeros is 17, all on the LHS.)\n",
      "     Submatrix for variable 'p_C_YIELDg'\n",
      "     (Number of nonzeros is 17, all on the LHS.)\n",
      " \n",
      "  Equation 'E_C_QCROPg'\n",
      "     Submatrix for variable 'p_QLANDr'\n",
      "     (Number of nonzeros is 17, all on the LHS.)\n",
      "     Submatrix for variable 'p_C_YIELDg'\n",
      "     (Number of nonzeros is 17, all on the LHS.)\n",
      "     Submatrix for variable 'p_C_QCROPg'\n",
      "     (Number of nonzeros is 17, all on the LHS.)\n",
      " \n",
      "  Equation 'E_EE_FACTORg'\n",
      "     Submatrix for variable 'p_C_EMISg'\n",
      "     (Number of nonzeros is 17, all on the LHS.)\n",
      "     Submatrix for variable 'p_C_QCROPg'\n",
      "     (Number of nonzeros is 17, all on the LHS.)\n",
      "     Submatrix for variable 'p_EE_FACTORg'\n",
      "     (Number of nonzeros is 17, all on the LHS.)\n",
      " \n",
      "  Equation 'E_C_QCROPW'\n",
      "     Submatrix for variable 'p_C_QCROPg'\n",
      "     (Number of nonzeros is 17, all on the LHS.)\n",
      "     Submatrix for variable 'p_C_QCROPW'\n",
      "     (Number of nonzeros is 1, all on the LHS.)\n",
      " \n",
      "  Equation 'E_C_YIELDW'\n",
      "     Submatrix for variable 'p_QLANDw'\n",
      "     (Number of nonzeros is 1, all on the LHS.)\n",
      "     Submatrix for variable 'p_C_QCROPW'\n",
      "     (Number of nonzeros is 1, all on the LHS.)\n",
      "     Submatrix for variable 'p_C_YIELDW'\n",
      "     (Number of nonzeros is 1, all on the LHS.)\n",
      " \n",
      "  Equation 'E_C_EMISW'\n",
      "     Submatrix for variable 'p_C_EMISg'\n",
      "     (Number of nonzeros is 17, all on the LHS.)\n",
      "     Submatrix for variable 'p_C_EMISW'\n",
      "     (Number of nonzeros is 1, all on the LHS.)\n",
      " \n",
      "  Equation 'E_Excalf'\n",
      "     Submatrix for variable 'p_CALORIES'\n",
      "     (Number of nonzeros is 238, all on the LHS.)\n",
      "     Submatrix for variable 'p_Excalf'\n",
      "     (Number of nonzeros is 238, all on the LHS.)\n",
      " \n",
      "  Equation 'E_Caleff'\n",
      "     Submatrix for variable 'p_Excalf'\n",
      "     (Number of nonzeros is 238, all on the LHS.)\n",
      "     Submatrix for variable 'p_Caleff'\n",
      "     (Number of nonzeros is 238, all on the LHS.)\n",
      " \n",
      "  Equation 'E_BMIf'\n",
      "     Submatrix for variable 'p_Caleff'\n",
      "     (Number of nonzeros is 238, all on the LHS.)\n",
      "     Submatrix for variable 'p_BMIf'\n",
      "     (Number of nonzeros is 238, all on the LHS.)\n",
      " \n",
      "  Equation 'E_AD_FPOPR'\n",
      "     Submatrix for variable 'p_AD_FPOPR'\n",
      "     (Number of nonzeros is 17, all on the LHS.)\n",
      " \n",
      "  Equation 'E_BMIfR'\n",
      "     Submatrix for variable 'p_BMIf'\n",
      "     (Number of nonzeros is 238, all on the LHS.)\n",
      "     Submatrix for variable 'p_AD_FPOPR'\n",
      "     (Number of nonzeros is 17, all on the LHS.)\n",
      "     Submatrix for variable 'p_BMIfR'\n",
      "     (Number of nonzeros is 17, all on the LHS.)\n",
      " \n",
      "  Equation 'E_AD_FPOPW_a'\n",
      "     Submatrix for variable 'p_AD_FPOPW_a'\n",
      "     (Number of nonzeros is 14, all on the LHS.)\n",
      " \n",
      "  Equation 'E_BMIfWa'\n",
      "     Submatrix for variable 'p_BMIf'\n",
      "     (Number of nonzeros is 238, all on the LHS.)\n",
      "     Submatrix for variable 'p_AD_FPOPW_a'\n",
      "     (Number of nonzeros is 14, all on the LHS.)\n",
      "     Submatrix for variable 'p_BMIfWa'\n",
      "     (Number of nonzeros is 14, all on the LHS.)\n",
      " \n",
      "  Equation 'E_AD_FPOPW'\n",
      "     Submatrix for variable 'p_AD_FPOPR'\n",
      "     (Number of nonzeros is 17, all on the LHS.)\n",
      "     Submatrix for variable 'p_AD_FPOPW'\n",
      "     (Number of nonzeros is 1, all on the LHS.)\n",
      " \n",
      "  Equation 'E_BMIfW'\n",
      "     Submatrix for variable 'p_AD_FPOPR'\n",
      "     (Number of nonzeros is 17, all on the LHS.)\n",
      "     Submatrix for variable 'p_BMIfR'\n",
      "     (Number of nonzeros is 17, all on the LHS.)\n",
      "     Submatrix for variable 'p_AD_FPOPW'\n",
      "     (Number of nonzeros is 1, all on the LHS.)\n",
      "     Submatrix for variable 'p_BMIfW'\n",
      "     (Number of nonzeros is 1, all on the LHS.)\n",
      " \n",
      "  Equation 'E_Excalm'\n",
      "     Submatrix for variable 'p_CALORIES'\n",
      "     (Number of nonzeros is 238, all on the LHS.)\n",
      "     Submatrix for variable 'p_Excalm'\n",
      "     (Number of nonzeros is 238, all on the LHS.)\n",
      " \n",
      "  Equation 'E_Calefm'\n",
      "     Submatrix for variable 'p_Excalm'\n",
      "     (Number of nonzeros is 238, all on the LHS.)\n",
      "     Submatrix for variable 'p_Calefm'\n",
      "     (Number of nonzeros is 238, all on the LHS.)\n",
      " \n",
      "  Equation 'E_BMIm'\n",
      "     Submatrix for variable 'p_Calefm'\n",
      "     (Number of nonzeros is 238, all on the LHS.)\n",
      "     Submatrix for variable 'p_BMIm'\n",
      "     (Number of nonzeros is 238, all on the LHS.)\n",
      " \n",
      "  Equation 'E_AD_MPOPR'\n",
      "     Submatrix for variable 'p_AD_MPOPR'\n",
      "     (Number of nonzeros is 17, all on the LHS.)\n",
      " \n",
      "  Equation 'E_BMImR'\n",
      "     Submatrix for variable 'p_BMIm'\n",
      "     (Number of nonzeros is 238, all on the LHS.)\n",
      "     Submatrix for variable 'p_AD_MPOPR'\n",
      "     (Number of nonzeros is 17, all on the LHS.)\n",
      "     Submatrix for variable 'p_BMImR'\n",
      "     (Number of nonzeros is 17, all on the LHS.)\n",
      " \n",
      "  Equation 'E_AD_MPOPW_a'\n",
      "     Submatrix for variable 'p_AD_MPOPW_a'\n",
      "     (Number of nonzeros is 14, all on the LHS.)\n",
      " \n",
      "  Equation 'E_BMImWa'\n",
      "     Submatrix for variable 'p_BMIm'\n",
      "     (Number of nonzeros is 238, all on the LHS.)\n",
      "     Submatrix for variable 'p_AD_MPOPW_a'\n",
      "     (Number of nonzeros is 14, all on the LHS.)\n",
      "     Submatrix for variable 'p_BMImWa'\n",
      "     (Number of nonzeros is 14, all on the LHS.)\n",
      " \n",
      "  Equation 'E_AD_MPOPW'\n",
      "     Submatrix for variable 'p_AD_MPOPR'\n",
      "     (Number of nonzeros is 17, all on the LHS.)\n",
      "     Submatrix for variable 'p_AD_MPOPW'\n",
      "     (Number of nonzeros is 1, all on the LHS.)\n",
      " \n",
      "  Equation 'E_BMImW'\n",
      "     Submatrix for variable 'p_AD_MPOPR'\n",
      "     (Number of nonzeros is 17, all on the LHS.)\n",
      "     Submatrix for variable 'p_BMImR'\n",
      "     (Number of nonzeros is 17, all on the LHS.)\n",
      "     Submatrix for variable 'p_AD_MPOPW'\n",
      "     (Number of nonzeros is 1, all on the LHS.)\n",
      "     Submatrix for variable 'p_BMImW'\n",
      "     (Number of nonzeros is 1, all on the LHS.)\n",
      " \n",
      "  Equation 'E_OV_COUNT_f'\n",
      "     Submatrix for variable 'p_AD_FPOPR'\n",
      "     (Number of nonzeros is 17, all on the LHS.)\n",
      "     Submatrix for variable 'p_OV_IND_f'\n",
      "     (Number of nonzeros is 17, all on the LHS.)\n",
      "     Submatrix for variable 'p_OV_CNT_f'\n",
      "     (Number of nonzeros is 17, all on the LHS.)\n",
      " \n",
      "  Equation 'E_OV_GP_f'\n",
      "     Submatrix for variable 'p_OV_IND_f'\n",
      "     (Number of nonzeros is 17, all on the LHS.)\n",
      "     Submatrix for variable 'p_OV_GP_IND_f'\n",
      "     (Number of nonzeros is 17, all on the LHS.)\n",
      "     Submatrix for variable 'p_OV_GP_f'\n",
      "     (Number of nonzeros is 17, all on the LHS.)\n",
      " \n",
      "  Equation 'E_OV_CL_GP_f'\n",
      "     Submatrix for variable 'p_OV_GP_f'\n",
      "     (Number of nonzeros is 17, all on the LHS.)\n",
      "     Submatrix for variable 'p_OV_CNT_f'\n",
      "     (Number of nonzeros is 17, all on the LHS.)\n",
      "     Submatrix for variable 'p_OV_CL_GP_f'\n",
      "     (Number of nonzeros is 17, all on the LHS.)\n",
      " \n",
      "  Equation 'E_OV_IND_f'\n",
      "     Submatrix for variable 'p_CALORIES'\n",
      "     (Number of nonzeros is 17, all on the LHS.)\n",
      "     Submatrix for variable 'p_OV_IND_f'\n",
      "     (Number of nonzeros is 17, all on the LHS.)\n",
      " \n",
      "  Equation 'E_OV_GP_IND_f'\n",
      "     Submatrix for variable 'p_CALORIES'\n",
      "     (Number of nonzeros is 17, all on the LHS.)\n",
      "     Submatrix for variable 'p_OV_GP_IND_f'\n",
      "     (Number of nonzeros is 17, all on the LHS.)\n",
      " \n",
      "  Equation 'E_MAX_CALW_f'\n",
      "     Submatrix for variable 'p_AD_FPOPR'\n",
      "     (Number of nonzeros is 17, all on the LHS.)\n",
      "     Submatrix for variable 'p_MAX_CALW_f'\n",
      "     (Number of nonzeros is 1, all on the LHS.)\n",
      " \n",
      "  Equation 'E_OV_INDW_f'\n",
      "     Submatrix for variable 'p_AD_FPOPR'\n",
      "     (Number of nonzeros is 17, all on the LHS.)\n",
      "     Submatrix for variable 'p_OV_CNT_f'\n",
      "     (Number of nonzeros is 17, all on the LHS.)\n",
      "     Submatrix for variable 'p_OV_INDW_f'\n",
      "     (Number of nonzeros is 1, all on the LHS.)\n",
      " \n",
      "  Equation 'E_OV_CL_GPW_f'\n",
      "     Submatrix for variable 'p_OV_CL_GP_f'\n",
      "     (Number of nonzeros is 17, all on the LHS.)\n",
      "     Submatrix for variable 'p_OV_CL_GPW_f'\n",
      "     (Number of nonzeros is 1, all on the LHS.)\n",
      " \n",
      "  Equation 'E_OV_CNTW_f'\n",
      "     Submatrix for variable 'p_OV_CNT_f'\n",
      "     (Number of nonzeros is 17, all on the LHS.)\n",
      "     Submatrix for variable 'p_OV_CNTW_f'\n",
      "     (Number of nonzeros is 1, all on the LHS.)\n",
      " \n",
      "  Equation 'E_OV_GP_INDW_f'\n",
      "     Submatrix for variable 'p_AD_FPOPR'\n",
      "     (Number of nonzeros is 17, all on the LHS.)\n",
      "     Submatrix for variable 'p_OV_GP_IND_f'\n",
      "     (Number of nonzeros is 17, all on the LHS.)\n",
      "     Submatrix for variable 'p_OV_GP_INDW_f'\n",
      "     (Number of nonzeros is 1, all on the LHS.)\n",
      " \n",
      "  Equation 'E_OV_GPW_f'\n",
      "     Submatrix for variable 'p_OV_GP_f'\n",
      "     (Number of nonzeros is 17, all on the LHS.)\n",
      "     Submatrix for variable 'p_OV_CNT_f'\n",
      "     (Number of nonzeros is 17, all on the LHS.)\n",
      "     Submatrix for variable 'p_OV_GPW_f'\n",
      "     (Number of nonzeros is 1, all on the LHS.)\n",
      " \n",
      "  Equation 'E_OV_COUNT_m'\n",
      "     Submatrix for variable 'p_AD_MPOPR'\n",
      "     (Number of nonzeros is 17, all on the LHS.)\n",
      "     Submatrix for variable 'p_OV_IND_m'\n",
      "     (Number of nonzeros is 17, all on the LHS.)\n",
      "     Submatrix for variable 'p_OV_CNT_m'\n",
      "     (Number of nonzeros is 17, all on the LHS.)\n",
      " \n",
      "  Equation 'E_OV_GP_m'\n",
      "     Submatrix for variable 'p_OV_IND_m'\n",
      "     (Number of nonzeros is 17, all on the LHS.)\n",
      "     Submatrix for variable 'p_OV_GP_IND_m'\n",
      "     (Number of nonzeros is 17, all on the LHS.)\n",
      "     Submatrix for variable 'p_OV_GP_m'\n",
      "     (Number of nonzeros is 17, all on the LHS.)\n",
      " \n",
      "  Equation 'E_OV_CL_GP_m'\n",
      "     Submatrix for variable 'p_OV_GP_m'\n",
      "     (Number of nonzeros is 17, all on the LHS.)\n",
      "     Submatrix for variable 'p_OV_CNT_m'\n",
      "     (Number of nonzeros is 17, all on the LHS.)\n",
      "     Submatrix for variable 'p_OV_CL_GP_m'\n",
      "     (Number of nonzeros is 17, all on the LHS.)\n",
      " \n",
      "  Equation 'E_OV_IND_m'\n",
      "     Submatrix for variable 'p_CALORIES'\n",
      "     (Number of nonzeros is 17, all on the LHS.)\n",
      "     Submatrix for variable 'p_OV_IND_m'\n",
      "     (Number of nonzeros is 17, all on the LHS.)\n",
      " \n",
      "  Equation 'E_OV_GP_IND_m'\n",
      "     Submatrix for variable 'p_CALORIES'\n",
      "     (Number of nonzeros is 17, all on the LHS.)\n",
      "     Submatrix for variable 'p_OV_GP_IND_m'\n",
      "     (Number of nonzeros is 17, all on the LHS.)\n",
      " \n",
      "  Equation 'E_MAX_CALW_m'\n",
      "     Submatrix for variable 'p_AD_MPOPR'\n",
      "     (Number of nonzeros is 17, all on the LHS.)\n",
      "     Submatrix for variable 'p_MAX_CALW_m'\n",
      "     (Number of nonzeros is 1, all on the LHS.)\n",
      " \n",
      "  Equation 'E_OV_INDW_m'\n",
      "     Submatrix for variable 'p_AD_MPOPR'\n",
      "     (Number of nonzeros is 17, all on the LHS.)\n",
      "     Submatrix for variable 'p_OV_CNT_m'\n",
      "     (Number of nonzeros is 17, all on the LHS.)\n",
      "     Submatrix for variable 'p_OV_INDW_m'\n",
      "     (Number of nonzeros is 1, all on the LHS.)\n",
      " \n",
      "  Equation 'E_OV_CL_GPW_m'\n",
      "     Submatrix for variable 'p_OV_CL_GP_m'\n",
      "     (Number of nonzeros is 17, all on the LHS.)\n",
      "     Submatrix for variable 'p_OV_CL_GPW_m'\n",
      "     (Number of nonzeros is 1, all on the LHS.)\n",
      " \n",
      "  Equation 'E_OV_CNTW_m'\n",
      "     Submatrix for variable 'p_OV_CNT_m'\n",
      "     (Number of nonzeros is 17, all on the LHS.)\n",
      "     Submatrix for variable 'p_OV_CNTW_m'\n",
      "     (Number of nonzeros is 1, all on the LHS.)\n",
      " \n",
      "  Equation 'E_OV_GP_INDW_m'\n",
      "     Submatrix for variable 'p_AD_MPOPR'\n",
      "     (Number of nonzeros is 17, all on the LHS.)\n",
      "     Submatrix for variable 'p_OV_GP_IND_m'\n",
      "     (Number of nonzeros is 17, all on the LHS.)\n",
      "     Submatrix for variable 'p_OV_GP_INDW_m'\n",
      "     (Number of nonzeros is 1, all on the LHS.)\n",
      " \n",
      "  Equation 'E_OV_GPW_m'\n",
      "     Submatrix for variable 'p_OV_GP_m'\n",
      "     (Number of nonzeros is 17, all on the LHS.)\n",
      "     Submatrix for variable 'p_OV_CNT_m'\n",
      "     (Number of nonzeros is 17, all on the LHS.)\n",
      "     Submatrix for variable 'p_OV_GPW_m'\n",
      "     (Number of nonzeros is 1, all on the LHS.)\n",
      " \n",
      "  Equation 'E_ML_CNTM'\n",
      "     Submatrix for variable 'p_AD_MPOPR'\n",
      "     (Number of nonzeros is 17, all on the LHS.)\n",
      "     Submatrix for variable 'p_ML_INDM'\n",
      "     (Number of nonzeros is 17, all on the LHS.)\n",
      "     Submatrix for variable 'p_ML_CNTM'\n",
      "     (Number of nonzeros is 17, all on the LHS.)\n",
      " \n",
      "  Equation 'E_ML_GPM'\n",
      "     Submatrix for variable 'p_ML_INDM'\n",
      "     (Number of nonzeros is 17, all on the LHS.)\n",
      "     Submatrix for variable 'p_ML_GP_INM'\n",
      "     (Number of nonzeros is 17, all on the LHS.)\n",
      "     Submatrix for variable 'p_ML_GPM'\n",
      "     (Number of nonzeros is 17, all on the LHS.)\n",
      " \n",
      "  Equation 'E_CAL_GAPM'\n",
      "     Submatrix for variable 'p_ML_GPM'\n",
      "     (Number of nonzeros is 17, all on the LHS.)\n",
      "     Submatrix for variable 'p_ML_CNTM'\n",
      "     (Number of nonzeros is 17, all on the LHS.)\n",
      "     Submatrix for variable 'p_CAL_GAPM'\n",
      "     (Number of nonzeros is 17, all on the LHS.)\n",
      " \n",
      "  Equation 'E_ML_INDM'\n",
      "     Submatrix for variable 'p_CALORIES'\n",
      "     (Number of nonzeros is 11, all on the LHS.)\n",
      "     Submatrix for variable 'p_ML_INDM'\n",
      "     (Number of nonzeros is 11, all on the LHS.)\n",
      " \n",
      "  Equation 'E_ML_GP_INM'\n",
      "     Submatrix for variable 'p_CALORIES'\n",
      "     (Number of nonzeros is 11, all on the LHS.)\n",
      "     Submatrix for variable 'p_ML_GP_INM'\n",
      "     (Number of nonzeros is 11, all on the LHS.)\n",
      " \n",
      "  Equation 'E_ML_INDM_OECD'\n",
      "     Submatrix for variable 'p_ML_INDM'\n",
      "     (Number of nonzeros is 6, all on the LHS.)\n",
      " \n",
      "  Equation 'E_ML_GP_INM_OECD'\n",
      "     Submatrix for variable 'p_ML_GP_INM'\n",
      "     (Number of nonzeros is 6, all on the LHS.)\n",
      " \n",
      "  Equation 'E_ML_CNTF'\n",
      "     Submatrix for variable 'p_AD_FPOPR'\n",
      "     (Number of nonzeros is 17, all on the LHS.)\n",
      "     Submatrix for variable 'p_ML_INDF'\n",
      "     (Number of nonzeros is 17, all on the LHS.)\n",
      "     Submatrix for variable 'p_ML_CNTF'\n",
      "     (Number of nonzeros is 17, all on the LHS.)\n",
      " \n",
      "  Equation 'E_ML_GPF'\n",
      "     Submatrix for variable 'p_ML_INDF'\n",
      "     (Number of nonzeros is 17, all on the LHS.)\n",
      "     Submatrix for variable 'p_ML_GP_INF'\n",
      "     (Number of nonzeros is 17, all on the LHS.)\n",
      "     Submatrix for variable 'p_ML_GPF'\n",
      "     (Number of nonzeros is 17, all on the LHS.)\n",
      " \n",
      "  Equation 'E_CAL_GAPF'\n",
      "     Submatrix for variable 'p_ML_GPF'\n",
      "     (Number of nonzeros is 17, all on the LHS.)\n",
      "     Submatrix for variable 'p_ML_CNTF'\n",
      "     (Number of nonzeros is 17, all on the LHS.)\n",
      "     Submatrix for variable 'p_CAL_GAPF'\n",
      "     (Number of nonzeros is 17, all on the LHS.)\n",
      " \n",
      "  Equation 'E_ML_INDF'\n",
      "     Submatrix for variable 'p_CALORIES'\n",
      "     (Number of nonzeros is 11, all on the LHS.)\n",
      "     Submatrix for variable 'p_ML_INDF'\n",
      "     (Number of nonzeros is 11, all on the LHS.)\n",
      " \n",
      "  Equation 'E_ML_GP_INF'\n",
      "     Submatrix for variable 'p_CALORIES'\n",
      "     (Number of nonzeros is 11, all on the LHS.)\n",
      "     Submatrix for variable 'p_ML_GP_INF'\n",
      "     (Number of nonzeros is 11, all on the LHS.)\n",
      " \n",
      "  Equation 'E_ML_INDF_OECD'\n",
      "     Submatrix for variable 'p_ML_INDF'\n",
      "     (Number of nonzeros is 6, all on the LHS.)\n",
      " \n",
      "  Equation 'E_ML_GP_INF_OECD'\n",
      "     Submatrix for variable 'p_ML_GP_INF'\n",
      "     (Number of nonzeros is 6, all on the LHS.)\n",
      " [CPU for equations is 9.05 seconds.]\n",
      " Elapsed time for equations is:  9 seconds.\n",
      " [CPU for formulas and equations is 11.35 seconds.]\n",
      " Elapsed time for formulas and equations is: 12 seconds.\n",
      " \n",
      "  CUMULATIVELY-RETAINED ENDOGENOUS\n",
      "  --------------------------------\n",
      "  \n",
      " \n",
      "   Total number (of components) chosen to\n",
      "    be cumulatively-retained endogenous is 2461019.\n",
      "  \n",
      " \n",
      "  VERBAL DESCRIPTION IS AS FOLLOWS:\n",
      "  \n",
      "  sgmc3_t150_r3g3c3\n",
      " [Solution method is euler. Steps = 1.]\n",
      " [CMF file: /job/data/./sgmc3_t150_r3g3c3.cmf]\n",
      " (Opened new binary file '//job//result//sgmc3_t150_r3g3c3b.cdk'.)\n",
      "   [Organising LHS into memory - are 49385189 nonzeros.]\n",
      " \n",
      "  Total memory currently used for all arrays is approximately 1775.18 megabytes.\n",
      "  [This includes memory relating to current values:    MMNZ=110314040, MMNZ1=110314040 and MMNZ2=110314040.]\n",
      "  [Add about 5-10 megabytes for the memory used by the code.]\n",
      "  [Total memory currently allocated for Coefficients and Updated\n",
      "   Coefficients is about      164.0 and       50.6 MB respectively.]\n",
      " \n",
      "  (Beginning a simulation.)\n",
      " \n",
      "   (Total number of endogenous variables is 1515107.)\n",
      "   (Total number of nonzero entries \n",
      "    in the left hand side matrix is 49385189.)\n",
      "  [Have formed transpose of LHS matrix.]\n",
      "  [KSTEPA=1, NPASSA=1]\n",
      " \n",
      "  (Calculating the LU decomposition.)\n",
      "  Karp-Sipser Initialization matched 1514823 rows corresponding to 99.98%\n",
      "   [CPU time for GPLU analysis is 14.04 seconds.]\n",
      "   Elapsed time for  GPLU analysis is: 14 seconds.\n",
      "  [Calling MA48BG.]\n",
      "   [CPU time for MA48B is 1.13 seconds.]\n",
      "   Elapsed time for MA48B is:  1 seconds.\n",
      "  (Minimum size of MMNZ and MMNZ1 to allow LU decomposition by MA48 is 98770378.)\n",
      "  [CPU time for LU decomposition is 15.17 seconds.]\n",
      "  Elapsed time for LU decomposition is: 15 seconds.\n",
      "  [CPU time for MA48C/MA28I is 0.56 seconds.]\n",
      "  [CPU time for solution accuracy check is 0.30 seconds.]\n",
      "  (Cumulative solution obtained.)\n",
      " [CPU for simulation is 23.83 seconds.]\n",
      " Elapsed time for simulation is: 24 seconds.\n",
      " Elapsed time to do up to first solve (this subinterval) is 36 seconds.\n",
      " \n",
      "  (Beginning the backsolve after pass 1 of this 1-pass calculation.)\n",
      "  Backsolving for variable 'p_AGR_VAg using equation 'E_AGR_VAg'\n",
      "  Backsolving for variable 'p_QLANDg using equation 'E_QLANDg'\n",
      "  Backsolving for variable 'p_PLANDg using equation 'E_PLANDg'\n",
      "  Backsolving for variable 'p_QNITROg using equation 'E_QNITROg'\n",
      "  Backsolving for variable 'p_PLABORg using equation 'E_PLABORg'\n",
      "  Backsolving for variable 'p_QLABORg using equation 'E_QLABORg'\n",
      "  Backsolving for variable 'p_QOTHERg using equation 'E_QOTHERg'\n",
      "  Backsolving for variable 'p_QNLANDg using equation 'E_QNLANDg'\n",
      "  Backsolving for variable 'p_QLANDgl using equation 'E_QLANDgl'\n",
      "  Backsolving for variable 'p_QWATERgl using equation 'E_QWATERgl'\n",
      "  Backsolving for variable 'p_QWATERgcl using equation 'E_QWATERgcl'\n",
      "  Backsolving for variable 'p_QNLANDgcl using equation 'E_QNLANDgcl'\n",
      "  Backsolving for variable 'p_PNLANDgcl using equation 'E_PNLANDgcl'\n",
      "  Backsolving for variable 'p_PLANDWTRgcl using equation 'E_PLANDWTRgcl'\n",
      "  Backsolving for variable 'p_QLANDWTRgcl using equation 'E_QLANDWTRgcl'\n",
      "  Backsolving for variable 'p_QLANDgcl using equation 'E_QLANDgcl'\n",
      "  Backsolving for variable 'p_PLANDgcl using equation 'E_PLANDgcl'\n",
      "  Backsolving for variable 'p_PCOMP_AGRg using equation 'E_PCOMP_AGRg'\n",
      "  Backsolving for variable 'p_PLAND_AGRg using equation 'E_PLAND_AGRg'\n",
      "  Backsolving for variable 'p_PLANDFRSTg using equation 'E_PLANDFRSTg'\n",
      "  Backsolving for variable 'p_PLANDGRAZg using equation 'E_PLANDGRAZg'\n",
      "  Backsolving for variable 'p_PLANDCROPg using equation 'E_PLANDCROPg'\n",
      "  Backsolving for variable 'p_QLAND_AGRg using equation 'E_QLAND_AGRg'\n",
      "  Backsolving for variable 'p_QLANDFRSTg using equation 'E_QLANDFRSTg'\n",
      "  Backsolving for variable 'p_QLANDGRAZg using equation 'E_QLANDGRAZg'\n",
      "  Backsolving for variable 'p_QLANDCROPg using equation 'E_QLANDCROPg'\n",
      "  Backsolving for variable 'p_PWGRD_AGRg using equation 'E_PWGRD_AGRg'\n",
      "  Backsolving for variable 'p_PWSRF_AGRg using equation 'E_PWSRF_AGRg'\n",
      "  Backsolving for variable 'p_QWSRF_AGRg using equation 'E_QWSRF_AGRg'\n",
      "  Backsolving for variable 'p_QWGRD_AGRg using equation 'E_QWGRD_AGRg'\n",
      "  Backsolving for variable 'p_PCOMP_SRFg using equation 'E_PCOMP_SRFg'\n",
      "  Backsolving for variable 'p_QWSRF_NATg using equation 'E_QWSRF_NATg'\n",
      "  Backsolving for variable 'p_PWSRF_TOTg using equation 'E_PWSRF_TOTg'\n",
      "  Backsolving for variable 'p_PWSRF_NATg using equation 'E_PWSRF_NATg'\n",
      "  Backsolving for variable 'p_QWSRF_TOTg using equation 'E_QWSRF_TOTg'\n",
      "  Backsolving for variable 'p_PCOMP_GRDg using equation 'E_PCOMP_GRDg'\n",
      "  Backsolving for variable 'p_QWGRD_NATg using equation 'E_QWGRD_NATg'\n",
      "  Backsolving for variable 'p_PWGRD_TOTg using equation 'E_PWGRD_TOTg'\n",
      "  Backsolving for variable 'p_PWGRD_NATg using equation 'E_PWGRD_NATg'\n",
      "  Backsolving for variable 'p_QWGRD_TOTg using equation 'E_QWGRD_TOTg'\n",
      "  [CPU for backsolve is 0.18 seconds.]\n",
      "  Elapsed time for backsolve is: less than one second.\n",
      " \n",
      "  (Beginning the update after pass 1 of this 1-pass calculation.)\n",
      " Update of \"INC_PC\"\n",
      " Update of \"POP\"\n",
      " Update of \"QCROPgcl\"\n",
      " Update of \"PCROPgcl\"\n",
      " Update of \"QLANDgcl\"\n",
      " Update of \"PLANDgcl\"\n",
      " Update of \"QWATERgcl\"\n",
      " Update of \"PWATERgcl\"\n",
      " Update of \"QNITROgcl\"\n",
      " Update of \"QLABORgcl\"\n",
      " Update of \"PLABORgcl\"\n",
      " Update of \"QNLANDgcl\"\n",
      " Update of \"PNLANDgcl\"\n",
      " Update of \"PLANDWTRgcl\"\n",
      " Update of \"QLANDWTRgcl\"\n",
      " Update of \"QWATERgl\"\n",
      " Update of \"QLANDgl\"\n",
      " Update of \"QLANDg\"\n",
      " Update of \"PLANDg\"\n",
      " Update of \"VCROPgcl\"\n",
      " Update of \"VLANDgcl\"\n",
      " Update of \"VWATERgcl\"\n",
      " Update of \"VNLANDgcl\"\n",
      " Update of \"VWGRD_AGRg\"\n",
      " Update of \"VWGRD_NATg\"\n",
      " Update of \"QWGRD_AGRg\"\n",
      " Update of \"QWGRD_NATg\"\n",
      " Update of \"QWGRD_TOTg\"\n",
      " Update of \"PWGRD_AGRg\"\n",
      " Update of \"PWGRD_NATg\"\n",
      " Update of \"PWGRD_TOTg\"\n",
      " Update of \"VWSRF_AGRg\"\n",
      " Update of \"VWSRF_NATg\"\n",
      " Update of \"QWSRF_AGRg\"\n",
      " Update of \"QWSRF_NATg\"\n",
      " Update of \"QWSRF_TOTg\"\n",
      " Update of \"PWSRF_AGRg\"\n",
      " Update of \"PWSRF_NATg\"\n",
      " Update of \"PWSRF_TOTg\"\n",
      " Update of \"QLANDCROPg\"\n",
      " Update of \"QLANDGRAZg\"\n",
      " Update of \"QLANDFRSTg\"\n",
      " Update of \"PLANDCROPg\"\n",
      " Update of \"PLANDGRAZg\"\n",
      " Update of \"PLANDFRSTg\"\n",
      " Update of \"QLAND_AGRg\"\n",
      " Update of \"QFRSTr\"\n",
      " Update of \"QGRAZr\"\n",
      " Update of \"QNITROg\"\n",
      " Update of \"QNITROr\"\n",
      " Update of \"PNITROr\"\n",
      " Update of \"QLABORg\"\n",
      " Update of \"PLABORg\"\n",
      " Update of \"QLABORr\"\n",
      " Update of \"PLABORr\"\n",
      " Update of \"VLABORr\"\n",
      " Update of \"QNLANDr\"\n",
      " Update of \"PNLANDr\"\n",
      " Update of \"QNLANDg\"\n",
      " Update of \"QOTHERg\"\n",
      " Update of \"POTHERg\"\n",
      " Update of \"QOTHERs\"\n",
      " Update of \"POTHERs\"\n",
      " Update of \"QCROPr\"\n",
      " Update of \"PCROPr\"\n",
      " Update of \"PCROP\"\n",
      " Update of \"P\"\n",
      " Update of \"VCROPcrb_loc\"\n",
      " Update of \"VCROPcrb_imp\"\n",
      " Update of \"VCROPcrb_tot\"\n",
      " Update of \"VCROPcm\"\n",
      " Update of \"VCROPcs\"\n",
      " Update of \"VCROPcs_loc\"\n",
      " Update of \"VCROPcs_exp\"\n",
      " Update of \"VCROPcs_stk\"\n",
      " Update of \"VCROPcr_loc\"\n",
      " Update of \"VCROPrb\"\n",
      " Update of \"VCROPc_trd\"\n",
      " Update of \"VCROPc_imp\"\n",
      " Update of \"VCROPc_exp\"\n",
      " Update of \"QCROPcrb_loc\"\n",
      " Update of \"QCROPcrb_imp\"\n",
      " Update of \"QCROPcrb_tot\"\n",
      " Update of \"PCROPcrb_loc\"\n",
      " Update of \"PCROPcrb_imp\"\n",
      " Update of \"PCROPcrb_tot\"\n",
      " Update of \"QCROPcm\"\n",
      " Update of \"PCROPcm\"\n",
      " Update of \"QCROPcs\"\n",
      " Update of \"PCROPcs\"\n",
      " Update of \"QCROPcs_loc\"\n",
      " Update of \"PCROPcs_loc\"\n",
      " Update of \"QCROPcs_exp\"\n",
      " Update of \"PCROPcs_exp\"\n",
      " Update of \"QCROPcs_stk\"\n",
      " Update of \"QCROPcr_loc\"\n",
      " Update of \"PCROPcr_loc\"\n",
      " Update of \"QCROPrb\"\n",
      " Update of \"PCROPrb\"\n",
      " Update of \"QCROPc_trd\"\n",
      " Update of \"PCROPc_trd\"\n",
      " Update of \"QCROPc_imp\"\n",
      " Update of \"PCROPc_imp\"\n",
      " Update of \"QCROPc_exp\"\n",
      " Update of \"PCROPc_exp\"\n",
      " Update of \"QCRPBIOF\"\n",
      " Update of \"QCRPFEED\"\n",
      " Update of \"QCRPFOOD\"\n",
      " Update of \"QCONS\"\n",
      " Update of \"VCONS\"\n",
      " Update of \"QPC\"\n",
      " Update of \"QCROPcr_imp\"\n",
      " Update of \"QCROPcs_fix\"\n",
      " Update of \"PCROPcs_fix\"\n",
      " Update of \"QCROPcs_xdt\"\n",
      " Update of \"VCROPcrb_wld\"\n",
      " Update of \"TMcrb_L\"\n",
      " Update of \"QNCRPFEED\"\n",
      " Update of \"QNCRPFOOD\"\n",
      " Update of \"VNCRPFEED\"\n",
      " Update of \"VNCRPFOOD\"\n",
      " Update of \"PNCRPFEED\"\n",
      " Update of \"PNCRPFOOD\"\n",
      " Update of \"AOCRPFEED\"\n",
      " Update of \"AFCRPFEED\"\n",
      " Update of \"AFCRPFEEDW\"\n",
      " Update of \"AFCRPFEEDr\"\n",
      " Update of \"AFNCRPFEED\"\n",
      " Update of \"AFNCRPFEEDW\"\n",
      " Update of \"AFNCRPFEEDr\"\n",
      " Update of \"AOCRPFOOD\"\n",
      " Update of \"AFCRPFOOD\"\n",
      " Update of \"AFCRPFOODW\"\n",
      " Update of \"AFCRPFOODr\"\n",
      " Update of \"AFNCRPFOOD\"\n",
      " Update of \"AFNCRPFOODW\"\n",
      " Update of \"AFNCRPFOODr\"\n",
      " Update of \"TFP_LVSTOCK\"\n",
      " Update of \"TFP_LVSTOCKW\"\n",
      " Update of \"TFP_PROC_FD\"\n",
      " Update of \"TFP_PROC_FDW\"\n",
      " Update of \"QWATSRF\"\n",
      " Update of \"QWATGRD\"\n",
      " Update of \"QWATER\"\n",
      " Update of \"QLANDIR\"\n",
      " Update of \"QLANDRF\"\n",
      " Update of \"QLAND\"\n",
      " Update of \"QLANDrl\"\n",
      " Update of \"QLANDr\"\n",
      " Update of \"QLANDwi\"\n",
      " Update of \"QLANDwr\"\n",
      " Update of \"QLANDw\"\n",
      " Update of \"VLANDr\"\n",
      " Update of \"PLANDr\"\n",
      " Update of \"AGR_VAr\"\n",
      " Update of \"AGR_VAg\"\n",
      " Update of \"QWATSRFr\"\n",
      " Update of \"QWATSRFw\"\n",
      " Update of \"QWATGRDr\"\n",
      " Update of \"QWATGRDw\"\n",
      " Update of \"QYIELDr\"\n",
      " Update of \"CAL_COMM\"\n",
      " Update of \"tmp_CAL_COMM\"\n",
      " Update of \"slack_cal\"\n",
      " Update of \"QCONS_GRAM\"\n",
      " Update of \"MAL_INDEX\"\n",
      " Update of \"MAL_GAP_IND\"\n",
      " Update of \"MAL_GAP\"\n",
      " Update of \"MAL_COUNT\"\n",
      " Update of \"CALORIC_GAP\"\n",
      " Update of \"MIN_CAL\"\n",
      " Update of \"QPC_GRAM\"\n",
      " Update of \"QPC_GRAMW\"\n",
      " Update of \"QPC_CAL\"\n",
      " Update of \"QPC_CALW\"\n",
      " Update of \"CALORIES\"\n",
      " Update of \"CALORIESW\"\n",
      " Update of \"MIN_CALW\"\n",
      " Update of \"MAL_INDEXW\"\n",
      " Update of \"CALORIC_GAPW\"\n",
      " Update of \"MAL_COUNTW\"\n",
      " Update of \"MAL_GAP_INDW\"\n",
      " Update of \"MAL_GAPW\"\n",
      " Update of \"QCRPTOT\"\n",
      " Update of \"QCRPTOTW\"\n",
      " Update of \"C_EMISg\"\n",
      " Update of \"C_YIELDg\"\n",
      " Update of \"C_QCROPg\"\n",
      " Update of \"EE_FACTORg\"\n",
      " Update of \"C_QCROPW\"\n",
      " Update of \"C_YIELDW\"\n",
      " Update of \"C_EMISW\"\n",
      " Update of \"AD_FPOP\"\n",
      " Update of \"Cohortf\"\n",
      " Update of \"Aderf\"\n",
      " Update of \"Excalf\"\n",
      " Update of \"Caleff\"\n",
      " Update of \"BMIf\"\n",
      " Update of \"AD_FPOPR\"\n",
      " Update of \"BMIfR\"\n",
      " Update of \"AD_FPOPW_a\"\n",
      " Update of \"BMIfWa\"\n",
      " Update of \"AD_FPOPW\"\n",
      " Update of \"BMIfW\"\n",
      " Update of \"AD_MPOP\"\n",
      " Update of \"Cohortm\"\n",
      " Update of \"Aderm\"\n",
      " Update of \"Excalm\"\n",
      " Update of \"Calefm\"\n",
      " Update of \"BMIm\"\n",
      " Update of \"AD_MPOPR\"\n",
      " Update of \"BMImR\"\n",
      " Update of \"AD_MPOPW_a\"\n",
      " Update of \"BMImWa\"\n",
      " Update of \"AD_MPOPW\"\n",
      " Update of \"BMImW\"\n",
      " Update of \"OV_IND_f\"\n",
      " Update of \"OV_GP_IND_f\"\n",
      " Update of \"OV_GP_f\"\n",
      " Update of \"OV_CNT_f\"\n",
      " Update of \"OV_CL_GP_f\"\n",
      " Update of \"MAX_CAL_f\"\n",
      " Update of \"MAX_CALW_f\"\n",
      " Update of \"OV_INDW_f\"\n",
      " Update of \"OV_CL_GPW_f\"\n",
      " Update of \"OV_CNTW_f\"\n",
      " Update of \"OV_GP_INDW_f\"\n",
      " Update of \"OV_GPW_f\"\n",
      " Update of \"OV_IND_m\"\n",
      " Update of \"OV_GP_IND_m\"\n",
      " Update of \"OV_GP_m\"\n",
      " Update of \"OV_CNT_m\"\n",
      " Update of \"OV_CL_GP_m\"\n",
      " Update of \"MAX_CAL_m\"\n",
      " Update of \"MAX_CALW_m\"\n",
      " Update of \"OV_INDW_m\"\n",
      " Update of \"OV_CL_GPW_m\"\n",
      " Update of \"OV_CNTW_m\"\n",
      " Update of \"OV_GP_INDW_m\"\n",
      " Update of \"OV_GPW_m\"\n",
      " Update of \"ML_INDM\"\n",
      " Update of \"ML_GP_INM\"\n",
      " Update of \"ML_GPM\"\n",
      " Update of \"ML_CNTM\"\n",
      " Update of \"CAL_GAPM\"\n",
      " Update of \"MIN_CLM\"\n",
      " Update of \"ML_INDF\"\n",
      " Update of \"ML_GP_INF\"\n",
      " Update of \"ML_GPF\"\n",
      " Update of \"ML_CNTF\"\n",
      " Update of \"CAL_GAPF\"\n",
      " Update of \"MIN_CLF\"\n",
      " ( Deleted new SLC file '//job//result//sgmc3_t150_r3g3c3b.slc'.)\n",
      " (Opened new header file '/job/data/./sgmc3_t150_r3g3c3-1-1.uc5'.)\n",
      " \n",
      "  (Writing the UC5/6/7 file.)\n",
      "  [CPU for update is 0.46 seconds.]\n",
      "  [CPU for step 1 is 35.83 seconds.]\n",
      "  Elapsed time for update is: less than one second.\n",
      "  Elapsed time for step 1 is: 36 seconds.\n",
      " Elapsed time to do after-first-LU-decomp part\n",
      "  of this 1-pass calculation is: less than one second.\n",
      " [CPU for all of this 1-step calculation is 36.14 seconds.]\n",
      " Elapsed time for all this 1-step calculation is: 36 seconds.\n",
      " \n",
      "  Total memory currently used for all arrays is approximately 1775.18 megabytes.\n",
      "  [This includes memory relating to current values:    MMNZ=110314040, MMNZ1=110314040 and MMNZ2=110314040.]\n",
      "  [Add about 5-10 megabytes for the memory used by the code.]\n",
      "  [Total memory currently allocated for Coefficients and Updated\n",
      "   Coefficients is about      164.0 and       50.6 MB respectively.]\n",
      "  [This is probably the most memory that will be used in this run.]\n",
      "  \n",
      " [Deallocated MMNZ memory before TGCMST call (TGGSBS1).]\n",
      "   Real matrix with 2461019 rows and 1 columns written. Header 'CUMS'\n",
      " \n",
      "  (Final cumulative solution written to Solution file.)\n",
      " (Read real array, size 17, header \"0024\".)\n",
      " (Read real array, size 17, header \"0025\".)\n",
      " (Read real array, size 42996x8x2, header \"0034\".)\n",
      " (Read real array, size 42996x8x2, header \"0035\".)\n",
      " (Read real array, size 42996x8x2, header \"0036\".)\n",
      " (Read real array, size 42996x8x2, header \"0037\".)\n",
      " (Read real array, size 42996x8x2, header \"0038\".)\n",
      " (Read real array, size 42996x8x2, header \"0039\".)\n",
      " (Read real array, size 42996x8x2, header \"0040\".)\n",
      " (Read real array, size 42996x8x2, header \"0042\".)\n",
      " (Read real array, size 42996x8x2, header \"0043\".)\n",
      " (Read real array, size 42996x8x2, header \"0044\".)\n",
      " (Read real array, size 42996x8x2, header \"0045\".)\n",
      " (Read real array, size 42996x8x2, header \"0046\".)\n",
      " (Read real array, size 42996x8x2, header \"0047\".)\n",
      " (Read real array, size 42996x2, header \"0048\".)\n",
      " (Read real array, size 42996x2, header \"0050\".)\n",
      " (Read real array, size 42996, header \"0052\".)\n",
      " (Read real array, size 42996, header \"0053\".)\n",
      " (Read real array, size 42996x8x2, header \"0054\".)\n",
      " (Read real array, size 42996x8x2, header \"0055\".)\n",
      " (Read real array, size 42996x8x2, header \"0056\".)\n",
      " (Read real array, size 42996x8x2, header \"0059\".)\n",
      " (Read real array, size 42996, header \"0093\".)\n",
      " (Read real array, size 42996, header \"0094\".)\n",
      " (Read real array, size 42996, header \"0096\".)\n",
      " (Read real array, size 42996, header \"0097\".)\n",
      " (Read real array, size 42996, header \"0098\".)\n",
      " (Read real array, size 42996, header \"0099\".)\n",
      " (Read real array, size 42996, header \"0100\".)\n",
      " (Read real array, size 42996, header \"0101\".)\n",
      " (Read real array, size 42996, header \"0106\".)\n",
      " (Read real array, size 42996, header \"0107\".)\n",
      " (Read real array, size 42996, header \"0109\".)\n",
      " (Read real array, size 42996, header \"0110\".)\n",
      " (Read real array, size 42996, header \"0111\".)\n",
      " (Read real array, size 42996, header \"0112\".)\n",
      " (Read real array, size 42996, header \"0113\".)\n",
      " (Read real array, size 42996, header \"0114\".)\n",
      " (Read real array, size 42996, header \"0121\".)\n",
      " (Read real array, size 42996, header \"0122\".)\n",
      " (Read real array, size 42996, header \"0123\".)\n",
      " (Read real array, size 42996, header \"0124\".)\n",
      " (Read real array, size 42996, header \"0125\".)\n",
      " (Read real array, size 42996, header \"0126\".)\n",
      " (Read real array, size 42996, header \"0127\".)\n",
      " (Read real array, size 17, header \"0130\".)\n",
      " (Read real array, size 17, header \"0131\".)\n",
      " (Read real array, size 42996, header \"0149\".)\n",
      " (Read real array, size 17, header \"0150\".)\n",
      " (Read real array, size 17, header \"0151\".)\n",
      " (Read real array, size 42996, header \"0153\".)\n",
      " (Read real array, size 42996, header \"0154\".)\n",
      " (Read real array, size 17, header \"0155\".)\n",
      " (Read real array, size 17, header \"0156\".)\n",
      " (Read real array, size 17, header \"0157\".)\n",
      " (Read real array, size 17, header \"0166\".)\n",
      " (Read real array, size 17, header \"0167\".)\n",
      " (Read real array, size 42996, header \"0168\".)\n",
      " (Read real array, size 42996, header \"0170\".)\n",
      " (Read real array, size 42996, header \"0171\".)\n",
      " (Read real array, size 135, header \"0172\".)\n",
      " (Read real array, size 135, header \"0173\".)\n",
      " (Read real array, size 17, header \"0174\".)\n",
      " (Read real array, size 17, header \"0175\".)\n",
      " (Read real array, size 1, header \"0177\".)\n",
      " (Read real array, size 4x17, header \"0178\".)\n",
      " (Read real array, size 8x17x3, header \"0187\".)\n",
      " (Read real array, size 8x17x3, header \"0188\".)\n",
      " (Read real array, size 8x17x3, header \"0189\".)\n",
      " (Read real array, size 8x135, header \"0190\".)\n",
      " (Read real array, size 8x17, header \"0191\".)\n",
      " (Read real array, size 8x17, header \"0193\".)\n",
      " (Read real array, size 8x17, header \"0194\".)\n",
      " (Read real array, size 8x17, header \"0195\".)\n",
      " (Read real array, size 8x17, header \"0196\".)\n",
      " (Read real array, size 17x3, header \"0197\".)\n",
      " (Read real array, size 8, header \"0198\".)\n",
      " (Read real array, size 8, header \"0199\".)\n",
      " (Read real array, size 8, header \"0200\".)\n",
      " (Read real array, size 8x17x3, header \"0201\".)\n",
      " (Read real array, size 8x17x3, header \"0202\".)\n",
      " (Read real array, size 8x17x3, header \"0203\".)\n",
      " (Read real array, size 8x17x3, header \"0204\".)\n",
      " (Read real array, size 8x17x3, header \"0205\".)\n",
      " (Read real array, size 8x17x3, header \"0206\".)\n",
      " (Read real array, size 8x135, header \"0207\".)\n",
      " (Read real array, size 8x135, header \"0208\".)\n",
      " (Read real array, size 8x17, header \"0209\".)\n",
      " (Read real array, size 8x17, header \"0210\".)\n",
      " (Read real array, size 8x17, header \"0211\".)\n",
      " (Read real array, size 8x17, header \"0212\".)\n",
      " (Read real array, size 8x17, header \"0213\".)\n",
      " (Read real array, size 8x17, header \"0214\".)\n",
      " (Read real array, size 8x17, header \"0215\".)\n",
      " (Read real array, size 8x17, header \"0216\".)\n",
      " (Read real array, size 8x17, header \"0217\".)\n",
      " (Read real array, size 17x3, header \"0218\".)\n",
      " (Read real array, size 17x3, header \"0219\".)\n",
      " (Read real array, size 8, header \"0220\".)\n",
      " (Read real array, size 8, header \"0221\".)\n",
      " (Read real array, size 8, header \"0222\".)\n",
      " (Read real array, size 8, header \"0223\".)\n",
      " (Read real array, size 8, header \"0224\".)\n",
      " (Read real array, size 8, header \"0225\".)\n",
      " (Read real array, size 17, header \"0226\".)\n",
      " (Read real array, size 17, header \"0227\".)\n",
      " (Read real array, size 17, header \"0228\".)\n",
      " (Read real array, size 4x17, header \"0229\".)\n",
      " (Read real array, size 4x17, header \"0230\".)\n",
      " (Read real array, size 4x17, header \"0231\".)\n",
      " (Read real array, size 8x17, header \"0238\".)\n",
      " (Read real array, size 8x17, header \"0239\".)\n",
      " (Read real array, size 8x17, header \"0240\".)\n",
      " (Read real array, size 8x17, header \"0241\".)\n",
      " (Read real array, size 8x17x3, header \"0244\".)\n",
      " (Read real array, size 8x17x3, header \"0246\".)\n",
      " (Read real array, size 17, header \"0247\".)\n",
      " (Read real array, size 17, header \"0248\".)\n",
      " (Read real array, size 17, header \"0249\".)\n",
      " (Read real array, size 17, header \"0250\".)\n",
      " (Read real array, size 17, header \"0251\".)\n",
      " (Read real array, size 17, header \"0252\".)\n",
      " (Read real array, size 17, header \"0259\".)\n",
      " (Read real array, size 17, header \"0260\".)\n",
      " (Read real array, size 1, header \"0261\".)\n",
      " (Read real array, size 17, header \"0262\".)\n",
      " (Read real array, size 17, header \"0263\".)\n",
      " (Read real array, size 1, header \"0264\".)\n",
      " (Read real array, size 17, header \"0265\".)\n",
      " (Read real array, size 17, header \"0266\".)\n",
      " (Read real array, size 17, header \"0267\".)\n",
      " (Read real array, size 1, header \"0268\".)\n",
      " (Read real array, size 17, header \"0269\".)\n",
      " (Read real array, size 17, header \"0270\".)\n",
      " (Read real array, size 1, header \"0271\".)\n",
      " (Read real array, size 17, header \"0272\".)\n",
      " (Read real array, size 17, header \"0273\".)\n",
      " (Read real array, size 1, header \"0274\".)\n",
      " (Read real array, size 17, header \"0275\".)\n",
      " (Read real array, size 1, header \"0276\".)\n",
      " (Read real array, size 1, header \"0277\".)\n",
      " (Read real array, size 1, header \"0278\".)\n",
      " (Read real array, size 1, header \"0279\".)\n",
      " (Read real array, size 1, header \"0280\".)\n",
      " (Read real array, size 1, header \"0281\".)\n",
      " (Read real array, size 1, header \"0282\".)\n",
      " (Read real array, size 17x2, header \"0283\".)\n",
      " (Read real array, size 17, header \"0284\".)\n",
      " (Read real array, size 1, header \"0285\".)\n",
      " (Read real array, size 1, header \"0286\".)\n",
      " (Read real array, size 1, header \"0287\".)\n",
      " (Read real array, size 17, header \"0288\".)\n",
      " (Read real array, size 17, header \"0289\".)\n",
      " (Read real array, size 17, header \"0290\".)\n",
      " (Read real array, size 42996, header \"0291\".)\n",
      " (Read real array, size 17, header \"0292\".)\n",
      " (Read real array, size 1, header \"0293\".)\n",
      " (Read real array, size 17, header \"0294\".)\n",
      " (Read real array, size 1, header \"0295\".)\n",
      " (Read real array, size 17, header \"0296\".)\n",
      " (Read real array, size 3x17, header \"0298\".)\n",
      " (Read real array, size 3x17, header \"0299\".)\n",
      " (Read real array, size 3x17, header \"0300\".)\n",
      " (Read real array, size 3x17, header \"0302\".)\n",
      " (Read real array, size 17, header \"0303\".)\n",
      " (Read real array, size 17, header \"0304\".)\n",
      " (Read real array, size 17, header \"0305\".)\n",
      " (Read real array, size 17, header \"0306\".)\n",
      " (Read real array, size 17, header \"0307\".)\n",
      " (Read real array, size 17, header \"0308\".)\n",
      " (Read real array, size 3x17, header \"0309\".)\n",
      " (Read real array, size 3, header \"0310\".)\n",
      " (Read real array, size 3x17, header \"0311\".)\n",
      " (Read real array, size 3, header \"0312\".)\n",
      " (Read real array, size 17, header \"0313\".)\n",
      " (Read real array, size 1, header \"0319\".)\n",
      " (Read real array, size 1, header \"0320\".)\n",
      " (Read real array, size 1, header \"0321\".)\n",
      " (Read real array, size 1, header \"0322\".)\n",
      " (Read real array, size 1, header \"0323\".)\n",
      " (Read real array, size 1, header \"0324\".)\n",
      " (Read real array, size 1, header \"0325\".)\n",
      " (Read real array, size 17, header \"0326\".)\n",
      " (Read real array, size 1, header \"0327\".)\n",
      " (Read real array, size 17, header \"0329\".)\n",
      " (Read real array, size 17, header \"0330\".)\n",
      " (Read real array, size 17, header \"0331\".)\n",
      " (Read real array, size 17, header \"0332\".)\n",
      " (Read real array, size 1, header \"0333\".)\n",
      " (Read real array, size 1, header \"0334\".)\n",
      " (Read real array, size 1, header \"0335\".)\n",
      " (Read real array, size 17x14, header \"0336\".)\n",
      " (Read real array, size 17x14, header \"0337\".)\n",
      " (Read real array, size 17x14, header \"0338\".)\n",
      " (Read real array, size 17x14, header \"0342\".)\n",
      " (Read real array, size 17x14, header \"0343\".)\n",
      " (Read real array, size 17x14, header \"0344\".)\n",
      " (Read real array, size 17, header \"0345\".)\n",
      " (Read real array, size 17, header \"0346\".)\n",
      " (Read real array, size 14, header \"0347\".)\n",
      " (Read real array, size 14, header \"0348\".)\n",
      " (Read real array, size 1, header \"0349\".)\n",
      " (Read real array, size 1, header \"0350\".)\n",
      " (Read real array, size 17x14, header \"0351\".)\n",
      " (Read real array, size 17x14, header \"0352\".)\n",
      " (Read real array, size 17x14, header \"0353\".)\n",
      " (Read real array, size 17x14, header \"0357\".)\n",
      " (Read real array, size 17x14, header \"0358\".)\n",
      " (Read real array, size 17x14, header \"0359\".)\n",
      " (Read real array, size 17, header \"0360\".)\n",
      " (Read real array, size 17, header \"0361\".)\n",
      " (Read real array, size 14, header \"0362\".)\n",
      " (Read real array, size 14, header \"0363\".)\n",
      " (Read real array, size 1, header \"0364\".)\n",
      " (Read real array, size 1, header \"0365\".)\n",
      " (Read real array, size 17, header \"0366\".)\n",
      " (Read real array, size 17, header \"0367\".)\n",
      " (Read real array, size 17, header \"0368\".)\n",
      " (Read real array, size 17, header \"0369\".)\n",
      " (Read real array, size 17, header \"0370\".)\n",
      " (Read real array, size 17, header \"0371\".)\n",
      " (Read real array, size 1, header \"0377\".)\n",
      " (Read real array, size 1, header \"0378\".)\n",
      " (Read real array, size 1, header \"0379\".)\n",
      " (Read real array, size 1, header \"0380\".)\n",
      " (Read real array, size 1, header \"0381\".)\n",
      " (Read real array, size 1, header \"0382\".)\n",
      " (Read real array, size 17, header \"0383\".)\n",
      " (Read real array, size 17, header \"0384\".)\n",
      " (Read real array, size 17, header \"0385\".)\n",
      " (Read real array, size 17, header \"0386\".)\n",
      " (Read real array, size 17, header \"0387\".)\n",
      " (Read real array, size 17, header \"0388\".)\n",
      " (Read real array, size 1, header \"0394\".)\n",
      " (Read real array, size 1, header \"0395\".)\n",
      " (Read real array, size 1, header \"0396\".)\n",
      " (Read real array, size 1, header \"0397\".)\n",
      " (Read real array, size 1, header \"0398\".)\n",
      " (Read real array, size 1, header \"0399\".)\n",
      " (Read real array, size 17, header \"0400\".)\n",
      " (Read real array, size 17, header \"0401\".)\n",
      " (Read real array, size 17, header \"0402\".)\n",
      " (Read real array, size 17, header \"0403\".)\n",
      " (Read real array, size 17, header \"0404\".)\n",
      " (Read real array, size 17, header \"0405\".)\n",
      " (Read real array, size 17, header \"0411\".)\n",
      " (Read real array, size 17, header \"0412\".)\n",
      " (Read real array, size 17, header \"0413\".)\n",
      " (Read real array, size 17, header \"0414\".)\n",
      " (Read real array, size 17, header \"0415\".)\n",
      " (Read real array, size 17, header \"0416\".)\n",
      "  [Total CPU is 37.51 seconds.]\n",
      " \n",
      "  (Minimum values for successful completion seem to be:\n",
      "    MMNZ=98770378, MMNZ1=98770378, MMNZ2=98770378.)\n",
      " \n",
      "  Total memory currently used for all arrays is approximately 512.73 megabytes.\n",
      "  [This does NOT include memory related to MMNZ, MMNZ1 and MMNZ2. The\n",
      "   associated arrays are not allocated.]\n",
      "  [Add about 5-10 megabytes for the memory used by the code.]\n",
      "  [Total memory currently allocated for Coefficients and Updated\n",
      "   Coefficients is about      164.0 and       50.6 MB respectively.]\n",
      "  [The likely maximum memory used in this run has \n",
      "    been reported earlier - search for \"most memory\".]\n",
      "  \n",
      " \n",
      "  Maximum residual ratio across whole simulation is 0.000000\n",
      "  \n",
      " (Solution file is '//job//result//sgmc3_t150_r3g3c3b.sl4'.)\n",
      " \n",
      "  (Inputs have been taken from the Command file \"/job/data/./sgmc3_t150_r3g3c3.cmf\")\n",
      " \n",
      "  (The program has completed without error.)\n",
      "  (There were 10 general warnings.)\n",
      "  (If you have a LOG file, search for '%%W' to see them.)\n",
      "  Total elapsed time is: 38 seconds.\n",
      " (Output has also been written to log file\n",
      "   '//job//result//sgmc3_t150_r3g3c3b.LOG'.)\n"
     ]
    }
   ],
   "source": [
    "# you can run this cell to check the logs:\n",
    "!cat {cybergis.recentDownloadPath}/slurm_log/job.stderr\n",
    "!cat {cybergis.recentDownloadPath}/slurm_log/job.stdout"
   ]
  },
  {
   "cell_type": "code",
   "execution_count": null,
   "metadata": {},
   "outputs": [],
   "source": []
  }
 ],
 "metadata": {
  "interpreter": {
   "hash": "5926609cd90a2d94a42e09238288e2cffb196a8e75506a864a3e89f4f0cb4116"
  },
  "kernelspec": {
   "display_name": "iguide",
   "language": "python",
   "name": "iguide"
  },
  "language_info": {
   "codemirror_mode": {
    "name": "ipython",
    "version": 3
   },
   "file_extension": ".py",
   "mimetype": "text/x-python",
   "name": "python",
   "nbconvert_exporter": "python",
   "pygments_lexer": "ipython3",
   "version": "3.8.16"
  },
  "widgets": {
   "application/vnd.jupyter.widget-state+json": {
    "state": {
     "0006818e513e45fe88bf4e8c52257f7c": {
      "model_module": "@jupyter-widgets/base",
      "model_module_version": "1.2.0",
      "model_name": "LayoutModel",
      "state": {}
     },
     "00a6411043d04f248c3d6fde68d949ba": {
      "model_module": "@jupyter-widgets/controls",
      "model_module_version": "1.5.0",
      "model_name": "HBoxModel",
      "state": {
       "children": [
        "IPY_MODEL_6a06935365d0453a8fd9c48fc49bb563",
        "IPY_MODEL_6ff04dbc549b4ddcb8a6b258626bbbc5"
       ],
       "layout": "IPY_MODEL_3d4a93bbf20b4ca9b2f2348c18f0945b"
      }
     },
     "00c38c1ff16749208f5f8377c6c592e1": {
      "model_module": "@jupyter-widgets/base",
      "model_module_version": "1.2.0",
      "model_name": "LayoutModel",
      "state": {}
     },
     "0131fb0dc69241918b02382c5a359ebd": {
      "model_module": "@jupyter-widgets/base",
      "model_module_version": "1.2.0",
      "model_name": "LayoutModel",
      "state": {}
     },
     "030018cdb7734febadd04b0d1ebf1935": {
      "model_module": "@jupyter-widgets/base",
      "model_module_version": "1.2.0",
      "model_name": "LayoutModel",
      "state": {}
     },
     "041f0574aa8d46b5955471ba018997e1": {
      "model_module": "@jupyter-widgets/output",
      "model_module_version": "1.0.0",
      "model_name": "OutputModel",
      "state": {
       "layout": "IPY_MODEL_07578620f6914f0092d12df1fdaec76c",
       "outputs": [
        {
         "data": {
          "application/vnd.jupyter.widget-view+json": {
           "model_id": "6e813efe5b534fb0a7ab89bc782a522c",
           "version_major": 2,
           "version_minor": 0
          },
          "text/plain": "Accordion(children=(VBox(children=(IntSlider(value=50, continuous_update=False, description='input_a', layout=…"
         },
         "metadata": {},
         "output_type": "display_data"
        }
       ]
      }
     },
     "04d9a0bb66cd4a6a8e4b604505839b01": {
      "model_module": "@jupyter-widgets/controls",
      "model_module_version": "1.5.0",
      "model_name": "HBoxModel",
      "state": {
       "children": [
        "IPY_MODEL_f14bb29822f34af7b773201a50b6e096",
        "IPY_MODEL_59e3fe6742134291b891eac82b9c9842"
       ],
       "layout": "IPY_MODEL_c02608dccb3748f4bdc0499c0ac5d22d"
      }
     },
     "060f55dab3324c1fb5f17214dec3ba54": {
      "model_module": "@jupyter-widgets/output",
      "model_module_version": "1.0.0",
      "model_name": "OutputModel",
      "state": {
       "layout": "IPY_MODEL_78cb89a0aab74e2fbe810628ef560d9f",
       "outputs": [
        {
         "data": {
          "text/markdown": "We will do our best to keep this data for 90 days, but cannot guarantee it won’t be deleted sooner.",
          "text/plain": "<IPython.core.display.Markdown object>"
         },
         "metadata": {},
         "output_type": "display_data"
        },
        {
         "data": {
          "text/markdown": "Please note that the renaming feature only allows for names made up of letters, numbers, and the characters ' . ' and ' _ '. Other characters will be removed from your input.",
          "text/plain": "<IPython.core.display.Markdown object>"
         },
         "metadata": {},
         "output_type": "display_data"
        },
        {
         "data": {
          "text/markdown": "<br> **Showing folders 1 to 10 of 233 for alexandermichels**",
          "text/plain": "<IPython.core.display.Markdown object>"
         },
         "metadata": {},
         "output_type": "display_data"
        },
        {
         "data": {
          "application/vnd.jupyter.widget-view+json": {
           "model_id": "d055b5c2230845f29a626f5e8c54e76e",
           "version_major": 2,
           "version_minor": 0
          },
          "text/plain": "HBox(children=(Button(description='Previous Page', style=ButtonStyle()), Button(description='Next Page', style…"
         },
         "metadata": {},
         "output_type": "display_data"
        },
        {
         "data": {
          "text/markdown": "| id | name | hpc | userId | isWritable | createdAt | updatedAt | deletedAt | \n| --- | --- | --- | --- | --- | --- | --- | --- | \n| 1717082076238rS | None | keeling_community | alexandermichels@cybergisx.cigi.illinois.edu | False | 2024-05-30T15:14:36.506Z | None | None | ",
          "text/plain": "<IPython.core.display.Markdown object>"
         },
         "metadata": {},
         "output_type": "display_data"
        },
        {
         "data": {
          "application/vnd.jupyter.widget-view+json": {
           "model_id": "fae0123ab63043d68e6f698870c2526f",
           "version_major": 2,
           "version_minor": 0
          },
          "text/plain": "Button(description='Download Results', style=ButtonStyle())"
         },
         "metadata": {},
         "output_type": "display_data"
        },
        {
         "data": {
          "application/vnd.jupyter.widget-view+json": {
           "model_id": "e66d2837f93f4784853565ae11d1ac02",
           "version_major": 2,
           "version_minor": 0
          },
          "text/plain": "HBox(children=(Button(description='Rename Job', style=ButtonStyle()), Combobox(value='', description='Enter Na…"
         },
         "metadata": {},
         "output_type": "display_data"
        },
        {
         "data": {
          "text/markdown": "| id | name | hpc | userId | isWritable | createdAt | updatedAt | deletedAt | \n| --- | --- | --- | --- | --- | --- | --- | --- | \n| 1717082039PVEs9 | None | keeling_community | alexandermichels@cybergisx.cigi.illinois.edu | False | 2024-05-30T15:14:35.936Z | None | None | ",
          "text/plain": "<IPython.core.display.Markdown object>"
         },
         "metadata": {},
         "output_type": "display_data"
        },
        {
         "data": {
          "application/vnd.jupyter.widget-view+json": {
           "model_id": "7693972b5aec435a8a5bbff876fcb7aa",
           "version_major": 2,
           "version_minor": 0
          },
          "text/plain": "Button(description='Download Results', style=ButtonStyle())"
         },
         "metadata": {},
         "output_type": "display_data"
        },
        {
         "data": {
          "application/vnd.jupyter.widget-view+json": {
           "model_id": "990e94e3ab9843e5a35b25d52fe3b13e",
           "version_major": 2,
           "version_minor": 0
          },
          "text/plain": "HBox(children=(Button(description='Rename Job', style=ButtonStyle()), Combobox(value='', description='Enter Na…"
         },
         "metadata": {},
         "output_type": "display_data"
        },
        {
         "data": {
          "text/markdown": "| id | name | hpc | userId | isWritable | createdAt | updatedAt | deletedAt | \n| --- | --- | --- | --- | --- | --- | --- | --- | \n| 171708203507ez5 | None | keeling_community | alexandermichels@cybergisx.cigi.illinois.edu | False | 2024-05-30T15:13:59.468Z | None | None | ",
          "text/plain": "<IPython.core.display.Markdown object>"
         },
         "metadata": {},
         "output_type": "display_data"
        },
        {
         "data": {
          "application/vnd.jupyter.widget-view+json": {
           "model_id": "1d970453ab2e4cd5b422142de0b948a0",
           "version_major": 2,
           "version_minor": 0
          },
          "text/plain": "Button(description='Download Results', style=ButtonStyle())"
         },
         "metadata": {},
         "output_type": "display_data"
        },
        {
         "data": {
          "application/vnd.jupyter.widget-view+json": {
           "model_id": "87aa8b883baf4c6a97e7c21ba6172d20",
           "version_major": 2,
           "version_minor": 0
          },
          "text/plain": "HBox(children=(Button(description='Rename Job', style=ButtonStyle()), Combobox(value='', description='Enter Na…"
         },
         "metadata": {},
         "output_type": "display_data"
        },
        {
         "data": {
          "text/markdown": "| id | name | hpc | userId | isWritable | createdAt | updatedAt | deletedAt | \n| --- | --- | --- | --- | --- | --- | --- | --- | \n| 1717081989Cm0Ia | None | keeling_community | alexandermichels@cybergisx.cigi.illinois.edu | False | 2024-05-30T15:13:10.015Z | None | None | ",
          "text/plain": "<IPython.core.display.Markdown object>"
         },
         "metadata": {},
         "output_type": "display_data"
        },
        {
         "data": {
          "application/vnd.jupyter.widget-view+json": {
           "model_id": "98be955c89f54188a6ded5e4d6905c9f",
           "version_major": 2,
           "version_minor": 0
          },
          "text/plain": "Button(description='Download Results', style=ButtonStyle())"
         },
         "metadata": {},
         "output_type": "display_data"
        },
        {
         "data": {
          "application/vnd.jupyter.widget-view+json": {
           "model_id": "fd762e208a214e428b17f007b9a55423",
           "version_major": 2,
           "version_minor": 0
          },
          "text/plain": "HBox(children=(Button(description='Rename Job', style=ButtonStyle()), Combobox(value='', description='Enter Na…"
         },
         "metadata": {},
         "output_type": "display_data"
        },
        {
         "data": {
          "text/markdown": "| id | name | hpc | userId | isWritable | createdAt | updatedAt | deletedAt | \n| --- | --- | --- | --- | --- | --- | --- | --- | \n| 1717081496rHyZr | None | keeling_community | alexandermichels@cybergisx.cigi.illinois.edu | False | 2024-05-30T15:13:09.422Z | None | None | ",
          "text/plain": "<IPython.core.display.Markdown object>"
         },
         "metadata": {},
         "output_type": "display_data"
        },
        {
         "data": {
          "application/vnd.jupyter.widget-view+json": {
           "model_id": "68319347d7e44c53bb004f19e7ea19f7",
           "version_major": 2,
           "version_minor": 0
          },
          "text/plain": "Button(description='Download Results', style=ButtonStyle())"
         },
         "metadata": {},
         "output_type": "display_data"
        },
        {
         "data": {
          "application/vnd.jupyter.widget-view+json": {
           "model_id": "3d6f5a6547d54cf582fe4034da04dfda",
           "version_major": 2,
           "version_minor": 0
          },
          "text/plain": "HBox(children=(Button(description='Rename Job', style=ButtonStyle()), Combobox(value='', description='Enter Na…"
         },
         "metadata": {},
         "output_type": "display_data"
        },
        {
         "data": {
          "text/markdown": "| id | name | hpc | userId | isWritable | createdAt | updatedAt | deletedAt | \n| --- | --- | --- | --- | --- | --- | --- | --- | \n| 1717081492tdxhH | None | keeling_community | alexandermichels@cybergisx.cigi.illinois.edu | False | 2024-05-30T15:04:56.437Z | None | None | ",
          "text/plain": "<IPython.core.display.Markdown object>"
         },
         "metadata": {},
         "output_type": "display_data"
        },
        {
         "data": {
          "application/vnd.jupyter.widget-view+json": {
           "model_id": "3e4a33e4a4224fddb6b5b034bffacc3a",
           "version_major": 2,
           "version_minor": 0
          },
          "text/plain": "Button(description='Download Results', style=ButtonStyle())"
         },
         "metadata": {},
         "output_type": "display_data"
        },
        {
         "data": {
          "application/vnd.jupyter.widget-view+json": {
           "model_id": "c14a2f560ee3469eb1bac0955ed0c6f8",
           "version_major": 2,
           "version_minor": 0
          },
          "text/plain": "HBox(children=(Button(description='Rename Job', style=ButtonStyle()), Combobox(value='', description='Enter Na…"
         },
         "metadata": {},
         "output_type": "display_data"
        },
        {
         "data": {
          "text/markdown": "| id | name | hpc | userId | isWritable | createdAt | updatedAt | deletedAt | \n| --- | --- | --- | --- | --- | --- | --- | --- | \n| 1717080920aeBBe | None | keeling_community | alexandermichels@cybergisx.cigi.illinois.edu | False | 2024-05-30T14:55:20.164Z | None | None | ",
          "text/plain": "<IPython.core.display.Markdown object>"
         },
         "metadata": {},
         "output_type": "display_data"
        },
        {
         "data": {
          "application/vnd.jupyter.widget-view+json": {
           "model_id": "3281dbd64a514b498c0deb16ebc83421",
           "version_major": 2,
           "version_minor": 0
          },
          "text/plain": "Button(description='Download Results', style=ButtonStyle())"
         },
         "metadata": {},
         "output_type": "display_data"
        },
        {
         "data": {
          "application/vnd.jupyter.widget-view+json": {
           "model_id": "26d7880fc0da4ca296472ef75c2039a7",
           "version_major": 2,
           "version_minor": 0
          },
          "text/plain": "HBox(children=(Button(description='Rename Job', style=ButtonStyle()), Combobox(value='', description='Enter Na…"
         },
         "metadata": {},
         "output_type": "display_data"
        },
        {
         "data": {
          "text/markdown": "| id | name | hpc | userId | isWritable | createdAt | updatedAt | deletedAt | \n| --- | --- | --- | --- | --- | --- | --- | --- | \n| 1717080918hDGNP | None | keeling_community | alexandermichels@cybergisx.cigi.illinois.edu | False | 2024-05-30T14:55:19.704Z | None | None | ",
          "text/plain": "<IPython.core.display.Markdown object>"
         },
         "metadata": {},
         "output_type": "display_data"
        },
        {
         "data": {
          "application/vnd.jupyter.widget-view+json": {
           "model_id": "c786d6eb46ad47a49cb74e98acc8399f",
           "version_major": 2,
           "version_minor": 0
          },
          "text/plain": "Button(description='Download Results', style=ButtonStyle())"
         },
         "metadata": {},
         "output_type": "display_data"
        },
        {
         "data": {
          "application/vnd.jupyter.widget-view+json": {
           "model_id": "93dbbe7da209440d9c0d37bc3b5a5ae9",
           "version_major": 2,
           "version_minor": 0
          },
          "text/plain": "HBox(children=(Button(description='Rename Job', style=ButtonStyle()), Combobox(value='', description='Enter Na…"
         },
         "metadata": {},
         "output_type": "display_data"
        },
        {
         "data": {
          "text/markdown": "| id | name | hpc | userId | isWritable | createdAt | updatedAt | deletedAt | \n| --- | --- | --- | --- | --- | --- | --- | --- | \n| 1715447522fyWS4 | None | keeling_community | alexandermichels@cybergisx.cigi.illinois.edu | False | 2024-05-11T17:12:05.676Z | None | None | ",
          "text/plain": "<IPython.core.display.Markdown object>"
         },
         "metadata": {},
         "output_type": "display_data"
        },
        {
         "data": {
          "application/vnd.jupyter.widget-view+json": {
           "model_id": "aa91e2f111c544a782c96956cb7e5495",
           "version_major": 2,
           "version_minor": 0
          },
          "text/plain": "Button(description='Download Results', style=ButtonStyle())"
         },
         "metadata": {},
         "output_type": "display_data"
        },
        {
         "data": {
          "application/vnd.jupyter.widget-view+json": {
           "model_id": "04d9a0bb66cd4a6a8e4b604505839b01",
           "version_major": 2,
           "version_minor": 0
          },
          "text/plain": "HBox(children=(Button(description='Rename Job', style=ButtonStyle()), Combobox(value='', description='Enter Na…"
         },
         "metadata": {},
         "output_type": "display_data"
        },
        {
         "data": {
          "text/markdown": "| id | name | hpc | userId | isWritable | createdAt | updatedAt | deletedAt | \n| --- | --- | --- | --- | --- | --- | --- | --- | \n| 1715357723edTGq | None | keeling_community | alexandermichels@cybergisx.cigi.illinois.edu | False | 2024-05-10T16:15:28.787Z | None | None | ",
          "text/plain": "<IPython.core.display.Markdown object>"
         },
         "metadata": {},
         "output_type": "display_data"
        },
        {
         "data": {
          "application/vnd.jupyter.widget-view+json": {
           "model_id": "c676e5aba9e04fada7cd1dabb2846ad1",
           "version_major": 2,
           "version_minor": 0
          },
          "text/plain": "Button(description='Download Results', style=ButtonStyle())"
         },
         "metadata": {},
         "output_type": "display_data"
        },
        {
         "data": {
          "application/vnd.jupyter.widget-view+json": {
           "model_id": "00a6411043d04f248c3d6fde68d949ba",
           "version_major": 2,
           "version_minor": 0
          },
          "text/plain": "HBox(children=(Button(description='Rename Job', style=ButtonStyle()), Combobox(value='', description='Enter Na…"
         },
         "metadata": {},
         "output_type": "display_data"
        },
        {
         "data": {
          "text/markdown": "<br> **Showing folders 1 to 10 of 233**",
          "text/plain": "<IPython.core.display.Markdown object>"
         },
         "metadata": {},
         "output_type": "display_data"
        },
        {
         "data": {
          "application/vnd.jupyter.widget-view+json": {
           "model_id": "d055b5c2230845f29a626f5e8c54e76e",
           "version_major": 2,
           "version_minor": 0
          },
          "text/plain": "HBox(children=(Button(description='Previous Page', style=ButtonStyle()), Button(description='Next Page', style…"
         },
         "metadata": {},
         "output_type": "display_data"
        }
       ]
      }
     },
     "07578620f6914f0092d12df1fdaec76c": {
      "model_module": "@jupyter-widgets/base",
      "model_module_version": "1.2.0",
      "model_name": "LayoutModel",
      "state": {}
     },
     "08c0e8f5b00a47838c0f75d0c68aa586": {
      "model_module": "@jupyter-widgets/controls",
      "model_module_version": "1.5.0",
      "model_name": "DescriptionStyleModel",
      "state": {
       "description_width": ""
      }
     },
     "095edccb07db4f0ca0b7e58e9620adaf": {
      "model_module": "@jupyter-widgets/controls",
      "model_module_version": "1.5.0",
      "model_name": "ButtonStyleModel",
      "state": {}
     },
     "0a6daf948f90426095b531213363d6b1": {
      "model_module": "@jupyter-widgets/controls",
      "model_module_version": "1.5.0",
      "model_name": "VBoxModel",
      "state": {
       "children": [
        "IPY_MODEL_8d45f100112f45fb84bb84ef02ce70fb",
        "IPY_MODEL_24835b5e9029478c84c2710f6ba6dc16"
       ],
       "layout": "IPY_MODEL_9ad52f5e4dec412e9a23dec24c00a4fc"
      }
     },
     "0bb9c54a34104230ad233f6a6b5761ec": {
      "model_module": "@jupyter-widgets/controls",
      "model_module_version": "1.5.0",
      "model_name": "ButtonStyleModel",
      "state": {}
     },
     "0db81f3ca45e479c9d4ce87a8c2b8bff": {
      "model_module": "@jupyter-widgets/base",
      "model_module_version": "1.2.0",
      "model_name": "LayoutModel",
      "state": {}
     },
     "0fe7f71704f442bc873601bc60a6bde3": {
      "model_module": "@jupyter-widgets/controls",
      "model_module_version": "1.5.0",
      "model_name": "ButtonStyleModel",
      "state": {}
     },
     "10b1d2ac77034dc7b260499a4029642e": {
      "model_module": "@jupyter-widgets/base",
      "model_module_version": "1.2.0",
      "model_name": "LayoutModel",
      "state": {}
     },
     "13434c61673444339b82ba6c68d4b31a": {
      "model_module": "@jupyter-widgets/controls",
      "model_module_version": "1.5.0",
      "model_name": "ButtonStyleModel",
      "state": {}
     },
     "140fd9ab9c874df0a79a54f031c72f42": {
      "model_module": "@jupyter-widgets/base",
      "model_module_version": "1.2.0",
      "model_name": "LayoutModel",
      "state": {}
     },
     "15b58c0e86d44c93b1cea8955d69e3a5": {
      "model_module": "@jupyter-widgets/base",
      "model_module_version": "1.2.0",
      "model_name": "LayoutModel",
      "state": {}
     },
     "16347f478aff42239acf8136606fe5a6": {
      "model_module": "@jupyter-widgets/controls",
      "model_module_version": "1.5.0",
      "model_name": "IntSliderModel",
      "state": {
       "continuous_update": false,
       "description": "num_of_task",
       "layout": "IPY_MODEL_cc4d3a7c1706481e9279545fcb551e6b",
       "max": 6,
       "min": 1,
       "style": "IPY_MODEL_e8ee6c0c8155418fb2989647ce4efbd9",
       "value": 2
      }
     },
     "188cbec6d3dd4f02adae8adf4a2c498e": {
      "model_module": "@jupyter-widgets/controls",
      "model_module_version": "1.5.0",
      "model_name": "ButtonModel",
      "state": {
       "description": "Rename Job",
       "layout": "IPY_MODEL_a49e5f60a6234dc1bd80847485c1327e",
       "style": "IPY_MODEL_aa78b71212f2438c81705ff94ea69990"
      }
     },
     "1a427cabb73841bca9e67515186195a0": {
      "model_module": "@jupyter-widgets/base",
      "model_module_version": "1.2.0",
      "model_name": "LayoutModel",
      "state": {}
     },
     "1ba441b217d043cca4aed1273c1d9c81": {
      "model_module": "@jupyter-widgets/base",
      "model_module_version": "1.2.0",
      "model_name": "LayoutModel",
      "state": {}
     },
     "1c574b598f4d4cc29d9a46f0243f8be2": {
      "model_module": "@jupyter-widgets/base",
      "model_module_version": "1.2.0",
      "model_name": "LayoutModel",
      "state": {}
     },
     "1d32629dbd0141398f47d212b19927ee": {
      "model_module": "@jupyter-widgets/output",
      "model_module_version": "1.0.0",
      "model_name": "OutputModel",
      "state": {
       "layout": "IPY_MODEL_80ca576925c84fd18c4f98a1a4a637b0",
       "outputs": [
        {
         "data": {
          "application/vnd.jupyter.widget-view+json": {
           "model_id": "bac3ea722c484b7a88aac61f131984db",
           "version_major": 2,
           "version_minor": 0
          },
          "text/plain": "Output()"
         },
         "metadata": {},
         "output_type": "display_data"
        }
       ]
      }
     },
     "1d970453ab2e4cd5b422142de0b948a0": {
      "model_module": "@jupyter-widgets/controls",
      "model_module_version": "1.5.0",
      "model_name": "ButtonModel",
      "state": {
       "description": "Download Results",
       "layout": "IPY_MODEL_cf714e6e88bc4887bfbd8a13bcb88ec3",
       "style": "IPY_MODEL_8ce87af48e8943ca9f59eb261702899b"
      }
     },
     "1f1e0c55d14845329a0f545d6077f392": {
      "model_module": "@jupyter-widgets/controls",
      "model_module_version": "1.5.0",
      "model_name": "HTMLModel",
      "state": {
       "layout": "IPY_MODEL_f85c14a8485a4f8fa073ceffcb14a893",
       "style": "IPY_MODEL_de5d6ef45cf64adcae8d37e8516cbf31",
       "value": "<p>1. Press the stop button in the top bar of your Jupyter notebook <b>twice</b>. Please note that errors will appear on the user interface. While your logs will stop updating, <b>your job is still running</b>.</p>\n\n<p>2. Create a new code block below the UI.</p>\n\n<p>3. Enter this command is your code block and press run:&nbsp;<em>cybergis.cancel_job()</em></p>\n\n<p>4. You should see a message displaying that your job has been canceled. Success!</p>"
      }
     },
     "1f681491357247b9864e840eaf24bc41": {
      "model_module": "@jupyter-widgets/controls",
      "model_module_version": "1.5.0",
      "model_name": "ButtonModel",
      "state": {
       "description": "Load More",
       "layout": "IPY_MODEL_b7aa7185180342f6b6d4f07cfb51d9dc",
       "style": "IPY_MODEL_42316da0cd0240bfb1a4733456d47b46"
      }
     },
     "23c38cce2d08471c902e9022f4ccd92f": {
      "model_module": "@jupyter-widgets/controls",
      "model_module_version": "1.5.0",
      "model_name": "HBoxModel",
      "state": {
       "children": [
        "IPY_MODEL_4cea73254d5a441a86c3cbed9b2e9008",
        "IPY_MODEL_b285f95909294ac7a85b3b8568b54cbb"
       ],
       "layout": "IPY_MODEL_f16ecbe9ed3f49139900b8f861ddeff4"
      }
     },
     "2465bc71d1564d838a1e1b1c5496dc34": {
      "model_module": "@jupyter-widgets/base",
      "model_module_version": "1.2.0",
      "model_name": "LayoutModel",
      "state": {
       "width": "500px"
      }
     },
     "24835b5e9029478c84c2710f6ba6dc16": {
      "model_module": "@jupyter-widgets/controls",
      "model_module_version": "1.5.0",
      "model_name": "DropdownModel",
      "state": {
       "_options_labels": [
        "foo",
        "bar"
       ],
       "description": "input_b",
       "index": 0,
       "layout": "IPY_MODEL_74ed5b8b8d9b42cc8a3798159ec1dbf4",
       "style": "IPY_MODEL_cddd632ffbcf48289e1e71801aa6fa6d"
      }
     },
     "266039af06314b01bd504809e6009169": {
      "model_module": "@jupyter-widgets/controls",
      "model_module_version": "1.5.0",
      "model_name": "DescriptionStyleModel",
      "state": {
       "description_width": "auto"
      }
     },
     "26d7880fc0da4ca296472ef75c2039a7": {
      "model_module": "@jupyter-widgets/controls",
      "model_module_version": "1.5.0",
      "model_name": "HBoxModel",
      "state": {
       "children": [
        "IPY_MODEL_e18672140e674545b7d7e4daa9b02eb7",
        "IPY_MODEL_f6cc557cf9b7440c808e10216658a2d5"
       ],
       "layout": "IPY_MODEL_ca930ee96ca044e48e0fde23da8e11b1"
      }
     },
     "2778ced401214e6dbd0a7c2e37e43801": {
      "model_module": "@jupyter-widgets/base",
      "model_module_version": "1.2.0",
      "model_name": "LayoutModel",
      "state": {}
     },
     "2c2c8d0e3746445cb7c00956e53bd78e": {
      "model_module": "@jupyter-widgets/output",
      "model_module_version": "1.0.0",
      "model_name": "OutputModel",
      "state": {
       "layout": "IPY_MODEL_459f452b9c394192ab9b0873c15f56a2",
       "outputs": [
        {
         "data": {
          "text/markdown": "# Welcome to CyberGIS-Compute",
          "text/plain": "<IPython.core.display.Markdown object>"
         },
         "metadata": {},
         "output_type": "display_data"
        },
        {
         "data": {
          "text/markdown": "A scalable middleware framework for enabling high-performance and data-intensive geospatial research and education on CyberGIS-Jupyter. [Click here for documentation.](https://cybergis.github.io/cybergis-compute-python-sdk/index.html)",
          "text/plain": "<IPython.core.display.Markdown object>"
         },
         "metadata": {},
         "output_type": "display_data"
        },
        {
         "data": {
          "text/markdown": "***",
          "text/plain": "<IPython.core.display.Markdown object>"
         },
         "metadata": {},
         "output_type": "display_data"
        },
        {
         "data": {
          "text/markdown": "**Your CyberGIS-Compute Username:** alexandermichels@cybergisx.cigi.illinois.edu",
          "text/plain": "<IPython.core.display.Markdown object>"
         },
         "metadata": {},
         "output_type": "display_data"
        },
        {
         "data": {
          "text/markdown": "## Announcements",
          "text/plain": "<IPython.core.display.Markdown object>"
         },
         "metadata": {},
         "output_type": "display_data"
        },
        {
         "data": {
          "text/markdown": "### Message 1:",
          "text/plain": "<IPython.core.display.Markdown object>"
         },
         "metadata": {},
         "output_type": "display_data"
        },
        {
         "data": {
          "text/markdown": "Message: CyberGIS-Compute and CyberGISX will be down for maintenance on June 10th. We will work to restore services as soon as the system is restored.",
          "text/plain": "<IPython.core.display.Markdown object>"
         },
         "metadata": {},
         "output_type": "display_data"
        },
        {
         "data": {
          "text/markdown": "Posted by: CyberGIS Center at 2024-06-03T00:00:29Z",
          "text/plain": "<IPython.core.display.Markdown object>"
         },
         "metadata": {},
         "output_type": "display_data"
        },
        {
         "data": {
          "text/markdown": "***",
          "text/plain": "<IPython.core.display.Markdown object>"
         },
         "metadata": {},
         "output_type": "display_data"
        },
        {
         "data": {
          "application/vnd.jupyter.widget-view+json": {
           "model_id": "47b24a8d3dcd4f88b1244d6553a11a3a",
           "version_major": 2,
           "version_minor": 0
          },
          "text/plain": "Output()"
         },
         "metadata": {},
         "output_type": "display_data"
        },
        {
         "data": {
          "application/vnd.jupyter.widget-view+json": {
           "model_id": "e5f7906e70f94ed685e4d8f465c8ddec",
           "version_major": 2,
           "version_minor": 0
          },
          "text/plain": "Output()"
         },
         "metadata": {},
         "output_type": "display_data"
        },
        {
         "data": {
          "application/vnd.jupyter.widget-view+json": {
           "model_id": "4407b589925346b0b8b8945081c09642",
           "version_major": 2,
           "version_minor": 0
          },
          "text/plain": "Output()"
         },
         "metadata": {},
         "output_type": "display_data"
        },
        {
         "data": {
          "application/vnd.jupyter.widget-view+json": {
           "model_id": "893d648eb86c497391ca67957ad3100e",
           "version_major": 2,
           "version_minor": 0
          },
          "text/plain": "Output()"
         },
         "metadata": {},
         "output_type": "display_data"
        },
        {
         "data": {
          "application/vnd.jupyter.widget-view+json": {
           "model_id": "041f0574aa8d46b5955471ba018997e1",
           "version_major": 2,
           "version_minor": 0
          },
          "text/plain": "Output()"
         },
         "metadata": {},
         "output_type": "display_data"
        },
        {
         "data": {
          "application/vnd.jupyter.widget-view+json": {
           "model_id": "997dd61b4ee542e998b76d6f0f79d51a",
           "version_major": 2,
           "version_minor": 0
          },
          "text/plain": "Output()"
         },
         "metadata": {},
         "output_type": "display_data"
        },
        {
         "data": {
          "application/vnd.jupyter.widget-view+json": {
           "model_id": "77afbaa2b48f498b84c7cd7d793bfe69",
           "version_major": 2,
           "version_minor": 0
          },
          "text/plain": "Output()"
         },
         "metadata": {},
         "output_type": "display_data"
        },
        {
         "data": {
          "application/vnd.jupyter.widget-view+json": {
           "model_id": "3fd8a985bb4a4cb08cfb75ea32653e94",
           "version_major": 2,
           "version_minor": 0
          },
          "text/plain": "Output()"
         },
         "metadata": {},
         "output_type": "display_data"
        },
        {
         "data": {
          "application/vnd.jupyter.widget-view+json": {
           "model_id": "d0151d9bfb004cc7a30a2cdbd3485ad0",
           "version_major": 2,
           "version_minor": 0
          },
          "text/plain": "Output()"
         },
         "metadata": {},
         "output_type": "display_data"
        },
        {
         "data": {
          "application/vnd.jupyter.widget-view+json": {
           "model_id": "d195974ea3374a4eb7d035f32ddbdb49",
           "version_major": 2,
           "version_minor": 0
          },
          "text/plain": "Output()"
         },
         "metadata": {},
         "output_type": "display_data"
        }
       ]
      }
     },
     "2c5c1c74c1c1463488132766b1f18ff8": {
      "model_module": "@jupyter-widgets/controls",
      "model_module_version": "1.5.0",
      "model_name": "ButtonStyleModel",
      "state": {}
     },
     "2e5904cdf14f4b76a2b2fea37f43a5d7": {
      "model_module": "@jupyter-widgets/base",
      "model_module_version": "1.2.0",
      "model_name": "LayoutModel",
      "state": {}
     },
     "2e69de28449d40cf8178bcfa91053835": {
      "model_module": "@jupyter-widgets/base",
      "model_module_version": "1.2.0",
      "model_name": "LayoutModel",
      "state": {}
     },
     "2fac1efd569443c9ba10fe972a2bcd50": {
      "model_module": "@jupyter-widgets/base",
      "model_module_version": "1.2.0",
      "model_name": "LayoutModel",
      "state": {}
     },
     "30df69e8fb6948c1a73093580bac0152": {
      "model_module": "@jupyter-widgets/base",
      "model_module_version": "1.2.0",
      "model_name": "LayoutModel",
      "state": {}
     },
     "32786e19dfe148ec982a5b8cb5bab8fe": {
      "model_module": "@jupyter-widgets/base",
      "model_module_version": "1.2.0",
      "model_name": "LayoutModel",
      "state": {}
     },
     "3281dbd64a514b498c0deb16ebc83421": {
      "model_module": "@jupyter-widgets/controls",
      "model_module_version": "1.5.0",
      "model_name": "ButtonModel",
      "state": {
       "description": "Download Results",
       "layout": "IPY_MODEL_38174569ac074380929681f679b3aa44",
       "style": "IPY_MODEL_b45e834316744d35bef00968445438cb"
      }
     },
     "32f6298ddd064c2e91ae772395460400": {
      "model_module": "@jupyter-widgets/base",
      "model_module_version": "1.2.0",
      "model_name": "LayoutModel",
      "state": {}
     },
     "3304bd3a6ba64348bf593c5ff78b28dc": {
      "model_module": "@jupyter-widgets/controls",
      "model_module_version": "1.5.0",
      "model_name": "ButtonStyleModel",
      "state": {}
     },
     "33d5b09374234fe595305b19036e9d98": {
      "model_module": "@jupyter-widgets/base",
      "model_module_version": "1.2.0",
      "model_name": "LayoutModel",
      "state": {}
     },
     "34183e9e82244b1ebbe1822066ec1a97": {
      "model_module": "@jupyter-widgets/controls",
      "model_module_version": "1.5.0",
      "model_name": "ButtonModel",
      "state": {
       "description": "Rename Job",
       "layout": "IPY_MODEL_8d2dd60f67da4e7ebf1e102738226c73",
       "style": "IPY_MODEL_cc99fe57f8de45bdb5369bb91f0e7abd"
      }
     },
     "36dcb453c0ab4a7c90fa96a80218f278": {
      "model_module": "@jupyter-widgets/controls",
      "model_module_version": "1.5.0",
      "model_name": "ButtonStyleModel",
      "state": {}
     },
     "38174569ac074380929681f679b3aa44": {
      "model_module": "@jupyter-widgets/base",
      "model_module_version": "1.2.0",
      "model_name": "LayoutModel",
      "state": {}
     },
     "3a10bf8415614a8dbde9578487bd42ac": {
      "model_module": "@jupyter-widgets/base",
      "model_module_version": "1.2.0",
      "model_name": "LayoutModel",
      "state": {}
     },
     "3aa4abc9c3ba4c43b40b007a4a758a02": {
      "model_module": "@jupyter-widgets/base",
      "model_module_version": "1.2.0",
      "model_name": "LayoutModel",
      "state": {}
     },
     "3af991e807c5406b99a2d7cfcfeb7f2c": {
      "model_module": "@jupyter-widgets/controls",
      "model_module_version": "1.5.0",
      "model_name": "DescriptionStyleModel",
      "state": {
       "description_width": "auto"
      }
     },
     "3b9ed5f75bfa46a486e2f8bda5574995": {
      "model_module": "@jupyter-widgets/output",
      "model_module_version": "1.0.0",
      "model_name": "OutputModel",
      "state": {
       "layout": "IPY_MODEL_ac9fbd4857324c50b976dc9d806e87b4",
       "outputs": [
        {
         "data": {
          "application/vnd.jupyter.widget-view+json": {
           "model_id": "9c9ad725adf74a9191a00d490448a3f3",
           "version_major": 2,
           "version_minor": 0
          },
          "text/plain": "Output()"
         },
         "metadata": {},
         "output_type": "display_data"
        },
        {
         "data": {
          "application/vnd.jupyter.widget-view+json": {
           "model_id": "7bdc72641784483eb62f7ddfef4c41f5",
           "version_major": 2,
           "version_minor": 0
          },
          "text/plain": "Output()"
         },
         "metadata": {},
         "output_type": "display_data"
        }
       ]
      }
     },
     "3c7e2b2edb5146b19a4649bdf8bd5421": {
      "model_module": "@jupyter-widgets/base",
      "model_module_version": "1.2.0",
      "model_name": "LayoutModel",
      "state": {}
     },
     "3d4a93bbf20b4ca9b2f2348c18f0945b": {
      "model_module": "@jupyter-widgets/base",
      "model_module_version": "1.2.0",
      "model_name": "LayoutModel",
      "state": {}
     },
     "3d6f5a6547d54cf582fe4034da04dfda": {
      "model_module": "@jupyter-widgets/controls",
      "model_module_version": "1.5.0",
      "model_name": "HBoxModel",
      "state": {
       "children": [
        "IPY_MODEL_c9cfe23aedd947918d73627776a5ab9f",
        "IPY_MODEL_75877e38da89460590185ddbcd800ef2"
       ],
       "layout": "IPY_MODEL_d2b4aa569052498facc03604f52a0125"
      }
     },
     "3d77dba55e2c4a20ace2388b1822631b": {
      "model_module": "@jupyter-widgets/controls",
      "model_module_version": "1.5.0",
      "model_name": "ButtonModel",
      "state": {
       "description": "Next Page",
       "layout": "IPY_MODEL_8cdc7e56624c43488e44abf871a3c564",
       "style": "IPY_MODEL_8684387bd09d469cb77bff90e66a87d2"
      }
     },
     "3e4a33e4a4224fddb6b5b034bffacc3a": {
      "model_module": "@jupyter-widgets/controls",
      "model_module_version": "1.5.0",
      "model_name": "ButtonModel",
      "state": {
       "description": "Download Results",
       "layout": "IPY_MODEL_5807635c65014779ba6ea8711e87bfaa",
       "style": "IPY_MODEL_0fe7f71704f442bc873601bc60a6bde3"
      }
     },
     "3eb8ab6a012f4d37a051621ac4bc920c": {
      "model_module": "@jupyter-widgets/base",
      "model_module_version": "1.2.0",
      "model_name": "LayoutModel",
      "state": {}
     },
     "3fd8a985bb4a4cb08cfb75ea32653e94": {
      "model_module": "@jupyter-widgets/output",
      "model_module_version": "1.0.0",
      "model_name": "OutputModel",
      "state": {
       "layout": "IPY_MODEL_32f6298ddd064c2e91ae772395460400",
       "outputs": [
        {
         "data": {
          "text/markdown": "Please note that the naming feature only allows for names made up of letters, numbers, and the characters ' . ' and ' _ '. Other characters will be removed from your input.",
          "text/plain": "<IPython.core.display.Markdown object>"
         },
         "metadata": {},
         "output_type": "display_data"
        },
        {
         "data": {
          "application/vnd.jupyter.widget-view+json": {
           "model_id": "7e138af3a62e4d84afb4e905c9d81139",
           "version_major": 2,
           "version_minor": 0
          },
          "text/plain": "HBox(children=(Checkbox(value=False, description='Set a name for this job? ', style=DescriptionStyle(descripti…"
         },
         "metadata": {},
         "output_type": "display_data"
        }
       ]
      }
     },
     "42316da0cd0240bfb1a4733456d47b46": {
      "model_module": "@jupyter-widgets/controls",
      "model_module_version": "1.5.0",
      "model_name": "ButtonStyleModel",
      "state": {}
     },
     "4407b589925346b0b8b8945081c09642": {
      "model_module": "@jupyter-widgets/output",
      "model_module_version": "1.0.0",
      "model_name": "OutputModel",
      "state": {
       "layout": "IPY_MODEL_3a10bf8415614a8dbde9578487bd42ac",
       "outputs": [
        {
         "data": {
          "application/vnd.jupyter.widget-view+json": {
           "model_id": "be239b0db0834a5082069c54120b4f43",
           "version_major": 2,
           "version_minor": 0
          },
          "text/plain": "Accordion(children=(Dropdown(description='🖥 Computing Resource:', index=3, layout=Layout(width='60%'), options…"
         },
         "metadata": {},
         "output_type": "display_data"
        }
       ]
      }
     },
     "457a03b2d2fa4bac9cde2129fe500f10": {
      "model_module": "@jupyter-widgets/controls",
      "model_module_version": "1.5.0",
      "model_name": "LabelModel",
      "state": {
       "layout": "IPY_MODEL_0006818e513e45fe88bf4e8c52257f7c",
       "style": "IPY_MODEL_08c0e8f5b00a47838c0f75d0c68aa586",
       "value": "All configs are optional. Please refer to Slurm official documentation at 🔗 https://slurm.schedmd.com/sbatch.html"
      }
     },
     "459f452b9c394192ab9b0873c15f56a2": {
      "model_module": "@jupyter-widgets/base",
      "model_module_version": "1.2.0",
      "model_name": "LayoutModel",
      "state": {}
     },
     "46e7ebb0a1e7411ba85563bb7705814d": {
      "model_module": "@jupyter-widgets/base",
      "model_module_version": "1.2.0",
      "model_name": "LayoutModel",
      "state": {}
     },
     "47a67f66ae7845c8bb951d410892e698": {
      "model_module": "@jupyter-widgets/base",
      "model_module_version": "1.2.0",
      "model_name": "LayoutModel",
      "state": {}
     },
     "47b24a8d3dcd4f88b1244d6553a11a3a": {
      "model_module": "@jupyter-widgets/output",
      "model_module_version": "1.0.0",
      "model_name": "OutputModel",
      "state": {
       "layout": "IPY_MODEL_1c574b598f4d4cc29d9a46f0243f8be2",
       "outputs": [
        {
         "data": {
          "application/vnd.jupyter.widget-view+json": {
           "model_id": "8df3b4df15e24687880b0487b3d3f207",
           "version_major": 2,
           "version_minor": 0
          },
          "text/plain": "Dropdown(description='📦 Job Templates:', index=16, layout=Layout(width='60%'), options=('ACESTest', 'CUAHSI_Su…"
         },
         "metadata": {},
         "output_type": "display_data"
        }
       ]
      }
     },
     "4bdbde3b39fb4b0389f8d1c04fefc2cd": {
      "model_module": "@jupyter-widgets/base",
      "model_module_version": "1.2.0",
      "model_name": "LayoutModel",
      "state": {}
     },
     "4cea73254d5a441a86c3cbed9b2e9008": {
      "model_module": "@jupyter-widgets/controls",
      "model_module_version": "1.5.0",
      "model_name": "CheckboxModel",
      "state": {
       "description": "receive email on job status? ",
       "disabled": false,
       "layout": "IPY_MODEL_87e312e67fa34ed6a442549af5cfdf24",
       "style": "IPY_MODEL_ef444e83fda448a7b7d2aee5b4618da6",
       "value": false
      }
     },
     "5028a8c0aefc4e0d91bbf8f78787a83a": {
      "model_module": "@jupyter-widgets/controls",
      "model_module_version": "1.5.0",
      "model_name": "ButtonStyleModel",
      "state": {}
     },
     "5272ae1a8b224c8588f3edc82e7824bb": {
      "model_module": "@jupyter-widgets/base",
      "model_module_version": "1.2.0",
      "model_name": "LayoutModel",
      "state": {}
     },
     "52a4cafb4ae2404f837a92a7312fd501": {
      "model_module": "@jupyter-widgets/base",
      "model_module_version": "1.2.0",
      "model_name": "LayoutModel",
      "state": {}
     },
     "53e286916adf46dc888162566c7c8280": {
      "model_module": "@jupyter-widgets/base",
      "model_module_version": "1.2.0",
      "model_name": "LayoutModel",
      "state": {}
     },
     "53f4ab1f4a3e44fd96879b7016e13378": {
      "model_module": "@jupyter-widgets/base",
      "model_module_version": "1.2.0",
      "model_name": "LayoutModel",
      "state": {}
     },
     "5533acd58ee04bdbb3f82180ffc0a6ed": {
      "model_module": "@jupyter-widgets/controls",
      "model_module_version": "1.5.0",
      "model_name": "ComboboxModel",
      "state": {
       "description": "Enter Name:",
       "ensure_option": false,
       "layout": "IPY_MODEL_33d5b09374234fe595305b19036e9d98",
       "placeholder": "Select new name",
       "style": "IPY_MODEL_5d9228af641f477a9ee33b680248becc"
      }
     },
     "55b831e99d844001a13f74c8ad05ee6f": {
      "model_module": "@jupyter-widgets/controls",
      "model_module_version": "1.5.0",
      "model_name": "DescriptionStyleModel",
      "state": {
       "description_width": ""
      }
     },
     "57861da87626405f98fc349cb7d0b495": {
      "model_module": "@jupyter-widgets/base",
      "model_module_version": "1.2.0",
      "model_name": "LayoutModel",
      "state": {}
     },
     "57b09a577b9340da990966750e1e7517": {
      "model_module": "@jupyter-widgets/base",
      "model_module_version": "1.2.0",
      "model_name": "LayoutModel",
      "state": {}
     },
     "5807635c65014779ba6ea8711e87bfaa": {
      "model_module": "@jupyter-widgets/base",
      "model_module_version": "1.2.0",
      "model_name": "LayoutModel",
      "state": {}
     },
     "599a5cff06db461996cd7142389da290": {
      "model_module": "@jupyter-widgets/controls",
      "model_module_version": "1.5.0",
      "model_name": "AccordionModel",
      "state": {
       "_titles": {
        "0": "How to cancel a job"
       },
       "children": [
        "IPY_MODEL_1f1e0c55d14845329a0f545d6077f392"
       ],
       "layout": "IPY_MODEL_81902fa0b9454ae6a9b64acc7e349fdf",
       "selected_index": null
      }
     },
     "59e3fe6742134291b891eac82b9c9842": {
      "model_module": "@jupyter-widgets/controls",
      "model_module_version": "1.5.0",
      "model_name": "ComboboxModel",
      "state": {
       "description": "Enter Name:",
       "ensure_option": false,
       "layout": "IPY_MODEL_bc5927e31d014bc18289dc9176ab7920",
       "placeholder": "Select new name",
       "style": "IPY_MODEL_c4d9dc3057c74e0b95cdc5fb46352233"
      }
     },
     "5c02a4842e3542c79eca1be40af3c7c2": {
      "model_module": "@jupyter-widgets/base",
      "model_module_version": "1.2.0",
      "model_name": "LayoutModel",
      "state": {}
     },
     "5cd4da423cd146779a5574987395a8bb": {
      "model_module": "@jupyter-widgets/base",
      "model_module_version": "1.2.0",
      "model_name": "LayoutModel",
      "state": {}
     },
     "5d9228af641f477a9ee33b680248becc": {
      "model_module": "@jupyter-widgets/controls",
      "model_module_version": "1.5.0",
      "model_name": "DescriptionStyleModel",
      "state": {
       "description_width": ""
      }
     },
     "5d9fa69d9bd34956958d535d15c88396": {
      "model_module": "@jupyter-widgets/controls",
      "model_module_version": "1.5.0",
      "model_name": "ButtonModel",
      "state": {
       "description": "Previous Page",
       "layout": "IPY_MODEL_1a427cabb73841bca9e67515186195a0",
       "style": "IPY_MODEL_2c5c1c74c1c1463488132766b1f18ff8"
      }
     },
     "5dc7e17429de4138b1870200902c4359": {
      "model_module": "@jupyter-widgets/controls",
      "model_module_version": "1.5.0",
      "model_name": "ComboboxModel",
      "state": {
       "description": "Enter Name:",
       "ensure_option": false,
       "layout": "IPY_MODEL_0db81f3ca45e479c9d4ce87a8c2b8bff",
       "placeholder": "Select new name",
       "style": "IPY_MODEL_9984292e963a48088504144c4b29332e"
      }
     },
     "5e25d46c78f04ef88aac8979de0d66e8": {
      "model_module": "@jupyter-widgets/base",
      "model_module_version": "1.2.0",
      "model_name": "LayoutModel",
      "state": {}
     },
     "5e563a457e3646a7ac7ca96e64c457ea": {
      "model_module": "@jupyter-widgets/base",
      "model_module_version": "1.2.0",
      "model_name": "LayoutModel",
      "state": {}
     },
     "5f25b97d27964c7f9822e0fdcc0db2e1": {
      "model_module": "@jupyter-widgets/controls",
      "model_module_version": "1.5.0",
      "model_name": "DescriptionStyleModel",
      "state": {
       "description_width": ""
      }
     },
     "5fdd731ac04842cc9fa52184749cd1b5": {
      "model_module": "@jupyter-widgets/base",
      "model_module_version": "1.2.0",
      "model_name": "LayoutModel",
      "state": {}
     },
     "60958c71b5684aebbe86f6d192a7a7df": {
      "model_module": "@jupyter-widgets/base",
      "model_module_version": "1.2.0",
      "model_name": "LayoutModel",
      "state": {}
     },
     "63a6177296f44f07ab38245931a24df4": {
      "model_module": "@jupyter-widgets/controls",
      "model_module_version": "1.5.0",
      "model_name": "DescriptionStyleModel",
      "state": {
       "description_width": ""
      }
     },
     "63d85d7f22084ead9c320b6423cc1a79": {
      "model_module": "@jupyter-widgets/base",
      "model_module_version": "1.2.0",
      "model_name": "LayoutModel",
      "state": {}
     },
     "668312d6cadb45e4aa6a2fcd107c845e": {
      "model_module": "@jupyter-widgets/output",
      "model_module_version": "1.0.0",
      "model_name": "OutputModel",
      "state": {
       "layout": "IPY_MODEL_6aa78fa72c0149968f5cdb221f157162"
      }
     },
     "68319347d7e44c53bb004f19e7ea19f7": {
      "model_module": "@jupyter-widgets/controls",
      "model_module_version": "1.5.0",
      "model_name": "ButtonModel",
      "state": {
       "description": "Download Results",
       "layout": "IPY_MODEL_5fdd731ac04842cc9fa52184749cd1b5",
       "style": "IPY_MODEL_9f8c185101f44c3180922f976409a890"
      }
     },
     "6a06935365d0453a8fd9c48fc49bb563": {
      "model_module": "@jupyter-widgets/controls",
      "model_module_version": "1.5.0",
      "model_name": "ButtonModel",
      "state": {
       "description": "Rename Job",
       "layout": "IPY_MODEL_8f47e61441204d98867b68874437c7ea",
       "style": "IPY_MODEL_7cecd5610d9c49d6bf4fb61ed69e7308"
      }
     },
     "6aa78fa72c0149968f5cdb221f157162": {
      "model_module": "@jupyter-widgets/base",
      "model_module_version": "1.2.0",
      "model_name": "LayoutModel",
      "state": {}
     },
     "6b6aa23dc97d463ab6b3c3f99613c0a0": {
      "model_module": "@jupyter-widgets/base",
      "model_module_version": "1.2.0",
      "model_name": "LayoutModel",
      "state": {}
     },
     "6d9796d655504a89841240c959500fa8": {
      "model_module": "@jupyter-widgets/output",
      "model_module_version": "1.0.0",
      "model_name": "OutputModel",
      "state": {
       "layout": "IPY_MODEL_5cd4da423cd146779a5574987395a8bb",
       "outputs": [
        {
         "data": {
          "application/vnd.jupyter.widget-view+json": {
           "model_id": "599a5cff06db461996cd7142389da290",
           "version_major": 2,
           "version_minor": 0
          },
          "text/plain": "Accordion(children=(HTML(value='<p>1. Press the stop button in the top bar of your Jupyter notebook <b>twice</…"
         },
         "metadata": {},
         "output_type": "display_data"
        }
       ]
      }
     },
     "6e813efe5b534fb0a7ab89bc782a522c": {
      "model_module": "@jupyter-widgets/controls",
      "model_module_version": "1.5.0",
      "model_name": "AccordionModel",
      "state": {
       "_titles": {
        "0": "Input Parameters"
       },
       "children": [
        "IPY_MODEL_0a6daf948f90426095b531213363d6b1"
       ],
       "layout": "IPY_MODEL_57b09a577b9340da990966750e1e7517",
       "selected_index": null
      }
     },
     "6e8e3119d4db45caac9eac776202e182": {
      "model_module": "@jupyter-widgets/controls",
      "model_module_version": "1.5.0",
      "model_name": "ButtonStyleModel",
      "state": {}
     },
     "6ff04dbc549b4ddcb8a6b258626bbbc5": {
      "model_module": "@jupyter-widgets/controls",
      "model_module_version": "1.5.0",
      "model_name": "ComboboxModel",
      "state": {
       "description": "Enter Name:",
       "ensure_option": false,
       "layout": "IPY_MODEL_d40d65efac874f8c8d90c315200cc80c",
       "placeholder": "Select new name",
       "style": "IPY_MODEL_5f25b97d27964c7f9822e0fdcc0db2e1"
      }
     },
     "71883f199a8e49f68b0dbb3eb829c36f": {
      "model_module": "@jupyter-widgets/base",
      "model_module_version": "1.2.0",
      "model_name": "LayoutModel",
      "state": {}
     },
     "74ed5b8b8d9b42cc8a3798159ec1dbf4": {
      "model_module": "@jupyter-widgets/base",
      "model_module_version": "1.2.0",
      "model_name": "LayoutModel",
      "state": {}
     },
     "757e19b563624805b1c5b3ff45a7cfd0": {
      "model_module": "@jupyter-widgets/controls",
      "model_module_version": "1.5.0",
      "model_name": "ButtonStyleModel",
      "state": {}
     },
     "75877e38da89460590185ddbcd800ef2": {
      "model_module": "@jupyter-widgets/controls",
      "model_module_version": "1.5.0",
      "model_name": "ComboboxModel",
      "state": {
       "description": "Enter Name:",
       "ensure_option": false,
       "layout": "IPY_MODEL_bc23b728a0094cc897ad44d09c16a297",
       "placeholder": "Select new name",
       "style": "IPY_MODEL_63a6177296f44f07ab38245931a24df4"
      }
     },
     "75e5a3af524f4079b4d3ca5db335b54c": {
      "model_module": "@jupyter-widgets/base",
      "model_module_version": "1.2.0",
      "model_name": "LayoutModel",
      "state": {}
     },
     "7693972b5aec435a8a5bbff876fcb7aa": {
      "model_module": "@jupyter-widgets/controls",
      "model_module_version": "1.5.0",
      "model_name": "ButtonModel",
      "state": {
       "description": "Download Results",
       "layout": "IPY_MODEL_fbcf3948e07841d881fc8d5d135fa4e8",
       "style": "IPY_MODEL_c6d688a20ea644f99731acb3225536e4"
      }
     },
     "769c2d5063d4448fabefc7aba44b7101": {
      "model_module": "@jupyter-widgets/controls",
      "model_module_version": "1.5.0",
      "model_name": "ButtonModel",
      "state": {
       "description": "Download",
       "disabled": true,
       "layout": "IPY_MODEL_10b1d2ac77034dc7b260499a4029642e",
       "style": "IPY_MODEL_13434c61673444339b82ba6c68d4b31a"
      }
     },
     "76b0189590c1481bb2a9e40302feebc5": {
      "model_module": "@jupyter-widgets/controls",
      "model_module_version": "1.5.0",
      "model_name": "ButtonModel",
      "state": {
       "description": "Load More",
       "layout": "IPY_MODEL_2fac1efd569443c9ba10fe972a2bcd50",
       "style": "IPY_MODEL_6e8e3119d4db45caac9eac776202e182"
      }
     },
     "77afbaa2b48f498b84c7cd7d793bfe69": {
      "model_module": "@jupyter-widgets/output",
      "model_module_version": "1.0.0",
      "model_name": "OutputModel",
      "state": {
       "layout": "IPY_MODEL_f09f978fd48947d7a0c9d8b5a25ee4d5",
       "outputs": [
        {
         "data": {
          "application/vnd.jupyter.widget-view+json": {
           "model_id": "23c38cce2d08471c902e9022f4ccd92f",
           "version_major": 2,
           "version_minor": 0
          },
          "text/plain": "HBox(children=(Checkbox(value=False, description='receive email on job status? ', style=DescriptionStyle(descr…"
         },
         "metadata": {},
         "output_type": "display_data"
        }
       ]
      }
     },
     "77c1f96bca5b408a95d3fe1b6abf7947": {
      "model_module": "@jupyter-widgets/controls",
      "model_module_version": "1.5.0",
      "model_name": "ButtonStyleModel",
      "state": {}
     },
     "783afd1f0cc2404e8d7140cfa9350574": {
      "model_module": "@jupyter-widgets/base",
      "model_module_version": "1.2.0",
      "model_name": "LayoutModel",
      "state": {}
     },
     "7896586928d64527a02bb6b181ab356d": {
      "model_module": "@jupyter-widgets/output",
      "model_module_version": "1.0.0",
      "model_name": "OutputModel",
      "state": {
       "layout": "IPY_MODEL_cfbe1a5e35bd4f68ab132eea69dcc770",
       "outputs": [
        {
         "data": {
          "text/markdown": "# 😴 No Job to Work On",
          "text/plain": "<IPython.core.display.Markdown object>"
         },
         "metadata": {},
         "output_type": "display_data"
        },
        {
         "data": {
          "text/markdown": "you need to submit your job first",
          "text/plain": "<IPython.core.display.Markdown object>"
         },
         "metadata": {},
         "output_type": "display_data"
        }
       ]
      }
     },
     "78cb89a0aab74e2fbe810628ef560d9f": {
      "model_module": "@jupyter-widgets/base",
      "model_module_version": "1.2.0",
      "model_name": "LayoutModel",
      "state": {}
     },
     "7bdc72641784483eb62f7ddfef4c41f5": {
      "model_module": "@jupyter-widgets/output",
      "model_module_version": "1.0.0",
      "model_name": "OutputModel",
      "state": {
       "layout": "IPY_MODEL_ed990c0775dd4f2d94cd7e166fb1fc5e",
       "outputs": [
        {
         "data": {
          "application/vnd.jupyter.widget-view+json": {
           "model_id": "76b0189590c1481bb2a9e40302feebc5",
           "version_major": 2,
           "version_minor": 0
          },
          "text/plain": "Button(description='Load More', style=ButtonStyle())"
         },
         "metadata": {},
         "output_type": "display_data"
        }
       ]
      }
     },
     "7cecd5610d9c49d6bf4fb61ed69e7308": {
      "model_module": "@jupyter-widgets/controls",
      "model_module_version": "1.5.0",
      "model_name": "ButtonStyleModel",
      "state": {}
     },
     "7e138af3a62e4d84afb4e905c9d81139": {
      "model_module": "@jupyter-widgets/controls",
      "model_module_version": "1.5.0",
      "model_name": "HBoxModel",
      "state": {
       "children": [
        "IPY_MODEL_e3218bf9cb4f42b3bda780f0d177a2d1",
        "IPY_MODEL_7ebcbcb69b2d4cb69efc3361facedcc6"
       ],
       "layout": "IPY_MODEL_47a67f66ae7845c8bb951d410892e698"
      }
     },
     "7ebcbcb69b2d4cb69efc3361facedcc6": {
      "model_module": "@jupyter-widgets/controls",
      "model_module_version": "1.5.0",
      "model_name": "TextModel",
      "state": {
       "layout": "IPY_MODEL_2e5904cdf14f4b76a2b2fea37f43a5d7",
       "placeholder": "Type job name here",
       "style": "IPY_MODEL_d451e58df9fd4d49b0876c66bbd79ea9"
      }
     },
     "80ca576925c84fd18c4f98a1a4a637b0": {
      "model_module": "@jupyter-widgets/base",
      "model_module_version": "1.2.0",
      "model_name": "LayoutModel",
      "state": {}
     },
     "81902fa0b9454ae6a9b64acc7e349fdf": {
      "model_module": "@jupyter-widgets/base",
      "model_module_version": "1.2.0",
      "model_name": "LayoutModel",
      "state": {}
     },
     "8521e3cd62e3497fb8490f24ef73248b": {
      "model_module": "@jupyter-widgets/output",
      "model_module_version": "1.0.0",
      "model_name": "OutputModel",
      "state": {
       "layout": "IPY_MODEL_71883f199a8e49f68b0dbb3eb829c36f",
       "outputs": [
        {
         "data": {
          "application/vnd.jupyter.widget-view+json": {
           "model_id": "060f55dab3324c1fb5f17214dec3ba54",
           "version_major": 2,
           "version_minor": 0
          },
          "text/plain": "Output()"
         },
         "metadata": {},
         "output_type": "display_data"
        }
       ]
      }
     },
     "855493b2588b4f069f86a0b88dfde758": {
      "model_module": "@jupyter-widgets/output",
      "model_module_version": "1.0.0",
      "model_name": "OutputModel",
      "state": {
       "layout": "IPY_MODEL_b9807f71f6df4b4f92931a79779a148a"
      }
     },
     "85633a52c2544785a4eadb084ea40143": {
      "model_module": "@jupyter-widgets/controls",
      "model_module_version": "1.5.0",
      "model_name": "ButtonModel",
      "state": {
       "description": "Restore",
       "layout": "IPY_MODEL_aa90471df409417e9e0573cc94e111fd",
       "style": "IPY_MODEL_3304bd3a6ba64348bf593c5ff78b28dc"
      }
     },
     "8684387bd09d469cb77bff90e66a87d2": {
      "model_module": "@jupyter-widgets/controls",
      "model_module_version": "1.5.0",
      "model_name": "ButtonStyleModel",
      "state": {}
     },
     "87aa8b883baf4c6a97e7c21ba6172d20": {
      "model_module": "@jupyter-widgets/controls",
      "model_module_version": "1.5.0",
      "model_name": "HBoxModel",
      "state": {
       "children": [
        "IPY_MODEL_188cbec6d3dd4f02adae8adf4a2c498e",
        "IPY_MODEL_9e7f4a6b6f434f1681b0976b55c284b7"
       ],
       "layout": "IPY_MODEL_f65525a7ff704f3bb09ccb3afa2fad50"
      }
     },
     "87e312e67fa34ed6a442549af5cfdf24": {
      "model_module": "@jupyter-widgets/base",
      "model_module_version": "1.2.0",
      "model_name": "LayoutModel",
      "state": {}
     },
     "893d648eb86c497391ca67957ad3100e": {
      "model_module": "@jupyter-widgets/output",
      "model_module_version": "1.0.0",
      "model_name": "OutputModel",
      "state": {
       "layout": "IPY_MODEL_5272ae1a8b224c8588f3edc82e7824bb",
       "outputs": [
        {
         "data": {
          "application/vnd.jupyter.widget-view+json": {
           "model_id": "fcb6868139cc4c778011aa4a83824325",
           "version_major": 2,
           "version_minor": 0
          },
          "text/plain": "Accordion(children=(VBox(children=(Label(value='All configs are optional. Please refer to Slurm official docum…"
         },
         "metadata": {},
         "output_type": "display_data"
        }
       ]
      }
     },
     "8a06f8bd9ead4bdf8a22738692ddd0aa": {
      "model_module": "@jupyter-widgets/base",
      "model_module_version": "1.2.0",
      "model_name": "LayoutModel",
      "state": {}
     },
     "8cdc7e56624c43488e44abf871a3c564": {
      "model_module": "@jupyter-widgets/base",
      "model_module_version": "1.2.0",
      "model_name": "LayoutModel",
      "state": {}
     },
     "8ce87af48e8943ca9f59eb261702899b": {
      "model_module": "@jupyter-widgets/controls",
      "model_module_version": "1.5.0",
      "model_name": "ButtonStyleModel",
      "state": {}
     },
     "8d2dd60f67da4e7ebf1e102738226c73": {
      "model_module": "@jupyter-widgets/base",
      "model_module_version": "1.2.0",
      "model_name": "LayoutModel",
      "state": {}
     },
     "8d45f100112f45fb84bb84ef02ce70fb": {
      "model_module": "@jupyter-widgets/controls",
      "model_module_version": "1.5.0",
      "model_name": "IntSliderModel",
      "state": {
       "continuous_update": false,
       "description": "input_a",
       "layout": "IPY_MODEL_cc4d3a7c1706481e9279545fcb551e6b",
       "step": 10,
       "style": "IPY_MODEL_cc38c985b81c41b6b5288638b11128fa",
       "value": 50
      }
     },
     "8df3b4df15e24687880b0487b3d3f207": {
      "model_module": "@jupyter-widgets/controls",
      "model_module_version": "1.5.0",
      "model_name": "DropdownModel",
      "state": {
       "_options_labels": [
        "ACESTest",
        "CUAHSI_Subsetter_Connector",
        "Customized_Resilience_Inference_Measurement_Framework",
        "DEM_Raster_Clipping_Processor",
        "DEM_Raster_Merging_Processor",
        "DEM_Raster_Reprojection_Processor",
        "Dam_Flood_Inundation_Map_Connector",
        "ERA5_Connector",
        "Extract_Inundation_Census_Tracts_Processor",
        "SimpleDataClean_Processor",
        "SimpleDataProc_Processor",
        "Subset_AORC_Forcing_Data_Processor",
        "WRFHydro_Postprocess",
        "Watershed_DEM_Raster_Connector",
        "covid-access",
        "data_fusion",
        "hello_world",
        "mpi-test",
        "population_vulnerable_to_dam_failure",
        "pysal-access",
        "summa3",
        "three-examples",
        "wrfhydro-5.x"
       ],
       "description": "📦 Job Templates:",
       "index": 16,
       "layout": "IPY_MODEL_cc4d3a7c1706481e9279545fcb551e6b",
       "style": "IPY_MODEL_e7b5f15f12174e1bbacc81dd03f5a308"
      }
     },
     "8e1864742f604e35815b675ff2907b25": {
      "model_module": "@jupyter-widgets/base",
      "model_module_version": "1.2.0",
      "model_name": "LayoutModel",
      "state": {}
     },
     "8ef5c50abfa44bfab63e7ff1b46c83fd": {
      "model_module": "@jupyter-widgets/controls",
      "model_module_version": "1.5.0",
      "model_name": "ButtonStyleModel",
      "state": {}
     },
     "8f47e61441204d98867b68874437c7ea": {
      "model_module": "@jupyter-widgets/base",
      "model_module_version": "1.2.0",
      "model_name": "LayoutModel",
      "state": {}
     },
     "8f7ba49e5b9e445da74ac9e81f096476": {
      "model_module": "@jupyter-widgets/base",
      "model_module_version": "1.2.0",
      "model_name": "LayoutModel",
      "state": {}
     },
     "93dbbe7da209440d9c0d37bc3b5a5ae9": {
      "model_module": "@jupyter-widgets/controls",
      "model_module_version": "1.5.0",
      "model_name": "HBoxModel",
      "state": {
       "children": [
        "IPY_MODEL_f050c9eeb3a4441ba7289b74b9ede0bd",
        "IPY_MODEL_e1af35a95fe24474aae35ca633c908e5"
       ],
       "layout": "IPY_MODEL_e463fbf9d63a4d1e81d47831f20ad2a7"
      }
     },
     "9691183b1c8c4c6f8041573b52e1fb47": {
      "model_module": "@jupyter-widgets/controls",
      "model_module_version": "1.5.0",
      "model_name": "ButtonModel",
      "state": {
       "description": "Restore",
       "layout": "IPY_MODEL_c204dce7fdb54ee8ada4dcc6fb25f7b9",
       "style": "IPY_MODEL_095edccb07db4f0ca0b7e58e9620adaf"
      }
     },
     "96b7e50796cf49c6addccc6d377d4a1d": {
      "model_module": "@jupyter-widgets/base",
      "model_module_version": "1.2.0",
      "model_name": "LayoutModel",
      "state": {}
     },
     "98be955c89f54188a6ded5e4d6905c9f": {
      "model_module": "@jupyter-widgets/controls",
      "model_module_version": "1.5.0",
      "model_name": "ButtonModel",
      "state": {
       "description": "Download Results",
       "layout": "IPY_MODEL_30df69e8fb6948c1a73093580bac0152",
       "style": "IPY_MODEL_fa56195f18dd450f99f49307b6184aa5"
      }
     },
     "990e94e3ab9843e5a35b25d52fe3b13e": {
      "model_module": "@jupyter-widgets/controls",
      "model_module_version": "1.5.0",
      "model_name": "HBoxModel",
      "state": {
       "children": [
        "IPY_MODEL_b108a51db81e41ed8d1931945f8a7ed0",
        "IPY_MODEL_5533acd58ee04bdbb3f82180ffc0a6ed"
       ],
       "layout": "IPY_MODEL_8a06f8bd9ead4bdf8a22738692ddd0aa"
      }
     },
     "994d0265d6a4464f8da1040271449d93": {
      "model_module": "@jupyter-widgets/base",
      "model_module_version": "1.2.0",
      "model_name": "LayoutModel",
      "state": {}
     },
     "997dd61b4ee542e998b76d6f0f79d51a": {
      "model_module": "@jupyter-widgets/output",
      "model_module_version": "1.0.0",
      "model_name": "OutputModel",
      "state": {
       "layout": "IPY_MODEL_52a4cafb4ae2404f837a92a7312fd501"
      }
     },
     "9984292e963a48088504144c4b29332e": {
      "model_module": "@jupyter-widgets/controls",
      "model_module_version": "1.5.0",
      "model_name": "DescriptionStyleModel",
      "state": {
       "description_width": ""
      }
     },
     "9ad52f5e4dec412e9a23dec24c00a4fc": {
      "model_module": "@jupyter-widgets/base",
      "model_module_version": "1.2.0",
      "model_name": "LayoutModel",
      "state": {}
     },
     "9c9ad725adf74a9191a00d490448a3f3": {
      "model_module": "@jupyter-widgets/output",
      "model_module_version": "1.0.0",
      "model_name": "OutputModel",
      "state": {
       "layout": "IPY_MODEL_4bdbde3b39fb4b0389f8d1c04fefc2cd",
       "outputs": [
        {
         "data": {
          "text/markdown": "**Recently Submitted Jobs for alexandermichels**",
          "text/plain": "<IPython.core.display.Markdown object>"
         },
         "metadata": {},
         "output_type": "display_data"
        },
        {
         "data": {
          "text/markdown": "| id | slurmId | hpc | remoteExecutableFolder | remoteDataFolder | remoteResultFolder | \n| --- | --- | --- | --- | --- | --- | \n| 1717082033srh2P | 9212277 | keeling_community | {'id': '171708203507ez5', 'name': None, 'hpc': 'keeling_community', 'hpcPath': '/data/keeling/a/cigi-gisolve/scratch/171708203507ez5', 'globusPath': '/171708203507ez5', 'userId': 'alexandermichels@cybergisx.cigi.illinois.edu', 'isWritable': False, 'createdAt': '2024-05-30T15:13:59.468Z', 'updatedAt': None, 'deletedAt': None} | {'id': '1717082039PVEs9', 'name': None, 'hpc': 'keeling_community', 'hpcPath': '/data/keeling/a/cigi-gisolve/scratch/1717082039PVEs9', 'globusPath': '/1717082039PVEs9', 'userId': 'alexandermichels@cybergisx.cigi.illinois.edu', 'isWritable': False, 'createdAt': '2024-05-30T15:14:35.936Z', 'updatedAt': None, 'deletedAt': None} | {'id': '1717082076238rS', 'name': None, 'hpc': 'keeling_community', 'hpcPath': '/data/keeling/a/cigi-gisolve/scratch/1717082076238rS', 'globusPath': '/1717082076238rS', 'userId': 'alexandermichels@cybergisx.cigi.illinois.edu', 'isWritable': False, 'createdAt': '2024-05-30T15:14:36.506Z', 'updatedAt': None, 'deletedAt': None} | ",
          "text/plain": "<IPython.core.display.Markdown object>"
         },
         "metadata": {},
         "output_type": "display_data"
        },
        {
         "data": {
          "text/markdown": "| param | slurm | userId | maintainer | createdAt | modelName | \n| --- | --- | --- | --- | --- | --- | \n| {\"name\": \"Your Name Here\"} | {\"time\": \"10:00\", \"num_of_task\": 1, \"cpu_per_task\": 1, \"memory\": \"4GB\"} | alexandermichels@cybergisx.cigi.illinois.edu | community_contribution | 2024-05-30T15:13:52.808Z | three-examples | ",
          "text/plain": "<IPython.core.display.Markdown object>"
         },
         "metadata": {},
         "output_type": "display_data"
        },
        {
         "data": {
          "application/vnd.jupyter.widget-view+json": {
           "model_id": "b33959b6e3064c3cb22d3d09d4f23f05",
           "version_major": 2,
           "version_minor": 0
          },
          "text/plain": "Button(description='Restore', style=ButtonStyle())"
         },
         "metadata": {},
         "output_type": "display_data"
        },
        {
         "data": {
          "text/markdown": "<br>",
          "text/plain": "<IPython.core.display.Markdown object>"
         },
         "metadata": {},
         "output_type": "display_data"
        },
        {
         "data": {
          "text/markdown": "| id | slurmId | hpc | remoteExecutableFolder | remoteDataFolder | remoteResultFolder | \n| --- | --- | --- | --- | --- | --- | \n| 171708148841QWk | 9212276 | keeling_community | {'id': '1717081492tdxhH', 'name': None, 'hpc': 'keeling_community', 'hpcPath': '/data/keeling/a/cigi-gisolve/scratch/1717081492tdxhH', 'globusPath': '/1717081492tdxhH', 'userId': 'alexandermichels@cybergisx.cigi.illinois.edu', 'isWritable': False, 'createdAt': '2024-05-30T15:04:56.437Z', 'updatedAt': None, 'deletedAt': None} | {'id': '1717081496rHyZr', 'name': None, 'hpc': 'keeling_community', 'hpcPath': '/data/keeling/a/cigi-gisolve/scratch/1717081496rHyZr', 'globusPath': '/1717081496rHyZr', 'userId': 'alexandermichels@cybergisx.cigi.illinois.edu', 'isWritable': False, 'createdAt': '2024-05-30T15:13:09.422Z', 'updatedAt': None, 'deletedAt': None} | {'id': '1717081989Cm0Ia', 'name': None, 'hpc': 'keeling_community', 'hpcPath': '/data/keeling/a/cigi-gisolve/scratch/1717081989Cm0Ia', 'globusPath': '/1717081989Cm0Ia', 'userId': 'alexandermichels@cybergisx.cigi.illinois.edu', 'isWritable': False, 'createdAt': '2024-05-30T15:13:10.015Z', 'updatedAt': None, 'deletedAt': None} | ",
          "text/plain": "<IPython.core.display.Markdown object>"
         },
         "metadata": {},
         "output_type": "display_data"
        },
        {
         "data": {
          "text/markdown": "| param | slurm | userId | maintainer | createdAt | modelName | \n| --- | --- | --- | --- | --- | --- | \n| {\"name\": \"Your Name Here\"} | {\"time\": \"10:00\", \"num_of_task\": 1, \"cpu_per_task\": 1, \"memory\": \"4GB\"} | alexandermichels@cybergisx.cigi.illinois.edu | community_contribution | 2024-05-30T15:04:48.313Z | three-examples | ",
          "text/plain": "<IPython.core.display.Markdown object>"
         },
         "metadata": {},
         "output_type": "display_data"
        },
        {
         "data": {
          "application/vnd.jupyter.widget-view+json": {
           "model_id": "ab711b2529fd4d6c937e5bb6b7d6d458",
           "version_major": 2,
           "version_minor": 0
          },
          "text/plain": "Button(description='Restore', style=ButtonStyle())"
         },
         "metadata": {},
         "output_type": "display_data"
        },
        {
         "data": {
          "text/markdown": "<br>",
          "text/plain": "<IPython.core.display.Markdown object>"
         },
         "metadata": {},
         "output_type": "display_data"
        },
        {
         "data": {
          "text/markdown": "| id | slurmId | hpc | remoteExecutableFolder | remoteDataFolder | remoteResultFolder | \n| --- | --- | --- | --- | --- | --- | \n| 1717080915akGEa | 9212273 | keeling_community | {'id': '1717080918hDGNP', 'name': None, 'hpc': 'keeling_community', 'hpcPath': '/data/keeling/a/cigi-gisolve/scratch/1717080918hDGNP', 'globusPath': '/1717080918hDGNP', 'userId': 'alexandermichels@cybergisx.cigi.illinois.edu', 'isWritable': False, 'createdAt': '2024-05-30T14:55:19.704Z', 'updatedAt': None, 'deletedAt': None} | None | {'id': '1717080920aeBBe', 'name': None, 'hpc': 'keeling_community', 'hpcPath': '/data/keeling/a/cigi-gisolve/scratch/1717080920aeBBe', 'globusPath': '/1717080920aeBBe', 'userId': 'alexandermichels@cybergisx.cigi.illinois.edu', 'isWritable': False, 'createdAt': '2024-05-30T14:55:20.164Z', 'updatedAt': None, 'deletedAt': None} | ",
          "text/plain": "<IPython.core.display.Markdown object>"
         },
         "metadata": {},
         "output_type": "display_data"
        },
        {
         "data": {
          "text/markdown": "| param | slurm | userId | maintainer | createdAt | modelName | \n| --- | --- | --- | --- | --- | --- | \n| {\"input_a\": 50, \"input_b\": \"foo\"} | {\"time\": \"10:00\", \"num_of_task\": 2, \"cpu_per_task\": 1} | alexandermichels@cybergisx.cigi.illinois.edu | community_contribution | 2024-05-30T14:55:14.529Z | hello_world | ",
          "text/plain": "<IPython.core.display.Markdown object>"
         },
         "metadata": {},
         "output_type": "display_data"
        },
        {
         "data": {
          "application/vnd.jupyter.widget-view+json": {
           "model_id": "f22e45d9257444e2945a5b3d616e739c",
           "version_major": 2,
           "version_minor": 0
          },
          "text/plain": "Button(description='Restore', style=ButtonStyle())"
         },
         "metadata": {},
         "output_type": "display_data"
        },
        {
         "data": {
          "text/markdown": "<br>",
          "text/plain": "<IPython.core.display.Markdown object>"
         },
         "metadata": {},
         "output_type": "display_data"
        },
        {
         "data": {
          "text/markdown": "| id | slurmId | hpc | remoteExecutableFolder | remoteDataFolder | remoteResultFolder | \n| --- | --- | --- | --- | --- | --- | \n| 1715357719PW8cx | 4961448 | keeling_community | {'id': '1715357723edTGq', 'name': None, 'hpc': 'keeling_community', 'hpcPath': '/data/keeling/a/cigi-gisolve/scratch/1715357723edTGq', 'globusPath': '/1715357723edTGq', 'userId': 'alexandermichels@cybergisx.cigi.illinois.edu', 'isWritable': False, 'createdAt': '2024-05-10T16:15:28.787Z', 'updatedAt': None, 'deletedAt': None} | None | {'id': '1715447522fyWS4', 'name': None, 'hpc': 'keeling_community', 'hpcPath': '/data/keeling/a/cigi-gisolve/scratch/1715447522fyWS4', 'globusPath': '/1715447522fyWS4', 'userId': 'alexandermichels@cybergisx.cigi.illinois.edu', 'isWritable': False, 'createdAt': '2024-05-11T17:12:05.676Z', 'updatedAt': None, 'deletedAt': None} | ",
          "text/plain": "<IPython.core.display.Markdown object>"
         },
         "metadata": {},
         "output_type": "display_data"
        },
        {
         "data": {
          "text/markdown": "| param | slurm | userId | maintainer | createdAt | modelName | \n| --- | --- | --- | --- | --- | --- | \n| {\"name\": \"Your Name Here\"} | {\"time\": \"10:00\", \"num_of_task\": 1, \"cpu_per_task\": 1, \"memory\": \"4GB\"} | alexandermichels@cybergisx.cigi.illinois.edu | community_contribution | 2024-05-10T16:15:18.917Z | three-examples | ",
          "text/plain": "<IPython.core.display.Markdown object>"
         },
         "metadata": {},
         "output_type": "display_data"
        },
        {
         "data": {
          "application/vnd.jupyter.widget-view+json": {
           "model_id": "85633a52c2544785a4eadb084ea40143",
           "version_major": 2,
           "version_minor": 0
          },
          "text/plain": "Button(description='Restore', style=ButtonStyle())"
         },
         "metadata": {},
         "output_type": "display_data"
        },
        {
         "data": {
          "text/markdown": "<br>",
          "text/plain": "<IPython.core.display.Markdown object>"
         },
         "metadata": {},
         "output_type": "display_data"
        },
        {
         "data": {
          "text/markdown": "| id | slurmId | hpc | remoteExecutableFolder | remoteDataFolder | remoteResultFolder | \n| --- | --- | --- | --- | --- | --- | \n| 17126826728ItUn | 4797856 | anvil_community | {'id': '1712682675l1kUv', 'name': None, 'hpc': 'anvil_community', 'hpcPath': '/anvil/scratch/x-cybergis/compute/1712682675l1kUv', 'globusPath': '/1712682675l1kUv', 'userId': 'alexandermichels@cybergisx.cigi.illinois.edu', 'isWritable': False, 'createdAt': '2024-04-09T17:11:17.225Z', 'updatedAt': None, 'deletedAt': None} | None | {'id': '1712682677MrXIP', 'name': None, 'hpc': 'anvil_community', 'hpcPath': '/anvil/scratch/x-cybergis/compute/1712682677MrXIP', 'globusPath': '/1712682677MrXIP', 'userId': 'alexandermichels@cybergisx.cigi.illinois.edu', 'isWritable': False, 'createdAt': '2024-04-09T17:11:17.730Z', 'updatedAt': None, 'deletedAt': None} | ",
          "text/plain": "<IPython.core.display.Markdown object>"
         },
         "metadata": {},
         "output_type": "display_data"
        },
        {
         "data": {
          "text/markdown": "| param | slurm | userId | maintainer | createdAt | modelName | \n| --- | --- | --- | --- | --- | --- | \n| {\"input_a\": 50, \"input_b\": \"foo\"} | {\"time\": \"10:00\", \"num_of_task\": 2, \"cpu_per_task\": 1} | alexandermichels@cybergisx.cigi.illinois.edu | community_contribution | 2024-04-09T17:11:12.091Z | hello_world | ",
          "text/plain": "<IPython.core.display.Markdown object>"
         },
         "metadata": {},
         "output_type": "display_data"
        },
        {
         "data": {
          "application/vnd.jupyter.widget-view+json": {
           "model_id": "9691183b1c8c4c6f8041573b52e1fb47",
           "version_major": 2,
           "version_minor": 0
          },
          "text/plain": "Button(description='Restore', style=ButtonStyle())"
         },
         "metadata": {},
         "output_type": "display_data"
        },
        {
         "data": {
          "text/markdown": "<br>",
          "text/plain": "<IPython.core.display.Markdown object>"
         },
         "metadata": {},
         "output_type": "display_data"
        }
       ]
      }
     },
     "9e7f4a6b6f434f1681b0976b55c284b7": {
      "model_module": "@jupyter-widgets/controls",
      "model_module_version": "1.5.0",
      "model_name": "ComboboxModel",
      "state": {
       "description": "Enter Name:",
       "ensure_option": false,
       "layout": "IPY_MODEL_00c38c1ff16749208f5f8377c6c592e1",
       "placeholder": "Select new name",
       "style": "IPY_MODEL_b42e53620a324b24ad95b688b8ea0e16"
      }
     },
     "9f8c185101f44c3180922f976409a890": {
      "model_module": "@jupyter-widgets/controls",
      "model_module_version": "1.5.0",
      "model_name": "ButtonStyleModel",
      "state": {}
     },
     "a4985d2281e54861b4bae1846f1d1766": {
      "model_module": "@jupyter-widgets/output",
      "model_module_version": "1.0.0",
      "model_name": "OutputModel",
      "state": {
       "layout": "IPY_MODEL_ef651c1dce1b45a6bb2258da8692d83b"
      }
     },
     "a49e5f60a6234dc1bd80847485c1327e": {
      "model_module": "@jupyter-widgets/base",
      "model_module_version": "1.2.0",
      "model_name": "LayoutModel",
      "state": {}
     },
     "a55ee3e876cc4762be18d225246c8d82": {
      "model_module": "@jupyter-widgets/output",
      "model_module_version": "1.0.0",
      "model_name": "OutputModel",
      "state": {
       "layout": "IPY_MODEL_030018cdb7734febadd04b0d1ebf1935"
      }
     },
     "a708e9ca21e44eaba0b28250bb5728ff": {
      "model_module": "@jupyter-widgets/controls",
      "model_module_version": "1.5.0",
      "model_name": "ButtonStyleModel",
      "state": {}
     },
     "a7af46c0c3ff44f89ee1d15f1098b24c": {
      "model_module": "@jupyter-widgets/output",
      "model_module_version": "1.0.0",
      "model_name": "OutputModel",
      "state": {
       "layout": "IPY_MODEL_57861da87626405f98fc349cb7d0b495"
      }
     },
     "aa78b71212f2438c81705ff94ea69990": {
      "model_module": "@jupyter-widgets/controls",
      "model_module_version": "1.5.0",
      "model_name": "ButtonStyleModel",
      "state": {}
     },
     "aa90471df409417e9e0573cc94e111fd": {
      "model_module": "@jupyter-widgets/base",
      "model_module_version": "1.2.0",
      "model_name": "LayoutModel",
      "state": {}
     },
     "aa91e2f111c544a782c96956cb7e5495": {
      "model_module": "@jupyter-widgets/controls",
      "model_module_version": "1.5.0",
      "model_name": "ButtonModel",
      "state": {
       "description": "Download Results",
       "layout": "IPY_MODEL_60958c71b5684aebbe86f6d192a7a7df",
       "style": "IPY_MODEL_a708e9ca21e44eaba0b28250bb5728ff"
      }
     },
     "ab711b2529fd4d6c937e5bb6b7d6d458": {
      "model_module": "@jupyter-widgets/controls",
      "model_module_version": "1.5.0",
      "model_name": "ButtonModel",
      "state": {
       "description": "Restore",
       "layout": "IPY_MODEL_53e286916adf46dc888162566c7c8280",
       "style": "IPY_MODEL_0bb9c54a34104230ad233f6a6b5761ec"
      }
     },
     "ac9fbd4857324c50b976dc9d806e87b4": {
      "model_module": "@jupyter-widgets/base",
      "model_module_version": "1.2.0",
      "model_name": "LayoutModel",
      "state": {}
     },
     "adca86f528ce49a5939430f701a15ffe": {
      "model_module": "@jupyter-widgets/controls",
      "model_module_version": "1.5.0",
      "model_name": "ButtonStyleModel",
      "state": {}
     },
     "add3915d9f0d49348dcab0e6c0a9ae71": {
      "model_module": "@jupyter-widgets/base",
      "model_module_version": "1.2.0",
      "model_name": "LayoutModel",
      "state": {}
     },
     "ae53a0252c954d11aac381cd8b2e1bb0": {
      "model_module": "@jupyter-widgets/controls",
      "model_module_version": "1.5.0",
      "model_name": "ButtonModel",
      "state": {
       "description": "Rename Job",
       "layout": "IPY_MODEL_3c7e2b2edb5146b19a4649bdf8bd5421",
       "style": "IPY_MODEL_b90125e8b5d54c71a1ec0fa145907dde"
      }
     },
     "b108a51db81e41ed8d1931945f8a7ed0": {
      "model_module": "@jupyter-widgets/controls",
      "model_module_version": "1.5.0",
      "model_name": "ButtonModel",
      "state": {
       "description": "Rename Job",
       "layout": "IPY_MODEL_fcee2f15b06946f596bb39aacb16f6ef",
       "style": "IPY_MODEL_36dcb453c0ab4a7c90fa96a80218f278"
      }
     },
     "b285f95909294ac7a85b3b8568b54cbb": {
      "model_module": "@jupyter-widgets/controls",
      "model_module_version": "1.5.0",
      "model_name": "TextModel",
      "state": {
       "layout": "IPY_MODEL_faa3d28b13b24f92aaa5120bef8760d1",
       "placeholder": "example@illinois.edu",
       "style": "IPY_MODEL_d80b43d7af1e4fb48fc70f178936312e"
      }
     },
     "b33959b6e3064c3cb22d3d09d4f23f05": {
      "model_module": "@jupyter-widgets/controls",
      "model_module_version": "1.5.0",
      "model_name": "ButtonModel",
      "state": {
       "description": "Restore",
       "layout": "IPY_MODEL_6b6aa23dc97d463ab6b3c3f99613c0a0",
       "style": "IPY_MODEL_77c1f96bca5b408a95d3fe1b6abf7947"
      }
     },
     "b366b06e2c0b4dbcbd6d64cff025fdeb": {
      "model_module": "@jupyter-widgets/base",
      "model_module_version": "1.2.0",
      "model_name": "LayoutModel",
      "state": {}
     },
     "b42e53620a324b24ad95b688b8ea0e16": {
      "model_module": "@jupyter-widgets/controls",
      "model_module_version": "1.5.0",
      "model_name": "DescriptionStyleModel",
      "state": {
       "description_width": ""
      }
     },
     "b45e834316744d35bef00968445438cb": {
      "model_module": "@jupyter-widgets/controls",
      "model_module_version": "1.5.0",
      "model_name": "ButtonStyleModel",
      "state": {}
     },
     "b4e19d02b82441c283ed16803efe7f5f": {
      "model_module": "@jupyter-widgets/controls",
      "model_module_version": "1.5.0",
      "model_name": "DropdownModel",
      "state": {
       "_options_labels": [
        "aces_community",
        "anvil_community",
        "expanse_community",
        "keeling_community"
       ],
       "description": "🖥 Computing Resource:",
       "index": 3,
       "layout": "IPY_MODEL_cc4d3a7c1706481e9279545fcb551e6b",
       "style": "IPY_MODEL_3af991e807c5406b99a2d7cfcfeb7f2c"
      }
     },
     "b5b4cbb13d4e4956858dc97b23292c30": {
      "model_module": "@jupyter-widgets/controls",
      "model_module_version": "1.5.0",
      "model_name": "ComboboxModel",
      "state": {
       "description": "Enter Name:",
       "ensure_option": false,
       "layout": "IPY_MODEL_3eb8ab6a012f4d37a051621ac4bc920c",
       "placeholder": "Select new name",
       "style": "IPY_MODEL_55b831e99d844001a13f74c8ad05ee6f"
      }
     },
     "b7aa7185180342f6b6d4f07cfb51d9dc": {
      "model_module": "@jupyter-widgets/base",
      "model_module_version": "1.2.0",
      "model_name": "LayoutModel",
      "state": {}
     },
     "b90125e8b5d54c71a1ec0fa145907dde": {
      "model_module": "@jupyter-widgets/controls",
      "model_module_version": "1.5.0",
      "model_name": "ButtonStyleModel",
      "state": {}
     },
     "b9807f71f6df4b4f92931a79779a148a": {
      "model_module": "@jupyter-widgets/base",
      "model_module_version": "1.2.0",
      "model_name": "LayoutModel",
      "state": {}
     },
     "bac3ea722c484b7a88aac61f131984db": {
      "model_module": "@jupyter-widgets/output",
      "model_module_version": "1.0.0",
      "model_name": "OutputModel",
      "state": {
       "layout": "IPY_MODEL_783afd1f0cc2404e8d7140cfa9350574",
       "outputs": [
        {
         "data": {
          "text/markdown": "# ⏳ Waiting for Job to Finish...",
          "text/plain": "<IPython.core.display.Markdown object>"
         },
         "metadata": {},
         "output_type": "display_data"
        },
        {
         "data": {
          "application/vnd.jupyter.widget-view+json": {
           "model_id": "769c2d5063d4448fabefc7aba44b7101",
           "version_major": 2,
           "version_minor": 0
          },
          "text/plain": "Button(description='Download', disabled=True, style=ButtonStyle())"
         },
         "metadata": {},
         "output_type": "display_data"
        }
       ]
      }
     },
     "bc23b728a0094cc897ad44d09c16a297": {
      "model_module": "@jupyter-widgets/base",
      "model_module_version": "1.2.0",
      "model_name": "LayoutModel",
      "state": {}
     },
     "bc5927e31d014bc18289dc9176ab7920": {
      "model_module": "@jupyter-widgets/base",
      "model_module_version": "1.2.0",
      "model_name": "LayoutModel",
      "state": {}
     },
     "bd7472d097874ec98b18856f4b6d1443": {
      "model_module": "@jupyter-widgets/controls",
      "model_module_version": "1.5.0",
      "model_name": "DescriptionStyleModel",
      "state": {
       "description_width": ""
      }
     },
     "be239b0db0834a5082069c54120b4f43": {
      "model_module": "@jupyter-widgets/controls",
      "model_module_version": "1.5.0",
      "model_name": "AccordionModel",
      "state": {
       "_titles": {
        "0": "Computing Resource"
       },
       "children": [
        "IPY_MODEL_b4e19d02b82441c283ed16803efe7f5f"
       ],
       "layout": "IPY_MODEL_b366b06e2c0b4dbcbd6d64cff025fdeb",
       "selected_index": null
      }
     },
     "c02608dccb3748f4bdc0499c0ac5d22d": {
      "model_module": "@jupyter-widgets/base",
      "model_module_version": "1.2.0",
      "model_name": "LayoutModel",
      "state": {}
     },
     "c0925ced37444660a414885576ace2f9": {
      "model_module": "@jupyter-widgets/controls",
      "model_module_version": "1.5.0",
      "model_name": "ButtonStyleModel",
      "state": {}
     },
     "c14a2f560ee3469eb1bac0955ed0c6f8": {
      "model_module": "@jupyter-widgets/controls",
      "model_module_version": "1.5.0",
      "model_name": "HBoxModel",
      "state": {
       "children": [
        "IPY_MODEL_34183e9e82244b1ebbe1822066ec1a97",
        "IPY_MODEL_d922c302d50c47b4914107ee5c231182"
       ],
       "layout": "IPY_MODEL_8f7ba49e5b9e445da74ac9e81f096476"
      }
     },
     "c204dce7fdb54ee8ada4dcc6fb25f7b9": {
      "model_module": "@jupyter-widgets/base",
      "model_module_version": "1.2.0",
      "model_name": "LayoutModel",
      "state": {}
     },
     "c355d599b69a449685b274a35ec1b5a0": {
      "model_module": "@jupyter-widgets/controls",
      "model_module_version": "1.5.0",
      "model_name": "VBoxModel",
      "state": {
       "children": [
        "IPY_MODEL_457a03b2d2fa4bac9cde2129fe500f10",
        "IPY_MODEL_f77298d993f843e98713b04724d517d3"
       ],
       "layout": "IPY_MODEL_63d85d7f22084ead9c320b6423cc1a79"
      }
     },
     "c4d9dc3057c74e0b95cdc5fb46352233": {
      "model_module": "@jupyter-widgets/controls",
      "model_module_version": "1.5.0",
      "model_name": "DescriptionStyleModel",
      "state": {
       "description_width": ""
      }
     },
     "c5519c5b45a844b3b5d3e394018bfb3a": {
      "model_module": "@jupyter-widgets/controls",
      "model_module_version": "1.5.0",
      "model_name": "DescriptionStyleModel",
      "state": {
       "description_width": ""
      }
     },
     "c6417fa4dd5847598f52034c984fc5a4": {
      "model_module": "@jupyter-widgets/controls",
      "model_module_version": "1.5.0",
      "model_name": "ButtonStyleModel",
      "state": {}
     },
     "c676e5aba9e04fada7cd1dabb2846ad1": {
      "model_module": "@jupyter-widgets/controls",
      "model_module_version": "1.5.0",
      "model_name": "ButtonModel",
      "state": {
       "description": "Download Results",
       "layout": "IPY_MODEL_fcaebd073b51496e83f9617b05ee22dc",
       "style": "IPY_MODEL_d53d5e742b5d4ad4ae5755265bbb5001"
      }
     },
     "c6d688a20ea644f99731acb3225536e4": {
      "model_module": "@jupyter-widgets/controls",
      "model_module_version": "1.5.0",
      "model_name": "ButtonStyleModel",
      "state": {}
     },
     "c786d6eb46ad47a49cb74e98acc8399f": {
      "model_module": "@jupyter-widgets/controls",
      "model_module_version": "1.5.0",
      "model_name": "ButtonModel",
      "state": {
       "description": "Download Results",
       "layout": "IPY_MODEL_96b7e50796cf49c6addccc6d377d4a1d",
       "style": "IPY_MODEL_c0925ced37444660a414885576ace2f9"
      }
     },
     "c9cfe23aedd947918d73627776a5ab9f": {
      "model_module": "@jupyter-widgets/controls",
      "model_module_version": "1.5.0",
      "model_name": "ButtonModel",
      "state": {
       "description": "Rename Job",
       "layout": "IPY_MODEL_46e7ebb0a1e7411ba85563bb7705814d",
       "style": "IPY_MODEL_8ef5c50abfa44bfab63e7ff1b46c83fd"
      }
     },
     "ca930ee96ca044e48e0fde23da8e11b1": {
      "model_module": "@jupyter-widgets/base",
      "model_module_version": "1.2.0",
      "model_name": "LayoutModel",
      "state": {}
     },
     "cb8f9a29bc784304b83eaf84a2fba5be": {
      "model_module": "@jupyter-widgets/base",
      "model_module_version": "1.2.0",
      "model_name": "LayoutModel",
      "state": {}
     },
     "cc38c985b81c41b6b5288638b11128fa": {
      "model_module": "@jupyter-widgets/controls",
      "model_module_version": "1.5.0",
      "model_name": "SliderStyleModel",
      "state": {
       "description_width": "auto"
      }
     },
     "cc4d3a7c1706481e9279545fcb551e6b": {
      "model_module": "@jupyter-widgets/base",
      "model_module_version": "1.2.0",
      "model_name": "LayoutModel",
      "state": {
       "width": "60%"
      }
     },
     "cc99fe57f8de45bdb5369bb91f0e7abd": {
      "model_module": "@jupyter-widgets/controls",
      "model_module_version": "1.5.0",
      "model_name": "ButtonStyleModel",
      "state": {}
     },
     "ccd2dfa818854821b328024055793eda": {
      "model_module": "@jupyter-widgets/output",
      "model_module_version": "1.0.0",
      "model_name": "OutputModel",
      "state": {
       "layout": "IPY_MODEL_2778ced401214e6dbd0a7c2e37e43801",
       "outputs": [
        {
         "data": {
          "application/vnd.jupyter.widget-view+json": {
           "model_id": "7896586928d64527a02bb6b181ab356d",
           "version_major": 2,
           "version_minor": 0
          },
          "text/plain": "Output()"
         },
         "metadata": {},
         "output_type": "display_data"
        },
        {
         "data": {
          "application/vnd.jupyter.widget-view+json": {
           "model_id": "6d9796d655504a89841240c959500fa8",
           "version_major": 2,
           "version_minor": 0
          },
          "text/plain": "Output()"
         },
         "metadata": {},
         "output_type": "display_data"
        },
        {
         "data": {
          "text/markdown": "***",
          "text/plain": "<IPython.core.display.Markdown object>"
         },
         "metadata": {},
         "output_type": "display_data"
        },
        {
         "data": {
          "text/markdown": "## 📋 job events (live refresh)",
          "text/plain": "<IPython.core.display.Markdown object>"
         },
         "metadata": {},
         "output_type": "display_data"
        },
        {
         "data": {
          "application/vnd.jupyter.widget-view+json": {
           "model_id": "a55ee3e876cc4762be18d225246c8d82",
           "version_major": 2,
           "version_minor": 0
          },
          "text/plain": "Output()"
         },
         "metadata": {},
         "output_type": "display_data"
        },
        {
         "data": {
          "text/markdown": "***",
          "text/plain": "<IPython.core.display.Markdown object>"
         },
         "metadata": {},
         "output_type": "display_data"
        },
        {
         "data": {
          "text/markdown": "## 📋 job logs",
          "text/plain": "<IPython.core.display.Markdown object>"
         },
         "metadata": {},
         "output_type": "display_data"
        },
        {
         "data": {
          "application/vnd.jupyter.widget-view+json": {
           "model_id": "855493b2588b4f069f86a0b88dfde758",
           "version_major": 2,
           "version_minor": 0
          },
          "text/plain": "Output()"
         },
         "metadata": {},
         "output_type": "display_data"
        },
        {
         "data": {
          "text/markdown": "***",
          "text/plain": "<IPython.core.display.Markdown object>"
         },
         "metadata": {},
         "output_type": "display_data"
        }
       ]
      }
     },
     "cddd632ffbcf48289e1e71801aa6fa6d": {
      "model_module": "@jupyter-widgets/controls",
      "model_module_version": "1.5.0",
      "model_name": "DescriptionStyleModel",
      "state": {
       "description_width": "auto"
      }
     },
     "cf714e6e88bc4887bfbd8a13bcb88ec3": {
      "model_module": "@jupyter-widgets/base",
      "model_module_version": "1.2.0",
      "model_name": "LayoutModel",
      "state": {}
     },
     "cfbe1a5e35bd4f68ab132eea69dcc770": {
      "model_module": "@jupyter-widgets/base",
      "model_module_version": "1.2.0",
      "model_name": "LayoutModel",
      "state": {}
     },
     "d0151d9bfb004cc7a30a2cdbd3485ad0": {
      "model_module": "@jupyter-widgets/output",
      "model_module_version": "1.0.0",
      "model_name": "OutputModel",
      "state": {
       "layout": "IPY_MODEL_140fd9ab9c874df0a79a54f031c72f42",
       "outputs": [
        {
         "data": {
          "application/vnd.jupyter.widget-view+json": {
           "model_id": "a7af46c0c3ff44f89ee1d15f1098b24c",
           "version_major": 2,
           "version_minor": 0
          },
          "text/plain": "Output()"
         },
         "metadata": {},
         "output_type": "display_data"
        },
        {
         "data": {
          "application/vnd.jupyter.widget-view+json": {
           "model_id": "da9a7dc1f9e6451c9fef712b1cec4eeb",
           "version_major": 2,
           "version_minor": 0
          },
          "text/plain": "Button(description='Submit Job', style=ButtonStyle())"
         },
         "metadata": {},
         "output_type": "display_data"
        }
       ]
      }
     },
     "d055b5c2230845f29a626f5e8c54e76e": {
      "model_module": "@jupyter-widgets/controls",
      "model_module_version": "1.5.0",
      "model_name": "HBoxModel",
      "state": {
       "children": [
        "IPY_MODEL_5d9fa69d9bd34956958d535d15c88396",
        "IPY_MODEL_3d77dba55e2c4a20ace2388b1822631b"
       ],
       "layout": "IPY_MODEL_5c02a4842e3542c79eca1be40af3c7c2"
      }
     },
     "d11728c82f584c569bedd4163ed4e80d": {
      "model_module": "@jupyter-widgets/controls",
      "model_module_version": "1.5.0",
      "model_name": "DescriptionStyleModel",
      "state": {
       "description_width": ""
      }
     },
     "d195974ea3374a4eb7d035f32ddbdb49": {
      "model_module": "@jupyter-widgets/output",
      "model_module_version": "1.0.0",
      "model_name": "OutputModel",
      "state": {
       "layout": "IPY_MODEL_994d0265d6a4464f8da1040271449d93"
      }
     },
     "d2b4aa569052498facc03604f52a0125": {
      "model_module": "@jupyter-widgets/base",
      "model_module_version": "1.2.0",
      "model_name": "LayoutModel",
      "state": {}
     },
     "d40d65efac874f8c8d90c315200cc80c": {
      "model_module": "@jupyter-widgets/base",
      "model_module_version": "1.2.0",
      "model_name": "LayoutModel",
      "state": {}
     },
     "d451e58df9fd4d49b0876c66bbd79ea9": {
      "model_module": "@jupyter-widgets/controls",
      "model_module_version": "1.5.0",
      "model_name": "DescriptionStyleModel",
      "state": {
       "description_width": "auto"
      }
     },
     "d53d5e742b5d4ad4ae5755265bbb5001": {
      "model_module": "@jupyter-widgets/controls",
      "model_module_version": "1.5.0",
      "model_name": "ButtonStyleModel",
      "state": {}
     },
     "d7593df25c1a4d7891cb691ae5172abc": {
      "model_module": "@jupyter-widgets/controls",
      "model_module_version": "1.5.0",
      "model_name": "ButtonModel",
      "state": {
       "description": "Rename Job",
       "layout": "IPY_MODEL_1ba441b217d043cca4aed1273c1d9c81",
       "style": "IPY_MODEL_757e19b563624805b1c5b3ff45a7cfd0"
      }
     },
     "d80b43d7af1e4fb48fc70f178936312e": {
      "model_module": "@jupyter-widgets/controls",
      "model_module_version": "1.5.0",
      "model_name": "DescriptionStyleModel",
      "state": {
       "description_width": "auto"
      }
     },
     "d8292636bbc543d8812b15e131e12783": {
      "model_module": "@jupyter-widgets/controls",
      "model_module_version": "1.5.0",
      "model_name": "ButtonStyleModel",
      "state": {}
     },
     "d922c302d50c47b4914107ee5c231182": {
      "model_module": "@jupyter-widgets/controls",
      "model_module_version": "1.5.0",
      "model_name": "ComboboxModel",
      "state": {
       "description": "Enter Name:",
       "ensure_option": false,
       "layout": "IPY_MODEL_15b58c0e86d44c93b1cea8955d69e3a5",
       "placeholder": "Select new name",
       "style": "IPY_MODEL_d11728c82f584c569bedd4163ed4e80d"
      }
     },
     "da9a7dc1f9e6451c9fef712b1cec4eeb": {
      "model_module": "@jupyter-widgets/controls",
      "model_module_version": "1.5.0",
      "model_name": "ButtonModel",
      "state": {
       "description": "Submit Job",
       "layout": "IPY_MODEL_cb8f9a29bc784304b83eaf84a2fba5be",
       "style": "IPY_MODEL_c6417fa4dd5847598f52034c984fc5a4"
      }
     },
     "dca0ba646e324a38b8c2b47b06251801": {
      "model_module": "@jupyter-widgets/controls",
      "model_module_version": "1.5.0",
      "model_name": "SliderStyleModel",
      "state": {
       "description_width": "auto"
      }
     },
     "de5d6ef45cf64adcae8d37e8516cbf31": {
      "model_module": "@jupyter-widgets/controls",
      "model_module_version": "1.5.0",
      "model_name": "DescriptionStyleModel",
      "state": {
       "description_width": ""
      }
     },
     "e18672140e674545b7d7e4daa9b02eb7": {
      "model_module": "@jupyter-widgets/controls",
      "model_module_version": "1.5.0",
      "model_name": "ButtonModel",
      "state": {
       "description": "Rename Job",
       "layout": "IPY_MODEL_5e563a457e3646a7ac7ca96e64c457ea",
       "style": "IPY_MODEL_d8292636bbc543d8812b15e131e12783"
      }
     },
     "e1af35a95fe24474aae35ca633c908e5": {
      "model_module": "@jupyter-widgets/controls",
      "model_module_version": "1.5.0",
      "model_name": "ComboboxModel",
      "state": {
       "description": "Enter Name:",
       "ensure_option": false,
       "layout": "IPY_MODEL_f8447080d3374b88b6ad7a25a5b7bf37",
       "placeholder": "Select new name",
       "style": "IPY_MODEL_bd7472d097874ec98b18856f4b6d1443"
      }
     },
     "e3218bf9cb4f42b3bda780f0d177a2d1": {
      "model_module": "@jupyter-widgets/controls",
      "model_module_version": "1.5.0",
      "model_name": "CheckboxModel",
      "state": {
       "description": "Set a name for this job? ",
       "disabled": false,
       "layout": "IPY_MODEL_3aa4abc9c3ba4c43b40b007a4a758a02",
       "style": "IPY_MODEL_266039af06314b01bd504809e6009169",
       "value": false
      }
     },
     "e463fbf9d63a4d1e81d47831f20ad2a7": {
      "model_module": "@jupyter-widgets/base",
      "model_module_version": "1.2.0",
      "model_name": "LayoutModel",
      "state": {}
     },
     "e4918abb389d4014b5f1164008cf2447": {
      "model_module": "@jupyter-widgets/controls",
      "model_module_version": "1.5.0",
      "model_name": "ButtonStyleModel",
      "state": {}
     },
     "e5f7906e70f94ed685e4d8f465c8ddec": {
      "model_module": "@jupyter-widgets/output",
      "model_module_version": "1.0.0",
      "model_name": "OutputModel",
      "state": {
       "layout": "IPY_MODEL_2e69de28449d40cf8178bcfa91053835",
       "outputs": [
        {
         "data": {
          "text/markdown": "**hello_world Job Description:** none",
          "text/plain": "<IPython.core.display.Markdown object>"
         },
         "metadata": {},
         "output_type": "display_data"
        },
        {
         "data": {
          "text/markdown": "**keeling_community HPC Description**: none",
          "text/plain": "<IPython.core.display.Markdown object>"
         },
         "metadata": {},
         "output_type": "display_data"
        },
        {
         "data": {
          "text/markdown": "**Estimated Runtime:** unknown",
          "text/plain": "<IPython.core.display.Markdown object>"
         },
         "metadata": {},
         "output_type": "display_data"
        }
       ]
      }
     },
     "e60ba10fefc34983a556e6dc1ddfdc99": {
      "model_module": "@jupyter-widgets/controls",
      "model_module_version": "1.5.0",
      "model_name": "IntSliderModel",
      "state": {
       "continuous_update": false,
       "description": "time (Minutes)",
       "layout": "IPY_MODEL_cc4d3a7c1706481e9279545fcb551e6b",
       "max": 50,
       "min": 10,
       "style": "IPY_MODEL_dca0ba646e324a38b8c2b47b06251801",
       "value": 10
      }
     },
     "e66d2837f93f4784853565ae11d1ac02": {
      "model_module": "@jupyter-widgets/controls",
      "model_module_version": "1.5.0",
      "model_name": "HBoxModel",
      "state": {
       "children": [
        "IPY_MODEL_ae53a0252c954d11aac381cd8b2e1bb0",
        "IPY_MODEL_b5b4cbb13d4e4956858dc97b23292c30"
       ],
       "layout": "IPY_MODEL_ffa0923bf89645d4baab03729c4b4a8a"
      }
     },
     "e7b5f15f12174e1bbacc81dd03f5a308": {
      "model_module": "@jupyter-widgets/controls",
      "model_module_version": "1.5.0",
      "model_name": "DescriptionStyleModel",
      "state": {
       "description_width": "auto"
      }
     },
     "e8ee6c0c8155418fb2989647ce4efbd9": {
      "model_module": "@jupyter-widgets/controls",
      "model_module_version": "1.5.0",
      "model_name": "SliderStyleModel",
      "state": {
       "description_width": "auto"
      }
     },
     "ea416f0e022b4dd5b7d3b47ed9c3d3e3": {
      "model_module": "@jupyter-widgets/controls",
      "model_module_version": "1.5.0",
      "model_name": "ButtonStyleModel",
      "state": {}
     },
     "ecd9efae033e41c0b9cf90b25354f24d": {
      "model_module": "@jupyter-widgets/base",
      "model_module_version": "1.2.0",
      "model_name": "LayoutModel",
      "state": {}
     },
     "ed21b79d313949809f11e72f18eab369": {
      "model_module": "@jupyter-widgets/controls",
      "model_module_version": "1.5.0",
      "model_name": "TabModel",
      "state": {
       "_titles": {
        "0": "Job Configuration",
        "1": "Your Job Status",
        "2": "Download Job Result",
        "3": "Your Jobs",
        "4": "Past Results"
       },
       "children": [
        "IPY_MODEL_2c2c8d0e3746445cb7c00956e53bd78e",
        "IPY_MODEL_ccd2dfa818854821b328024055793eda",
        "IPY_MODEL_1d32629dbd0141398f47d212b19927ee",
        "IPY_MODEL_3b9ed5f75bfa46a486e2f8bda5574995",
        "IPY_MODEL_8521e3cd62e3497fb8490f24ef73248b"
       ],
       "layout": "IPY_MODEL_0131fb0dc69241918b02382c5a359ebd"
      }
     },
     "ed990c0775dd4f2d94cd7e166fb1fc5e": {
      "model_module": "@jupyter-widgets/base",
      "model_module_version": "1.2.0",
      "model_name": "LayoutModel",
      "state": {}
     },
     "ef444e83fda448a7b7d2aee5b4618da6": {
      "model_module": "@jupyter-widgets/controls",
      "model_module_version": "1.5.0",
      "model_name": "DescriptionStyleModel",
      "state": {
       "description_width": "auto"
      }
     },
     "ef651c1dce1b45a6bb2258da8692d83b": {
      "model_module": "@jupyter-widgets/base",
      "model_module_version": "1.2.0",
      "model_name": "LayoutModel",
      "state": {}
     },
     "f050c9eeb3a4441ba7289b74b9ede0bd": {
      "model_module": "@jupyter-widgets/controls",
      "model_module_version": "1.5.0",
      "model_name": "ButtonModel",
      "state": {
       "description": "Rename Job",
       "layout": "IPY_MODEL_53f4ab1f4a3e44fd96879b7016e13378",
       "style": "IPY_MODEL_adca86f528ce49a5939430f701a15ffe"
      }
     },
     "f09f978fd48947d7a0c9d8b5a25ee4d5": {
      "model_module": "@jupyter-widgets/base",
      "model_module_version": "1.2.0",
      "model_name": "LayoutModel",
      "state": {}
     },
     "f14bb29822f34af7b773201a50b6e096": {
      "model_module": "@jupyter-widgets/controls",
      "model_module_version": "1.5.0",
      "model_name": "ButtonModel",
      "state": {
       "description": "Rename Job",
       "layout": "IPY_MODEL_f334079fbe5540f3925ae0bc7a2cfdfa",
       "style": "IPY_MODEL_e4918abb389d4014b5f1164008cf2447"
      }
     },
     "f16ecbe9ed3f49139900b8f861ddeff4": {
      "model_module": "@jupyter-widgets/base",
      "model_module_version": "1.2.0",
      "model_name": "LayoutModel",
      "state": {}
     },
     "f22e45d9257444e2945a5b3d616e739c": {
      "model_module": "@jupyter-widgets/controls",
      "model_module_version": "1.5.0",
      "model_name": "ButtonModel",
      "state": {
       "description": "Restore",
       "layout": "IPY_MODEL_75e5a3af524f4079b4d3ca5db335b54c",
       "style": "IPY_MODEL_ea416f0e022b4dd5b7d3b47ed9c3d3e3"
      }
     },
     "f334079fbe5540f3925ae0bc7a2cfdfa": {
      "model_module": "@jupyter-widgets/base",
      "model_module_version": "1.2.0",
      "model_name": "LayoutModel",
      "state": {}
     },
     "f65525a7ff704f3bb09ccb3afa2fad50": {
      "model_module": "@jupyter-widgets/base",
      "model_module_version": "1.2.0",
      "model_name": "LayoutModel",
      "state": {}
     },
     "f6cc557cf9b7440c808e10216658a2d5": {
      "model_module": "@jupyter-widgets/controls",
      "model_module_version": "1.5.0",
      "model_name": "ComboboxModel",
      "state": {
       "description": "Enter Name:",
       "ensure_option": false,
       "layout": "IPY_MODEL_add3915d9f0d49348dcab0e6c0a9ae71",
       "placeholder": "Select new name",
       "style": "IPY_MODEL_c5519c5b45a844b3b5d3e394018bfb3a"
      }
     },
     "f77298d993f843e98713b04724d517d3": {
      "model_module": "@jupyter-widgets/controls",
      "model_module_version": "1.5.0",
      "model_name": "VBoxModel",
      "state": {
       "children": [
        "IPY_MODEL_16347f478aff42239acf8136606fe5a6",
        "IPY_MODEL_e60ba10fefc34983a556e6dc1ddfdc99"
       ],
       "layout": "IPY_MODEL_32786e19dfe148ec982a5b8cb5bab8fe"
      }
     },
     "f8447080d3374b88b6ad7a25a5b7bf37": {
      "model_module": "@jupyter-widgets/base",
      "model_module_version": "1.2.0",
      "model_name": "LayoutModel",
      "state": {}
     },
     "f85c14a8485a4f8fa073ceffcb14a893": {
      "model_module": "@jupyter-widgets/base",
      "model_module_version": "1.2.0",
      "model_name": "LayoutModel",
      "state": {}
     },
     "fa56195f18dd450f99f49307b6184aa5": {
      "model_module": "@jupyter-widgets/controls",
      "model_module_version": "1.5.0",
      "model_name": "ButtonStyleModel",
      "state": {}
     },
     "faa3d28b13b24f92aaa5120bef8760d1": {
      "model_module": "@jupyter-widgets/base",
      "model_module_version": "1.2.0",
      "model_name": "LayoutModel",
      "state": {}
     },
     "fae0123ab63043d68e6f698870c2526f": {
      "model_module": "@jupyter-widgets/controls",
      "model_module_version": "1.5.0",
      "model_name": "ButtonModel",
      "state": {
       "description": "Download Results",
       "layout": "IPY_MODEL_5e25d46c78f04ef88aac8979de0d66e8",
       "style": "IPY_MODEL_5028a8c0aefc4e0d91bbf8f78787a83a"
      }
     },
     "fbcf3948e07841d881fc8d5d135fa4e8": {
      "model_module": "@jupyter-widgets/base",
      "model_module_version": "1.2.0",
      "model_name": "LayoutModel",
      "state": {}
     },
     "fcaebd073b51496e83f9617b05ee22dc": {
      "model_module": "@jupyter-widgets/base",
      "model_module_version": "1.2.0",
      "model_name": "LayoutModel",
      "state": {}
     },
     "fcb6868139cc4c778011aa4a83824325": {
      "model_module": "@jupyter-widgets/controls",
      "model_module_version": "1.5.0",
      "model_name": "AccordionModel",
      "state": {
       "_titles": {
        "0": "Slurm Computing Configurations"
       },
       "children": [
        "IPY_MODEL_c355d599b69a449685b274a35ec1b5a0"
       ],
       "layout": "IPY_MODEL_ecd9efae033e41c0b9cf90b25354f24d",
       "selected_index": null
      }
     },
     "fcee2f15b06946f596bb39aacb16f6ef": {
      "model_module": "@jupyter-widgets/base",
      "model_module_version": "1.2.0",
      "model_name": "LayoutModel",
      "state": {}
     },
     "fd762e208a214e428b17f007b9a55423": {
      "model_module": "@jupyter-widgets/controls",
      "model_module_version": "1.5.0",
      "model_name": "HBoxModel",
      "state": {
       "children": [
        "IPY_MODEL_d7593df25c1a4d7891cb691ae5172abc",
        "IPY_MODEL_5dc7e17429de4138b1870200902c4359"
       ],
       "layout": "IPY_MODEL_8e1864742f604e35815b675ff2907b25"
      }
     },
     "ffa0923bf89645d4baab03729c4b4a8a": {
      "model_module": "@jupyter-widgets/base",
      "model_module_version": "1.2.0",
      "model_name": "LayoutModel",
      "state": {}
     }
    },
    "version_major": 2,
    "version_minor": 0
   }
  }
 },
 "nbformat": 4,
 "nbformat_minor": 4
}
